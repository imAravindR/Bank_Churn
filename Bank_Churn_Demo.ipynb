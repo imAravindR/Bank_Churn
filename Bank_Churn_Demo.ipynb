{
  "cells": [
    {
      "cell_type": "markdown",
      "metadata": {
        "id": "6C2Sr-I2QHEx"
      },
      "source": [
        "# Bank Churn Prediction\n",
        "\n",
        "Why Customer retention is important? [source](https://www.dcrstrategies.com/customer-incentives/5-reasons-customer-retention-business/)\n",
        "\n",
        "    1. Save Money On Marketing\n",
        "    2. Repeat Purchases From Repeat Customers Means Repeat Profit\n",
        "    3. Free Word-Of-Mouth Advertising\n",
        "    4. Retained Customers Will Provide Valuable Feedback\n",
        "    5. Previous Customers Will Pay Premium Prices. \n",
        "\n",
        "Why and when will a customer leave his/her bank could be a challenging question to answer.\n",
        "\n",
        "Here, we have a data from kaggle where all the historical information about a customer and whether he/she left the bank or not is available.\n",
        "\n",
        "Our goal is to use the power of data science to help the bank identify those who are likely to leave the bank in future.\n"
      ]
    },
    {
      "cell_type": "markdown",
      "metadata": {
        "id": "haWD5b4nQHE0"
      },
      "source": [
        "# Load Libraries "
      ]
    },
    {
      "cell_type": "code",
      "execution_count": 1,
      "metadata": {
        "id": "eSh51u3KQHE0"
      },
      "outputs": [],
      "source": [
        "import numpy as np\n",
        "import pandas as pd\n",
        "import matplotlib.pyplot as plt\n",
        "import seaborn as sns\n",
        "import os\n",
        "from sklearn.model_selection import train_test_split\n",
        "from sklearn.preprocessing import MinMaxScaler"
      ]
    },
    {
      "cell_type": "markdown",
      "metadata": {
        "id": "L3CWvOySQHE1"
      },
      "source": [
        "# Read Data"
      ]
    },
    {
      "cell_type": "code",
      "execution_count": 4,
      "metadata": {
        "id": "I20C2BQXQHE1",
        "outputId": "a008604a-f1a1-4ffb-957e-c16171fe0124",
        "colab": {
          "base_uri": "https://localhost:8080/",
          "height": 270
        }
      },
      "outputs": [
        {
          "output_type": "execute_result",
          "data": {
            "text/plain": [
              "   RowNumber  CustomerId   Surname  CreditScore Geography  Gender  Age  \\\n",
              "0          1    15634602  Hargrave          619    France  Female   42   \n",
              "1          2    15647311      Hill          608     Spain  Female   41   \n",
              "2          3    15619304      Onio          502    France  Female   42   \n",
              "3          4    15701354      Boni          699    France  Female   39   \n",
              "4          5    15737888  Mitchell          850     Spain  Female   43   \n",
              "\n",
              "   Tenure    Balance  NumOfProducts  HasCrCard  IsActiveMember  \\\n",
              "0       2       0.00              1          1               1   \n",
              "1       1   83807.86              1          0               1   \n",
              "2       8  159660.80              3          1               0   \n",
              "3       1       0.00              2          0               0   \n",
              "4       2  125510.82              1          1               1   \n",
              "\n",
              "   EstimatedSalary  Exited  \n",
              "0        101348.88       1  \n",
              "1        112542.58       0  \n",
              "2        113931.57       1  \n",
              "3         93826.63       0  \n",
              "4         79084.10       0  "
            ],
            "text/html": [
              "\n",
              "  <div id=\"df-e02d9eea-a906-4904-9b27-2b0a4aa98b80\">\n",
              "    <div class=\"colab-df-container\">\n",
              "      <div>\n",
              "<style scoped>\n",
              "    .dataframe tbody tr th:only-of-type {\n",
              "        vertical-align: middle;\n",
              "    }\n",
              "\n",
              "    .dataframe tbody tr th {\n",
              "        vertical-align: top;\n",
              "    }\n",
              "\n",
              "    .dataframe thead th {\n",
              "        text-align: right;\n",
              "    }\n",
              "</style>\n",
              "<table border=\"1\" class=\"dataframe\">\n",
              "  <thead>\n",
              "    <tr style=\"text-align: right;\">\n",
              "      <th></th>\n",
              "      <th>RowNumber</th>\n",
              "      <th>CustomerId</th>\n",
              "      <th>Surname</th>\n",
              "      <th>CreditScore</th>\n",
              "      <th>Geography</th>\n",
              "      <th>Gender</th>\n",
              "      <th>Age</th>\n",
              "      <th>Tenure</th>\n",
              "      <th>Balance</th>\n",
              "      <th>NumOfProducts</th>\n",
              "      <th>HasCrCard</th>\n",
              "      <th>IsActiveMember</th>\n",
              "      <th>EstimatedSalary</th>\n",
              "      <th>Exited</th>\n",
              "    </tr>\n",
              "  </thead>\n",
              "  <tbody>\n",
              "    <tr>\n",
              "      <th>0</th>\n",
              "      <td>1</td>\n",
              "      <td>15634602</td>\n",
              "      <td>Hargrave</td>\n",
              "      <td>619</td>\n",
              "      <td>France</td>\n",
              "      <td>Female</td>\n",
              "      <td>42</td>\n",
              "      <td>2</td>\n",
              "      <td>0.00</td>\n",
              "      <td>1</td>\n",
              "      <td>1</td>\n",
              "      <td>1</td>\n",
              "      <td>101348.88</td>\n",
              "      <td>1</td>\n",
              "    </tr>\n",
              "    <tr>\n",
              "      <th>1</th>\n",
              "      <td>2</td>\n",
              "      <td>15647311</td>\n",
              "      <td>Hill</td>\n",
              "      <td>608</td>\n",
              "      <td>Spain</td>\n",
              "      <td>Female</td>\n",
              "      <td>41</td>\n",
              "      <td>1</td>\n",
              "      <td>83807.86</td>\n",
              "      <td>1</td>\n",
              "      <td>0</td>\n",
              "      <td>1</td>\n",
              "      <td>112542.58</td>\n",
              "      <td>0</td>\n",
              "    </tr>\n",
              "    <tr>\n",
              "      <th>2</th>\n",
              "      <td>3</td>\n",
              "      <td>15619304</td>\n",
              "      <td>Onio</td>\n",
              "      <td>502</td>\n",
              "      <td>France</td>\n",
              "      <td>Female</td>\n",
              "      <td>42</td>\n",
              "      <td>8</td>\n",
              "      <td>159660.80</td>\n",
              "      <td>3</td>\n",
              "      <td>1</td>\n",
              "      <td>0</td>\n",
              "      <td>113931.57</td>\n",
              "      <td>1</td>\n",
              "    </tr>\n",
              "    <tr>\n",
              "      <th>3</th>\n",
              "      <td>4</td>\n",
              "      <td>15701354</td>\n",
              "      <td>Boni</td>\n",
              "      <td>699</td>\n",
              "      <td>France</td>\n",
              "      <td>Female</td>\n",
              "      <td>39</td>\n",
              "      <td>1</td>\n",
              "      <td>0.00</td>\n",
              "      <td>2</td>\n",
              "      <td>0</td>\n",
              "      <td>0</td>\n",
              "      <td>93826.63</td>\n",
              "      <td>0</td>\n",
              "    </tr>\n",
              "    <tr>\n",
              "      <th>4</th>\n",
              "      <td>5</td>\n",
              "      <td>15737888</td>\n",
              "      <td>Mitchell</td>\n",
              "      <td>850</td>\n",
              "      <td>Spain</td>\n",
              "      <td>Female</td>\n",
              "      <td>43</td>\n",
              "      <td>2</td>\n",
              "      <td>125510.82</td>\n",
              "      <td>1</td>\n",
              "      <td>1</td>\n",
              "      <td>1</td>\n",
              "      <td>79084.10</td>\n",
              "      <td>0</td>\n",
              "    </tr>\n",
              "  </tbody>\n",
              "</table>\n",
              "</div>\n",
              "      <button class=\"colab-df-convert\" onclick=\"convertToInteractive('df-e02d9eea-a906-4904-9b27-2b0a4aa98b80')\"\n",
              "              title=\"Convert this dataframe to an interactive table.\"\n",
              "              style=\"display:none;\">\n",
              "        \n",
              "  <svg xmlns=\"http://www.w3.org/2000/svg\" height=\"24px\"viewBox=\"0 0 24 24\"\n",
              "       width=\"24px\">\n",
              "    <path d=\"M0 0h24v24H0V0z\" fill=\"none\"/>\n",
              "    <path d=\"M18.56 5.44l.94 2.06.94-2.06 2.06-.94-2.06-.94-.94-2.06-.94 2.06-2.06.94zm-11 1L8.5 8.5l.94-2.06 2.06-.94-2.06-.94L8.5 2.5l-.94 2.06-2.06.94zm10 10l.94 2.06.94-2.06 2.06-.94-2.06-.94-.94-2.06-.94 2.06-2.06.94z\"/><path d=\"M17.41 7.96l-1.37-1.37c-.4-.4-.92-.59-1.43-.59-.52 0-1.04.2-1.43.59L10.3 9.45l-7.72 7.72c-.78.78-.78 2.05 0 2.83L4 21.41c.39.39.9.59 1.41.59.51 0 1.02-.2 1.41-.59l7.78-7.78 2.81-2.81c.8-.78.8-2.07 0-2.86zM5.41 20L4 18.59l7.72-7.72 1.47 1.35L5.41 20z\"/>\n",
              "  </svg>\n",
              "      </button>\n",
              "      \n",
              "  <style>\n",
              "    .colab-df-container {\n",
              "      display:flex;\n",
              "      flex-wrap:wrap;\n",
              "      gap: 12px;\n",
              "    }\n",
              "\n",
              "    .colab-df-convert {\n",
              "      background-color: #E8F0FE;\n",
              "      border: none;\n",
              "      border-radius: 50%;\n",
              "      cursor: pointer;\n",
              "      display: none;\n",
              "      fill: #1967D2;\n",
              "      height: 32px;\n",
              "      padding: 0 0 0 0;\n",
              "      width: 32px;\n",
              "    }\n",
              "\n",
              "    .colab-df-convert:hover {\n",
              "      background-color: #E2EBFA;\n",
              "      box-shadow: 0px 1px 2px rgba(60, 64, 67, 0.3), 0px 1px 3px 1px rgba(60, 64, 67, 0.15);\n",
              "      fill: #174EA6;\n",
              "    }\n",
              "\n",
              "    [theme=dark] .colab-df-convert {\n",
              "      background-color: #3B4455;\n",
              "      fill: #D2E3FC;\n",
              "    }\n",
              "\n",
              "    [theme=dark] .colab-df-convert:hover {\n",
              "      background-color: #434B5C;\n",
              "      box-shadow: 0px 1px 3px 1px rgba(0, 0, 0, 0.15);\n",
              "      filter: drop-shadow(0px 1px 2px rgba(0, 0, 0, 0.3));\n",
              "      fill: #FFFFFF;\n",
              "    }\n",
              "  </style>\n",
              "\n",
              "      <script>\n",
              "        const buttonEl =\n",
              "          document.querySelector('#df-e02d9eea-a906-4904-9b27-2b0a4aa98b80 button.colab-df-convert');\n",
              "        buttonEl.style.display =\n",
              "          google.colab.kernel.accessAllowed ? 'block' : 'none';\n",
              "\n",
              "        async function convertToInteractive(key) {\n",
              "          const element = document.querySelector('#df-e02d9eea-a906-4904-9b27-2b0a4aa98b80');\n",
              "          const dataTable =\n",
              "            await google.colab.kernel.invokeFunction('convertToInteractive',\n",
              "                                                     [key], {});\n",
              "          if (!dataTable) return;\n",
              "\n",
              "          const docLinkHtml = 'Like what you see? Visit the ' +\n",
              "            '<a target=\"_blank\" href=https://colab.research.google.com/notebooks/data_table.ipynb>data table notebook</a>'\n",
              "            + ' to learn more about interactive tables.';\n",
              "          element.innerHTML = '';\n",
              "          dataTable['output_type'] = 'display_data';\n",
              "          await google.colab.output.renderOutput(dataTable, element);\n",
              "          const docLink = document.createElement('div');\n",
              "          docLink.innerHTML = docLinkHtml;\n",
              "          element.appendChild(docLink);\n",
              "        }\n",
              "      </script>\n",
              "    </div>\n",
              "  </div>\n",
              "  "
            ]
          },
          "metadata": {},
          "execution_count": 4
        }
      ],
      "source": [
        "# source - https://www.kaggle.com/adammaus/predicting-churn-for-bank-customers\n",
        "bank_data = pd.read_csv('Churn_Modelling.csv')\n",
        "bank_data.head()"
      ]
    },
    {
      "cell_type": "code",
      "execution_count": 5,
      "metadata": {
        "id": "-V4BAim6QHE2",
        "outputId": "42e38368-2da1-45fd-c7a6-01ff9bb9680d",
        "colab": {
          "base_uri": "https://localhost:8080/"
        }
      },
      "outputs": [
        {
          "output_type": "stream",
          "name": "stdout",
          "text": [
            "Number of Rows: 10000 \n",
            "Number of Columns: 14\n"
          ]
        }
      ],
      "source": [
        "# Dimensions\n",
        "print(\"Number of Rows: {} \\nNumber of Columns: {}\".format(bank_data.shape[0],bank_data.shape[1]))"
      ]
    },
    {
      "cell_type": "code",
      "execution_count": 6,
      "metadata": {
        "id": "r0PbAPo6QHE3",
        "outputId": "fb498997-6a99-422c-f68f-87da52a5b583",
        "colab": {
          "base_uri": "https://localhost:8080/"
        }
      },
      "outputs": [
        {
          "output_type": "stream",
          "name": "stdout",
          "text": [
            "                DataType  # missing rows  # Unique values\n",
            "RowNumber          int64               0            10000\n",
            "CustomerId         int64               0            10000\n",
            "Surname           object               0             2932\n",
            "CreditScore        int64               0              460\n",
            "Geography         object               0                3\n",
            "Gender            object               0                2\n",
            "Age                int64               0               70\n",
            "Tenure             int64               0               11\n",
            "Balance          float64               0             6382\n",
            "NumOfProducts      int64               0                4\n",
            "HasCrCard          int64               0                2\n",
            "IsActiveMember     int64               0                2\n",
            "EstimatedSalary  float64               0             9999\n",
            "Exited             int64               0                2\n"
          ]
        }
      ],
      "source": [
        "# data types, missing values and number of uniques\n",
        "bank_data_info = pd.concat([pd.DataFrame(bank_data.dtypes),pd.DataFrame(bank_data.isnull().sum()),pd.DataFrame(bank_data.nunique())],axis = 1)\n",
        "bank_data_info.columns = ['DataType','# missing rows','# Unique values']\n",
        "print(bank_data_info)\n",
        "del bank_data_info\n"
      ]
    },
    {
      "cell_type": "markdown",
      "metadata": {
        "id": "mH5xyVIjQHE3"
      },
      "source": [
        "The data has 10000 rows and columns. \n",
        "\n",
        "Let's see the data description."
      ]
    },
    {
      "cell_type": "markdown",
      "metadata": {
        "id": "l7vRsl5QQHE3"
      },
      "source": [
        "# Data Description"
      ]
    },
    {
      "cell_type": "markdown",
      "metadata": {
        "id": "Nkr21pzjQHE3"
      },
      "source": [
        "1. RowNumber: Just a index number assigned to each row. Type : int64\n",
        "2. CustomerId: Id of each customer of the bank. Type : int64\n",
        "3. Surname: Surname of the customer. Type : Object\n",
        "4. CreditScore: The measure of an individual's ability to payback the borrowed amount. Higher it is the better. Type : int64\n",
        "5. Geography: Country of the customer. Type : Object. Values: [France, Germany, Spain]\n",
        "6. Gender: Customer's gender. Type : Object. Values: [Male / Female]\n",
        "7. Age: Age of the customer. Type : int64\n",
        "8. Tenure: Duration for which the loan amount is sanctioned.Assuming it to be in years Type : int64\n",
        "9. Balance: The amount of money the customer has available in his account. Type: int64\n",
        "10. NumOfProducts: How many accounts, bank account affiliated products the person has. Type: int64\n",
        "11. HasCrCard: whether the person holds a credit card or not. 1 means he/she has a credit card and 0 means he/she doesn't. Type: int64\n",
        "12. IsActiveMember: Whether the customer is actively using the account. However, the values are subjective. Type: int64\n",
        "13. EstimatedSalary: The person's approximate salary. Type: float64\n",
        "14. Exited: Whether the customer has left the bank or not. 1 means he/she left and 0 means he/she didn't. Type: int64"
      ]
    },
    {
      "cell_type": "markdown",
      "metadata": {
        "id": "XnG7mk2kQHE4"
      },
      "source": [
        "From the above, we will not require RowNumber, CustomerId, and Surname are related to individuals."
      ]
    },
    {
      "cell_type": "code",
      "execution_count": 7,
      "metadata": {
        "id": "ilApHL3sQHE4",
        "outputId": "a16e53b8-cec2-49e6-a6e7-079c424d4738",
        "colab": {
          "base_uri": "https://localhost:8080/",
          "height": 270
        }
      },
      "outputs": [
        {
          "output_type": "execute_result",
          "data": {
            "text/plain": [
              "      CreditScore Geography  Gender  Age  Tenure    Balance  NumOfProducts  \\\n",
              "9995          771    France    Male   39       5       0.00              2   \n",
              "9996          516    France    Male   35      10   57369.61              1   \n",
              "9997          709    France  Female   36       7       0.00              1   \n",
              "9998          772   Germany    Male   42       3   75075.31              2   \n",
              "9999          792    France  Female   28       4  130142.79              1   \n",
              "\n",
              "      HasCrCard  IsActiveMember  EstimatedSalary  Exited  \n",
              "9995          1               0         96270.64       0  \n",
              "9996          1               1        101699.77       0  \n",
              "9997          0               1         42085.58       1  \n",
              "9998          1               0         92888.52       1  \n",
              "9999          1               0         38190.78       0  "
            ],
            "text/html": [
              "\n",
              "  <div id=\"df-f7d78d23-5251-4411-b049-1c2fb05bfacf\">\n",
              "    <div class=\"colab-df-container\">\n",
              "      <div>\n",
              "<style scoped>\n",
              "    .dataframe tbody tr th:only-of-type {\n",
              "        vertical-align: middle;\n",
              "    }\n",
              "\n",
              "    .dataframe tbody tr th {\n",
              "        vertical-align: top;\n",
              "    }\n",
              "\n",
              "    .dataframe thead th {\n",
              "        text-align: right;\n",
              "    }\n",
              "</style>\n",
              "<table border=\"1\" class=\"dataframe\">\n",
              "  <thead>\n",
              "    <tr style=\"text-align: right;\">\n",
              "      <th></th>\n",
              "      <th>CreditScore</th>\n",
              "      <th>Geography</th>\n",
              "      <th>Gender</th>\n",
              "      <th>Age</th>\n",
              "      <th>Tenure</th>\n",
              "      <th>Balance</th>\n",
              "      <th>NumOfProducts</th>\n",
              "      <th>HasCrCard</th>\n",
              "      <th>IsActiveMember</th>\n",
              "      <th>EstimatedSalary</th>\n",
              "      <th>Exited</th>\n",
              "    </tr>\n",
              "  </thead>\n",
              "  <tbody>\n",
              "    <tr>\n",
              "      <th>9995</th>\n",
              "      <td>771</td>\n",
              "      <td>France</td>\n",
              "      <td>Male</td>\n",
              "      <td>39</td>\n",
              "      <td>5</td>\n",
              "      <td>0.00</td>\n",
              "      <td>2</td>\n",
              "      <td>1</td>\n",
              "      <td>0</td>\n",
              "      <td>96270.64</td>\n",
              "      <td>0</td>\n",
              "    </tr>\n",
              "    <tr>\n",
              "      <th>9996</th>\n",
              "      <td>516</td>\n",
              "      <td>France</td>\n",
              "      <td>Male</td>\n",
              "      <td>35</td>\n",
              "      <td>10</td>\n",
              "      <td>57369.61</td>\n",
              "      <td>1</td>\n",
              "      <td>1</td>\n",
              "      <td>1</td>\n",
              "      <td>101699.77</td>\n",
              "      <td>0</td>\n",
              "    </tr>\n",
              "    <tr>\n",
              "      <th>9997</th>\n",
              "      <td>709</td>\n",
              "      <td>France</td>\n",
              "      <td>Female</td>\n",
              "      <td>36</td>\n",
              "      <td>7</td>\n",
              "      <td>0.00</td>\n",
              "      <td>1</td>\n",
              "      <td>0</td>\n",
              "      <td>1</td>\n",
              "      <td>42085.58</td>\n",
              "      <td>1</td>\n",
              "    </tr>\n",
              "    <tr>\n",
              "      <th>9998</th>\n",
              "      <td>772</td>\n",
              "      <td>Germany</td>\n",
              "      <td>Male</td>\n",
              "      <td>42</td>\n",
              "      <td>3</td>\n",
              "      <td>75075.31</td>\n",
              "      <td>2</td>\n",
              "      <td>1</td>\n",
              "      <td>0</td>\n",
              "      <td>92888.52</td>\n",
              "      <td>1</td>\n",
              "    </tr>\n",
              "    <tr>\n",
              "      <th>9999</th>\n",
              "      <td>792</td>\n",
              "      <td>France</td>\n",
              "      <td>Female</td>\n",
              "      <td>28</td>\n",
              "      <td>4</td>\n",
              "      <td>130142.79</td>\n",
              "      <td>1</td>\n",
              "      <td>1</td>\n",
              "      <td>0</td>\n",
              "      <td>38190.78</td>\n",
              "      <td>0</td>\n",
              "    </tr>\n",
              "  </tbody>\n",
              "</table>\n",
              "</div>\n",
              "      <button class=\"colab-df-convert\" onclick=\"convertToInteractive('df-f7d78d23-5251-4411-b049-1c2fb05bfacf')\"\n",
              "              title=\"Convert this dataframe to an interactive table.\"\n",
              "              style=\"display:none;\">\n",
              "        \n",
              "  <svg xmlns=\"http://www.w3.org/2000/svg\" height=\"24px\"viewBox=\"0 0 24 24\"\n",
              "       width=\"24px\">\n",
              "    <path d=\"M0 0h24v24H0V0z\" fill=\"none\"/>\n",
              "    <path d=\"M18.56 5.44l.94 2.06.94-2.06 2.06-.94-2.06-.94-.94-2.06-.94 2.06-2.06.94zm-11 1L8.5 8.5l.94-2.06 2.06-.94-2.06-.94L8.5 2.5l-.94 2.06-2.06.94zm10 10l.94 2.06.94-2.06 2.06-.94-2.06-.94-.94-2.06-.94 2.06-2.06.94z\"/><path d=\"M17.41 7.96l-1.37-1.37c-.4-.4-.92-.59-1.43-.59-.52 0-1.04.2-1.43.59L10.3 9.45l-7.72 7.72c-.78.78-.78 2.05 0 2.83L4 21.41c.39.39.9.59 1.41.59.51 0 1.02-.2 1.41-.59l7.78-7.78 2.81-2.81c.8-.78.8-2.07 0-2.86zM5.41 20L4 18.59l7.72-7.72 1.47 1.35L5.41 20z\"/>\n",
              "  </svg>\n",
              "      </button>\n",
              "      \n",
              "  <style>\n",
              "    .colab-df-container {\n",
              "      display:flex;\n",
              "      flex-wrap:wrap;\n",
              "      gap: 12px;\n",
              "    }\n",
              "\n",
              "    .colab-df-convert {\n",
              "      background-color: #E8F0FE;\n",
              "      border: none;\n",
              "      border-radius: 50%;\n",
              "      cursor: pointer;\n",
              "      display: none;\n",
              "      fill: #1967D2;\n",
              "      height: 32px;\n",
              "      padding: 0 0 0 0;\n",
              "      width: 32px;\n",
              "    }\n",
              "\n",
              "    .colab-df-convert:hover {\n",
              "      background-color: #E2EBFA;\n",
              "      box-shadow: 0px 1px 2px rgba(60, 64, 67, 0.3), 0px 1px 3px 1px rgba(60, 64, 67, 0.15);\n",
              "      fill: #174EA6;\n",
              "    }\n",
              "\n",
              "    [theme=dark] .colab-df-convert {\n",
              "      background-color: #3B4455;\n",
              "      fill: #D2E3FC;\n",
              "    }\n",
              "\n",
              "    [theme=dark] .colab-df-convert:hover {\n",
              "      background-color: #434B5C;\n",
              "      box-shadow: 0px 1px 3px 1px rgba(0, 0, 0, 0.15);\n",
              "      filter: drop-shadow(0px 1px 2px rgba(0, 0, 0, 0.3));\n",
              "      fill: #FFFFFF;\n",
              "    }\n",
              "  </style>\n",
              "\n",
              "      <script>\n",
              "        const buttonEl =\n",
              "          document.querySelector('#df-f7d78d23-5251-4411-b049-1c2fb05bfacf button.colab-df-convert');\n",
              "        buttonEl.style.display =\n",
              "          google.colab.kernel.accessAllowed ? 'block' : 'none';\n",
              "\n",
              "        async function convertToInteractive(key) {\n",
              "          const element = document.querySelector('#df-f7d78d23-5251-4411-b049-1c2fb05bfacf');\n",
              "          const dataTable =\n",
              "            await google.colab.kernel.invokeFunction('convertToInteractive',\n",
              "                                                     [key], {});\n",
              "          if (!dataTable) return;\n",
              "\n",
              "          const docLinkHtml = 'Like what you see? Visit the ' +\n",
              "            '<a target=\"_blank\" href=https://colab.research.google.com/notebooks/data_table.ipynb>data table notebook</a>'\n",
              "            + ' to learn more about interactive tables.';\n",
              "          element.innerHTML = '';\n",
              "          dataTable['output_type'] = 'display_data';\n",
              "          await google.colab.output.renderOutput(dataTable, element);\n",
              "          const docLink = document.createElement('div');\n",
              "          docLink.innerHTML = docLinkHtml;\n",
              "          element.appendChild(docLink);\n",
              "        }\n",
              "      </script>\n",
              "    </div>\n",
              "  </div>\n",
              "  "
            ]
          },
          "metadata": {},
          "execution_count": 7
        }
      ],
      "source": [
        "# drop columns RowNumber, CustomerId, and Surname\n",
        "bank_data.drop([\"RowNumber\", \"CustomerId\", \"Surname\"], axis = 1,inplace = True)\n",
        "bank_data.tail()"
      ]
    },
    {
      "cell_type": "markdown",
      "metadata": {
        "id": "ciXE8FUeQHE6"
      },
      "source": [
        "# Exploratory Data Analysis (EDA)\n",
        "\n",
        "The purpose of EDA is to understand how different variables are related to our target (Exited) variable."
      ]
    },
    {
      "cell_type": "code",
      "execution_count": 8,
      "metadata": {
        "id": "gK7ehuzxQHE6",
        "outputId": "125332e0-61f7-49b2-d7fb-d1f97c9ea506",
        "colab": {
          "base_uri": "https://localhost:8080/"
        }
      },
      "outputs": [
        {
          "output_type": "execute_result",
          "data": {
            "text/plain": [
              "0    7963\n",
              "1    2037\n",
              "Name: Exited, dtype: int64"
            ]
          },
          "metadata": {},
          "execution_count": 8
        }
      ],
      "source": [
        "bank_data['Exited'].value_counts()"
      ]
    },
    {
      "cell_type": "code",
      "execution_count": 9,
      "metadata": {
        "id": "r3n6nVBDQHE6",
        "outputId": "7265d6eb-b662-421e-b23d-d5892bd23941",
        "colab": {
          "base_uri": "https://localhost:8080/",
          "height": 542
        }
      },
      "outputs": [
        {
          "output_type": "display_data",
          "data": {
            "text/html": [
              "<html>\n",
              "<head><meta charset=\"utf-8\" /></head>\n",
              "<body>\n",
              "    <div>            <script src=\"https://cdnjs.cloudflare.com/ajax/libs/mathjax/2.7.5/MathJax.js?config=TeX-AMS-MML_SVG\"></script><script type=\"text/javascript\">if (window.MathJax) {MathJax.Hub.Config({SVG: {font: \"STIX-Web\"}});}</script>                <script type=\"text/javascript\">window.PlotlyConfig = {MathJaxConfig: 'local'};</script>\n",
              "        <script src=\"https://cdn.plot.ly/plotly-2.8.3.min.js\"></script>                <div id=\"d48b00da-81d9-4689-bfaf-750e432a0efc\" class=\"plotly-graph-div\" style=\"height:525px; width:100%;\"></div>            <script type=\"text/javascript\">                                    window.PLOTLYENV=window.PLOTLYENV || {};                                    if (document.getElementById(\"d48b00da-81d9-4689-bfaf-750e432a0efc\")) {                    Plotly.newPlot(                        \"d48b00da-81d9-4689-bfaf-750e432a0efc\",                        [{\"labels\":[\"Exited\",\"Continued\"],\"values\":[2037,7963],\"type\":\"pie\",\"textfont\":{\"size\":20},\"marker\":{\"line\":{\"color\":\"#000000\",\"width\":2},\"colors\":[\"red\",\"darkorange\"]},\"hole\":0.4,\"hoverinfo\":\"label+value\"}],                        {\"template\":{\"data\":{\"bar\":[{\"error_x\":{\"color\":\"#2a3f5f\"},\"error_y\":{\"color\":\"#2a3f5f\"},\"marker\":{\"line\":{\"color\":\"#E5ECF6\",\"width\":0.5},\"pattern\":{\"fillmode\":\"overlay\",\"size\":10,\"solidity\":0.2}},\"type\":\"bar\"}],\"barpolar\":[{\"marker\":{\"line\":{\"color\":\"#E5ECF6\",\"width\":0.5},\"pattern\":{\"fillmode\":\"overlay\",\"size\":10,\"solidity\":0.2}},\"type\":\"barpolar\"}],\"carpet\":[{\"aaxis\":{\"endlinecolor\":\"#2a3f5f\",\"gridcolor\":\"white\",\"linecolor\":\"white\",\"minorgridcolor\":\"white\",\"startlinecolor\":\"#2a3f5f\"},\"baxis\":{\"endlinecolor\":\"#2a3f5f\",\"gridcolor\":\"white\",\"linecolor\":\"white\",\"minorgridcolor\":\"white\",\"startlinecolor\":\"#2a3f5f\"},\"type\":\"carpet\"}],\"choropleth\":[{\"colorbar\":{\"outlinewidth\":0,\"ticks\":\"\"},\"type\":\"choropleth\"}],\"contour\":[{\"colorbar\":{\"outlinewidth\":0,\"ticks\":\"\"},\"colorscale\":[[0.0,\"#0d0887\"],[0.1111111111111111,\"#46039f\"],[0.2222222222222222,\"#7201a8\"],[0.3333333333333333,\"#9c179e\"],[0.4444444444444444,\"#bd3786\"],[0.5555555555555556,\"#d8576b\"],[0.6666666666666666,\"#ed7953\"],[0.7777777777777778,\"#fb9f3a\"],[0.8888888888888888,\"#fdca26\"],[1.0,\"#f0f921\"]],\"type\":\"contour\"}],\"contourcarpet\":[{\"colorbar\":{\"outlinewidth\":0,\"ticks\":\"\"},\"type\":\"contourcarpet\"}],\"heatmap\":[{\"colorbar\":{\"outlinewidth\":0,\"ticks\":\"\"},\"colorscale\":[[0.0,\"#0d0887\"],[0.1111111111111111,\"#46039f\"],[0.2222222222222222,\"#7201a8\"],[0.3333333333333333,\"#9c179e\"],[0.4444444444444444,\"#bd3786\"],[0.5555555555555556,\"#d8576b\"],[0.6666666666666666,\"#ed7953\"],[0.7777777777777778,\"#fb9f3a\"],[0.8888888888888888,\"#fdca26\"],[1.0,\"#f0f921\"]],\"type\":\"heatmap\"}],\"heatmapgl\":[{\"colorbar\":{\"outlinewidth\":0,\"ticks\":\"\"},\"colorscale\":[[0.0,\"#0d0887\"],[0.1111111111111111,\"#46039f\"],[0.2222222222222222,\"#7201a8\"],[0.3333333333333333,\"#9c179e\"],[0.4444444444444444,\"#bd3786\"],[0.5555555555555556,\"#d8576b\"],[0.6666666666666666,\"#ed7953\"],[0.7777777777777778,\"#fb9f3a\"],[0.8888888888888888,\"#fdca26\"],[1.0,\"#f0f921\"]],\"type\":\"heatmapgl\"}],\"histogram\":[{\"marker\":{\"pattern\":{\"fillmode\":\"overlay\",\"size\":10,\"solidity\":0.2}},\"type\":\"histogram\"}],\"histogram2d\":[{\"colorbar\":{\"outlinewidth\":0,\"ticks\":\"\"},\"colorscale\":[[0.0,\"#0d0887\"],[0.1111111111111111,\"#46039f\"],[0.2222222222222222,\"#7201a8\"],[0.3333333333333333,\"#9c179e\"],[0.4444444444444444,\"#bd3786\"],[0.5555555555555556,\"#d8576b\"],[0.6666666666666666,\"#ed7953\"],[0.7777777777777778,\"#fb9f3a\"],[0.8888888888888888,\"#fdca26\"],[1.0,\"#f0f921\"]],\"type\":\"histogram2d\"}],\"histogram2dcontour\":[{\"colorbar\":{\"outlinewidth\":0,\"ticks\":\"\"},\"colorscale\":[[0.0,\"#0d0887\"],[0.1111111111111111,\"#46039f\"],[0.2222222222222222,\"#7201a8\"],[0.3333333333333333,\"#9c179e\"],[0.4444444444444444,\"#bd3786\"],[0.5555555555555556,\"#d8576b\"],[0.6666666666666666,\"#ed7953\"],[0.7777777777777778,\"#fb9f3a\"],[0.8888888888888888,\"#fdca26\"],[1.0,\"#f0f921\"]],\"type\":\"histogram2dcontour\"}],\"mesh3d\":[{\"colorbar\":{\"outlinewidth\":0,\"ticks\":\"\"},\"type\":\"mesh3d\"}],\"parcoords\":[{\"line\":{\"colorbar\":{\"outlinewidth\":0,\"ticks\":\"\"}},\"type\":\"parcoords\"}],\"pie\":[{\"automargin\":true,\"type\":\"pie\"}],\"scatter\":[{\"marker\":{\"colorbar\":{\"outlinewidth\":0,\"ticks\":\"\"}},\"type\":\"scatter\"}],\"scatter3d\":[{\"line\":{\"colorbar\":{\"outlinewidth\":0,\"ticks\":\"\"}},\"marker\":{\"colorbar\":{\"outlinewidth\":0,\"ticks\":\"\"}},\"type\":\"scatter3d\"}],\"scattercarpet\":[{\"marker\":{\"colorbar\":{\"outlinewidth\":0,\"ticks\":\"\"}},\"type\":\"scattercarpet\"}],\"scattergeo\":[{\"marker\":{\"colorbar\":{\"outlinewidth\":0,\"ticks\":\"\"}},\"type\":\"scattergeo\"}],\"scattergl\":[{\"marker\":{\"colorbar\":{\"outlinewidth\":0,\"ticks\":\"\"}},\"type\":\"scattergl\"}],\"scattermapbox\":[{\"marker\":{\"colorbar\":{\"outlinewidth\":0,\"ticks\":\"\"}},\"type\":\"scattermapbox\"}],\"scatterpolar\":[{\"marker\":{\"colorbar\":{\"outlinewidth\":0,\"ticks\":\"\"}},\"type\":\"scatterpolar\"}],\"scatterpolargl\":[{\"marker\":{\"colorbar\":{\"outlinewidth\":0,\"ticks\":\"\"}},\"type\":\"scatterpolargl\"}],\"scatterternary\":[{\"marker\":{\"colorbar\":{\"outlinewidth\":0,\"ticks\":\"\"}},\"type\":\"scatterternary\"}],\"surface\":[{\"colorbar\":{\"outlinewidth\":0,\"ticks\":\"\"},\"colorscale\":[[0.0,\"#0d0887\"],[0.1111111111111111,\"#46039f\"],[0.2222222222222222,\"#7201a8\"],[0.3333333333333333,\"#9c179e\"],[0.4444444444444444,\"#bd3786\"],[0.5555555555555556,\"#d8576b\"],[0.6666666666666666,\"#ed7953\"],[0.7777777777777778,\"#fb9f3a\"],[0.8888888888888888,\"#fdca26\"],[1.0,\"#f0f921\"]],\"type\":\"surface\"}],\"table\":[{\"cells\":{\"fill\":{\"color\":\"#EBF0F8\"},\"line\":{\"color\":\"white\"}},\"header\":{\"fill\":{\"color\":\"#C8D4E3\"},\"line\":{\"color\":\"white\"}},\"type\":\"table\"}]},\"layout\":{\"annotationdefaults\":{\"arrowcolor\":\"#2a3f5f\",\"arrowhead\":0,\"arrowwidth\":1},\"autotypenumbers\":\"strict\",\"coloraxis\":{\"colorbar\":{\"outlinewidth\":0,\"ticks\":\"\"}},\"colorscale\":{\"diverging\":[[0,\"#8e0152\"],[0.1,\"#c51b7d\"],[0.2,\"#de77ae\"],[0.3,\"#f1b6da\"],[0.4,\"#fde0ef\"],[0.5,\"#f7f7f7\"],[0.6,\"#e6f5d0\"],[0.7,\"#b8e186\"],[0.8,\"#7fbc41\"],[0.9,\"#4d9221\"],[1,\"#276419\"]],\"sequential\":[[0.0,\"#0d0887\"],[0.1111111111111111,\"#46039f\"],[0.2222222222222222,\"#7201a8\"],[0.3333333333333333,\"#9c179e\"],[0.4444444444444444,\"#bd3786\"],[0.5555555555555556,\"#d8576b\"],[0.6666666666666666,\"#ed7953\"],[0.7777777777777778,\"#fb9f3a\"],[0.8888888888888888,\"#fdca26\"],[1.0,\"#f0f921\"]],\"sequentialminus\":[[0.0,\"#0d0887\"],[0.1111111111111111,\"#46039f\"],[0.2222222222222222,\"#7201a8\"],[0.3333333333333333,\"#9c179e\"],[0.4444444444444444,\"#bd3786\"],[0.5555555555555556,\"#d8576b\"],[0.6666666666666666,\"#ed7953\"],[0.7777777777777778,\"#fb9f3a\"],[0.8888888888888888,\"#fdca26\"],[1.0,\"#f0f921\"]]},\"colorway\":[\"#636efa\",\"#EF553B\",\"#00cc96\",\"#ab63fa\",\"#FFA15A\",\"#19d3f3\",\"#FF6692\",\"#B6E880\",\"#FF97FF\",\"#FECB52\"],\"font\":{\"color\":\"#2a3f5f\"},\"geo\":{\"bgcolor\":\"white\",\"lakecolor\":\"white\",\"landcolor\":\"#E5ECF6\",\"showlakes\":true,\"showland\":true,\"subunitcolor\":\"white\"},\"hoverlabel\":{\"align\":\"left\"},\"hovermode\":\"closest\",\"mapbox\":{\"style\":\"light\"},\"paper_bgcolor\":\"white\",\"plot_bgcolor\":\"#E5ECF6\",\"polar\":{\"angularaxis\":{\"gridcolor\":\"white\",\"linecolor\":\"white\",\"ticks\":\"\"},\"bgcolor\":\"#E5ECF6\",\"radialaxis\":{\"gridcolor\":\"white\",\"linecolor\":\"white\",\"ticks\":\"\"}},\"scene\":{\"xaxis\":{\"backgroundcolor\":\"#E5ECF6\",\"gridcolor\":\"white\",\"gridwidth\":2,\"linecolor\":\"white\",\"showbackground\":true,\"ticks\":\"\",\"zerolinecolor\":\"white\"},\"yaxis\":{\"backgroundcolor\":\"#E5ECF6\",\"gridcolor\":\"white\",\"gridwidth\":2,\"linecolor\":\"white\",\"showbackground\":true,\"ticks\":\"\",\"zerolinecolor\":\"white\"},\"zaxis\":{\"backgroundcolor\":\"#E5ECF6\",\"gridcolor\":\"white\",\"gridwidth\":2,\"linecolor\":\"white\",\"showbackground\":true,\"ticks\":\"\",\"zerolinecolor\":\"white\"}},\"shapedefaults\":{\"line\":{\"color\":\"#2a3f5f\"}},\"ternary\":{\"aaxis\":{\"gridcolor\":\"white\",\"linecolor\":\"white\",\"ticks\":\"\"},\"baxis\":{\"gridcolor\":\"white\",\"linecolor\":\"white\",\"ticks\":\"\"},\"bgcolor\":\"#E5ECF6\",\"caxis\":{\"gridcolor\":\"white\",\"linecolor\":\"white\",\"ticks\":\"\"}},\"title\":{\"x\":0.05},\"xaxis\":{\"automargin\":true,\"gridcolor\":\"white\",\"linecolor\":\"white\",\"ticks\":\"\",\"title\":{\"standoff\":15},\"zerolinecolor\":\"white\",\"zerolinewidth\":2},\"yaxis\":{\"automargin\":true,\"gridcolor\":\"white\",\"linecolor\":\"white\",\"ticks\":\"\",\"title\":{\"standoff\":15},\"zerolinecolor\":\"white\",\"zerolinewidth\":2}}},\"title\":{\"text\":\"Ratio of Customer Churned and Retained\"}},                        {\"responsive\": true}                    ).then(function(){\n",
              "                            \n",
              "var gd = document.getElementById('d48b00da-81d9-4689-bfaf-750e432a0efc');\n",
              "var x = new MutationObserver(function (mutations, observer) {{\n",
              "        var display = window.getComputedStyle(gd).display;\n",
              "        if (!display || display === 'none') {{\n",
              "            console.log([gd, 'removed!']);\n",
              "            Plotly.purge(gd);\n",
              "            observer.disconnect();\n",
              "        }}\n",
              "}});\n",
              "\n",
              "// Listen for the removal of the full notebook cells\n",
              "var notebookContainer = gd.closest('#notebook-container');\n",
              "if (notebookContainer) {{\n",
              "    x.observe(notebookContainer, {childList: true});\n",
              "}}\n",
              "\n",
              "// Listen for the clearing of the current output cell\n",
              "var outputEl = gd.closest('.output');\n",
              "if (outputEl) {{\n",
              "    x.observe(outputEl, {childList: true});\n",
              "}}\n",
              "\n",
              "                        })                };                            </script>        </div>\n",
              "</body>\n",
              "</html>"
            ]
          },
          "metadata": {}
        }
      ],
      "source": [
        "import plotly.graph_objects as go\n",
        "\n",
        "labels = ['Exited','Continued']\n",
        "values =  [bank_data.Exited[bank_data['Exited']==1].count(), bank_data.Exited[bank_data['Exited']==0].count()]\n",
        "colors = ['red', 'darkorange']\n",
        "fig = go.Figure(data=[go.Pie(labels=labels, values=values)])\n",
        "fig.update_traces(hole=.4, hoverinfo='label+value',  textfont_size=20,\n",
        "                  marker=dict(colors=colors, line=dict(color='#000000', width=2)))\n",
        "fig.update_layout(\n",
        "    title_text=\"Ratio of Customer Churned and Retained\")\n",
        "fig.show()"
      ]
    },
    {
      "cell_type": "markdown",
      "metadata": {
        "id": "PH9VOcBIQHE7"
      },
      "source": [
        "From the above, we can see that the data is imbalanced. Almost 80% of customers have continued while 20% churned out. We need to take this into consideration while evaluating the model's accuracy because, even if we predict all the customers to be continued, we will still end up getting 80% accuracy. Our focus should be on churn rate i.e., on the minority class - 'Exited'"
      ]
    },
    {
      "cell_type": "markdown",
      "metadata": {
        "id": "idx-VE0aQHE7"
      },
      "source": [
        "### Gender \n",
        "\n",
        "Who stays longer? Male or Female?"
      ]
    },
    {
      "cell_type": "code",
      "execution_count": 10,
      "metadata": {
        "id": "-f0JV3D6QHE7",
        "outputId": "124625e8-6198-4e4a-90af-4dba1cb796b0",
        "colab": {
          "base_uri": "https://localhost:8080/"
        }
      },
      "outputs": [
        {
          "output_type": "stream",
          "name": "stdout",
          "text": [
            "          Exited\n",
            "Gender          \n",
            "Female  0.250715\n",
            "Male    0.164559\n",
            "\n",
            "Female - Exited:  1139\n",
            "Female - Retained:  3404\n",
            "\n",
            "Male - Exited:  898\n",
            "Male - Retained:  4559\n"
          ]
        }
      ],
      "source": [
        "print(bank_data[['Gender','Exited']].groupby(['Gender']).mean())\n",
        "print()\n",
        "print(\"Female - Exited: \",len(bank_data[(bank_data['Exited'] == 1) & (bank_data['Gender'] == 'Female')]))\n",
        "print(\"Female - Retained: \",len(bank_data[(bank_data['Exited'] == 0) & (bank_data['Gender'] == 'Female')]))\n",
        "print()\n",
        "print(\"Male - Exited: \",len(bank_data[(bank_data['Exited'] == 1) & (bank_data['Gender'] == 'Male')]))\n",
        "print(\"Male - Retained: \",len(bank_data[(bank_data['Exited'] == 0) & (bank_data['Gender'] == 'Male')]))"
      ]
    },
    {
      "cell_type": "code",
      "execution_count": 11,
      "metadata": {
        "id": "zo4rXEloQHE7",
        "outputId": "6355f490-7499-4a64-ee24-cec4f23bc211",
        "colab": {
          "base_uri": "https://localhost:8080/",
          "height": 1000
        }
      },
      "outputs": [
        {
          "output_type": "stream",
          "name": "stderr",
          "text": [
            "/usr/local/lib/python3.7/dist-packages/seaborn/_decorators.py:43: FutureWarning:\n",
            "\n",
            "Pass the following variable as a keyword arg: x. From version 0.12, the only valid positional argument will be `data`, and passing other arguments without an explicit keyword will result in an error or misinterpretation.\n",
            "\n",
            "/usr/local/lib/python3.7/dist-packages/seaborn/_decorators.py:43: FutureWarning:\n",
            "\n",
            "Pass the following variable as a keyword arg: x. From version 0.12, the only valid positional argument will be `data`, and passing other arguments without an explicit keyword will result in an error or misinterpretation.\n",
            "\n",
            "/usr/local/lib/python3.7/dist-packages/seaborn/_decorators.py:43: FutureWarning:\n",
            "\n",
            "Pass the following variable as a keyword arg: x. From version 0.12, the only valid positional argument will be `data`, and passing other arguments without an explicit keyword will result in an error or misinterpretation.\n",
            "\n"
          ]
        },
        {
          "output_type": "display_data",
          "data": {
            "text/plain": [
              "<Figure size 1296x1800 with 6 Axes>"
            ],
            "image/png": "[encoded data removed]"
          },
          "metadata": {
            "needs_background": "light"
          }
        }
      ],
      "source": [
        "# Gender,HasCrCard,IsActiveMember vs Churn\n",
        "f,ax=plt.subplots(3,2,figsize=(18,25))\n",
        "bank_data[['Gender','Exited']].groupby(['Gender']).mean().plot.bar(ax=ax[0][0])\n",
        "ax[0][1].set_title('Churn vs Gender')\n",
        "sns.countplot('Gender',hue='Exited',data=bank_data,ax=ax[0][1])\n",
        "ax[0][1].set_title('Gender:Churned vs Retained')\n",
        "bank_data[['HasCrCard','Exited']].groupby(['HasCrCard']).mean().plot.bar(ax=ax[1][0])\n",
        "ax[1][0].set_title('Churn vs HasCrCard')\n",
        "sns.countplot('HasCrCard',hue='Exited',data=bank_data,ax=ax[1][1])\n",
        "ax[1][1].set_title('HasCrCard: Churned vs Retained')\n",
        "bank_data[['IsActiveMember','Exited']].groupby(['IsActiveMember']).mean().plot.bar(ax=ax[2][0])\n",
        "ax[2][0].set_title('Churn vs IsActiveMember')\n",
        "sns.countplot('IsActiveMember',hue='Exited',data=bank_data,ax=ax[2][1])\n",
        "ax[2][1].set_title('IsActiveMember: Churned vs Retained')\n",
        "plt.show()"
      ]
    },
    {
      "cell_type": "markdown",
      "metadata": {
        "id": "We66DCxtQHE8"
      },
      "source": [
        "From the above graphs we can see, \n",
        "\n",
        "1. More male customers, but when it comes to churn rate, female customers are more likely to quit the bank. (In other words, even though there are more male customers its the females who have high churn rate compared to males).\n",
        "2. Majority of customers have credit cards. \n",
        "3. The bank have a significant number of inactive customers. They ratio of inactive customers being churned out is high. Thus bank needs to take steps and make them active. "
      ]
    },
    {
      "cell_type": "code",
      "execution_count": 15,
      "metadata": {
        "id": "9FG7CyU_QHE8",
        "outputId": "5729c85b-9fc5-4485-9211-2c5984abc110",
        "colab": {
          "base_uri": "https://localhost:8080/",
          "height": 706
        }
      },
      "outputs": [
        {
          "output_type": "stream",
          "name": "stderr",
          "text": [
            "/usr/local/lib/python3.7/dist-packages/seaborn/categorical.py:3717: UserWarning:\n",
            "\n",
            "The `factorplot` function has been renamed to `catplot`. The original name will be removed in a future release. Please update your code. Note that the default `kind` in `factorplot` (`'point'`) has changed `'strip'` in `catplot`.\n",
            "\n"
          ]
        },
        {
          "output_type": "display_data",
          "data": {
            "text/plain": [
              "<Figure size 864x288 with 1 Axes>"
            ],
            "image/png": "[encoded data removed]"
          },
          "metadata": {
            "needs_background": "light"
          }
        },
        {
          "output_type": "display_data",
          "data": {
            "text/plain": [
              "<Figure size 1080x360 with 3 Axes>"
            ],
            "image/png": "[encoded data removed]"
          },
          "metadata": {
            "needs_background": "light"
          }
        }
      ],
      "source": [
        "# Geography vs Churn\n",
        "sns.factorplot(x='Geography',y='Exited', data=bank_data,height=4,aspect=3)\n",
        "\n",
        "fig, (axis1,axis2,axis3) = plt.subplots(1,3,figsize=(15,5))\n",
        "\n",
        "\n",
        "sns.countplot(x='Geography', data=bank_data, ax=axis1)\n",
        "sns.countplot(x='Exited', hue=\"Geography\", data=bank_data, order=[1,0], ax=axis2)\n",
        "\n",
        "# group by Geography, and get the mean for Churned customers for each value in Geography\n",
        "geography_perc = bank_data[[\"Geography\", \"Exited\"]].groupby(['Geography'],as_index=False).mean()\n",
        "geography_perc.columns = ['Geography', 'Mean(Exited)']\n",
        "sns.barplot(x='Geography', y='Mean(Exited)', data=geography_perc,order=['France','Spain','Germany'],ax=axis3)\n",
        "del geography_perc\n"
      ]
    },
    {
      "cell_type": "markdown",
      "metadata": {
        "id": "Y6RvdgbZQHE8"
      },
      "source": [
        "The bank have majority of its customers located in France, however the chrun rate is high in Germany followed by spain, where the bank have less number of customers. This can be due to less number of branches in Germany and Spain or poor services in those regions. "
      ]
    },
    {
      "cell_type": "code",
      "execution_count": null,
      "metadata": {
        "id": "knjp0_JvQHE9",
        "outputId": "861a67be-310f-4664-8038-d39e9fec8684"
      },
      "outputs": [
        {
          "data": {
            "image/png": "[encoded data removed]",
            "text/plain": [
              "<Figure size 906.375x216 with 1 Axes>"
            ]
          },
          "metadata": {
            "needs_background": "light"
          },
          "output_type": "display_data"
        },
        {
          "data": {
            "image/png": "[encoded data removed]",
            "text/plain": [
              "<Figure size 1296x288 with 1 Axes>"
            ]
          },
          "metadata": {
            "needs_background": "light"
          },
          "output_type": "display_data"
        }
      ],
      "source": [
        "# Age\n",
        "# peaks for Exited/not exited customers by their age\n",
        "facet = sns.FacetGrid(bank_data, hue=\"Exited\",aspect=4)\n",
        "facet.map(sns.kdeplot,'Age',shade= True)\n",
        "facet.set(xlim=(0, bank_data['Age'].max()))\n",
        "facet.add_legend()\n",
        "\n",
        "# average exited customers by age\n",
        "fig, axis1 = plt.subplots(1,1,figsize=(18,4))\n",
        "average_age = bank_data[[\"Age\", \"Exited\"]].groupby(['Age'],as_index=False).mean()\n",
        "average_age.columns = ['Age','Mean(Exited)']\n",
        "sns.barplot(x='Age', y='Mean(Exited)', data=average_age)\n",
        "del average_age"
      ]
    },
    {
      "cell_type": "markdown",
      "metadata": {
        "id": "DsFYCc18QHE9"
      },
      "source": [
        "Customer having age around 48 to 60 are churning out compared to younger ones i.e., Mean(Exited) > 0.5 from the graph. The churn rate can also be due to retirement. Bank needs to revise the market strategy by focusing on keeping older customers. "
      ]
    },
    {
      "cell_type": "code",
      "execution_count": null,
      "metadata": {
        "id": "GWOR2FNcQHE9",
        "outputId": "35d64a0d-982d-414a-81f5-652abef325b4"
      },
      "outputs": [
        {
          "data": {
            "text/plain": [
              "1    50\n",
              "0    20\n",
              "Name: Exited, dtype: int64"
            ]
          },
          "execution_count": 15,
          "metadata": {},
          "output_type": "execute_result"
        }
      ],
      "source": [
        "bank_data[(bank_data['Age'] == 56)]['Exited'].value_counts()"
      ]
    },
    {
      "cell_type": "code",
      "execution_count": 16,
      "metadata": {
        "id": "EwgkTGGNQHE9",
        "outputId": "46238a8d-701c-4689-ff37-2541434e63c4",
        "colab": {
          "base_uri": "https://localhost:8080/",
          "height": 542
        }
      },
      "outputs": [
        {
          "output_type": "display_data",
          "data": {
            "text/html": [
              "<html>\n",
              "<head><meta charset=\"utf-8\" /></head>\n",
              "<body>\n",
              "    <div>            <script src=\"https://cdnjs.cloudflare.com/ajax/libs/mathjax/2.7.5/MathJax.js?config=TeX-AMS-MML_SVG\"></script><script type=\"text/javascript\">if (window.MathJax) {MathJax.Hub.Config({SVG: {font: \"STIX-Web\"}});}</script>                <script type=\"text/javascript\">window.PlotlyConfig = {MathJaxConfig: 'local'};</script>\n",
              "        <script src=\"https://cdn.plot.ly/plotly-2.8.3.min.js\"></script>                <div id=\"56ea7e8b-e285-4b6a-be62-4f60712be487\" class=\"plotly-graph-div\" style=\"height:525px; width:100%;\"></div>            <script type=\"text/javascript\">                                    window.PLOTLYENV=window.PLOTLYENV || {};                                    if (document.getElementById(\"56ea7e8b-e285-4b6a-be62-4f60712be487\")) {                    Plotly.newPlot(                        \"56ea7e8b-e285-4b6a-be62-4f60712be487\",                        [{\"marker\":{\"color\":\"lightseagreen\"},\"name\":\"Continued\",\"y\":[1,1,2,7,4,2,6,3,10,5,7,3,9,6,6,8,8,3,5,3,2,9,3,0,7,9,6,9,3,7,7,6,4,2,5,4,2,2,10,5,5,1,5,0,4,5,9,1,8,4,6,1,10,5,8,6,0,5,9,1,8,9,5,10,1,3,4,4,10,9,3,7,10,8,4,10,9,8,8,9,6,6,9,7,1,2,5,3,7,2,9,9,6,1,4,8,6,6,10,3,7,9,3,9,9,1,7,5,5,2,10,7,5,5,8,5,9,0,7,8,2,6,7,2,6,4,6,2,7,2,9,9,9,4,5,4,5,7,0,5,8,2,2,1,2,8,1,0,5,7,3,1,8,9,3,6,3,10,6,2,4,3,3,5,2,2,8,9,1,4,7,9,9,7,2,4,9,3,1,0,1,3,5,2,2,4,5,8,7,7,1,8,5,1,0,2,8,0,10,6,6,3,9,6,6,0,9,9,2,7,7,9,1,8,4,7,10,6,8,10,7,8,7,5,8,5,10,9,5,7,3,2,4,0,5,10,6,8,6,4,1,7,8,4,6,3,0,2,3,9,3,4,2,8,4,3,4,2,1,7,7,1,2,6,3,2,4,5,8,7,7,9,3,1,5,3,2,7,6,1,0,8,1,3,3,9,9,9,3,9,8,2,2,4,1,0,1,7,8,4,2,9,7,10,8,3,9,6,2,2,10,7,3,0,2,3,8,9,1,4,8,6,8,9,4,10,3,10,1,3,8,8,9,6,6,2,4,9,9,10,0,9,2,0,8,3,4,10,2,3,3,9,7,2,1,2,4,6,7,9,7,3,6,5,3,3,8,1,3,3,4,9,9,8,3,10,2,8,1,1,8,7,4,6,5,8,9,0,7,2,9,1,2,4,8,6,5,8,4,5,9,4,5,7,6,5,2,10,6,5,6,9,7,6,7,5,8,3,2,2,8,1,2,4,6,10,7,10,9,8,9,4,2,0,7,7,1,3,10,7,3,5,3,5,7,1,8,6,4,1,5,7,1,9,3,8,3,4,6,2,8,3,9,5,1,8,9,4,4,2,9,9,4,7,9,10,9,4,10,5,2,10,6,2,1,8,6,7,8,9,10,5,3,2,7,1,2,1,3,10,3,5,1,1,10,4,5,1,3,7,4,6,4,7,3,8,8,6,1,9,6,3,8,2,4,1,9,3,3,3,5,3,9,0,6,5,5,4,1,3,5,5,4,8,9,2,5,1,1,8,6,2,6,2,0,5,7,2,1,2,4,4,8,3,0,6,1,3,9,4,5,10,5,1,2,3,10,9,7,5,6,10,3,6,6,2,6,8,7,8,7,8,5,2,5,2,4,0,9,7,2,5,9,2,2,9,5,5,1,2,2,2,4,2,3,7,8,8,8,1,2,8,5,1,2,0,8,2,3,6,1,1,8,9,3,6,9,7,0,7,9,4,0,5,10,6,10,7,3,2,5,8,9,6,4,5,8,4,8,5,1,2,10,6,5,1,3,6,2,3,5,4,1,8,3,7,6,5,1,0,1,8,6,8,4,7,9,7,6,4,10,1,4,8,2,7,5,9,1,4,3,9,6,7,7,0,2,3,8,8,2,9,5,8,6,2,7,7,5,6,10,7,6,6,4,1,10,6,3,3,9,5,1,9,1,3,5,8,7,6,9,8,9,3,5,4,10,1,8,8,8,5,4,8,8,9,0,4,0,8,8,6,1,4,7,5,6,9,3,9,10,3,5,7,5,8,4,8,7,0,0,7,1,9,1,7,5,2,3,7,9,9,3,7,4,1,8,10,1,7,6,7,0,3,4,4,3,7,7,1,6,1,3,4,4,6,0,9,10,1,3,4,1,3,0,2,1,1,3,3,5,1,4,6,5,4,2,3,6,7,3,3,8,7,8,4,5,4,4,8,6,6,7,6,8,3,8,10,7,8,5,8,10,2,3,4,7,4,0,6,4,7,2,9,7,2,7,3,2,7,4,3,5,8,7,2,4,4,1,8,3,2,1,9,0,4,2,6,5,4,9,1,5,9,9,8,3,5,3,4,6,4,2,2,3,3,1,10,9,5,0,5,1,10,2,8,6,3,3,5,9,1,1,6,7,1,7,3,3,2,1,3,7,2,4,6,9,7,6,5,2,7,10,5,4,6,7,5,4,5,3,7,2,1,1,8,6,6,7,3,6,2,4,4,7,6,0,5,3,7,9,1,4,6,0,7,6,3,4,5,4,4,3,9,3,3,1,6,1,7,9,3,2,6,4,7,2,7,6,9,7,7,6,4,8,7,7,5,5,9,7,9,2,7,2,0,3,2,5,10,8,1,3,2,0,2,10,8,2,7,3,5,4,2,7,6,2,2,8,3,3,8,7,3,8,1,5,10,5,7,4,3,6,5,2,7,3,3,7,6,4,3,9,0,3,4,10,4,3,7,4,7,8,8,3,6,6,4,10,3,3,10,8,7,4,9,8,2,9,7,5,9,2,8,6,2,2,9,5,4,4,10,5,7,8,2,9,2,5,5,9,1,2,4,5,8,3,2,4,1,9,8,1,9,7,6,8,10,7,2,6,10,7,2,8,4,2,10,4,5,6,3,7,0,1,4,1,8,6,8,5,2,8,5,8,8,1,1,4,8,8,3,6,7,8,9,7,8,7,5,8,10,3,6,6,2,0,10,2,8,6,7,6,8,6,1,8,6,4,8,8,5,8,2,6,1,3,9,8,8,4,8,1,5,4,6,7,6,1,2,8,2,7,1,8,4,10,1,0,10,4,5,8,1,9,8,5,6,10,2,9,8,7,8,6,7,1,3,6,4,7,7,7,5,6,3,7,6,4,7,5,1,2,8,8,1,9,2,4,2,8,0,3,9,6,4,4,8,10,1,4,2,10,3,5,9,3,7,5,7,6,0,9,8,5,2,3,4,7,3,7,8,4,6,5,8,9,6,2,9,7,0,7,4,1,8,10,7,2,6,1,10,8,4,1,6,3,0,5,7,5,4,1,3,8,7,8,9,7,8,8,7,8,8,5,1,4,4,0,5,2,2,8,5,1,9,6,9,9,8,1,3,7,5,6,5,2,5,4,5,0,7,4,5,7,3,8,0,9,8,7,7,4,6,7,2,9,7,7,2,10,5,2,5,9,1,7,1,6,3,7,1,2,1,4,1,7,8,5,4,5,2,8,0,1,8,3,8,6,3,8,7,1,1,5,9,10,3,7,8,1,5,7,7,5,6,0,0,7,9,2,9,3,3,5,8,9,1,4,4,9,9,5,7,0,5,6,6,9,5,3,8,1,2,7,8,8,5,4,10,4,1,4,9,8,2,8,7,7,9,3,8,7,6,2,10,1,5,5,7,9,9,2,2,7,6,6,7,8,7,9,4,1,8,3,7,7,3,0,6,8,5,10,2,1,9,4,3,6,3,0,9,6,2,7,3,7,8,3,1,8,3,6,5,7,5,3,9,3,3,7,3,6,6,9,3,1,9,2,9,10,5,6,8,1,5,8,8,5,9,5,10,4,0,4,4,5,6,5,8,9,1,6,4,1,2,0,1,2,6,5,1,5,3,1,3,2,0,8,7,6,8,9,9,4,3,2,4,4,3,3,6,3,4,1,9,9,9,4,2,3,8,4,8,6,6,5,1,3,5,2,9,8,2,5,1,4,5,9,9,3,4,6,6,3,6,8,9,9,8,5,4,2,9,6,6,9,7,1,5,0,9,1,9,5,4,1,7,9,1,6,4,8,6,3,5,7,3,5,5,7,4,6,8,7,2,5,2,9,2,6,9,9,8,4,6,2,6,1,4,1,3,8,6,9,1,4,5,2,7,10,6,5,3,7,3,5,6,2,6,8,7,9,1,8,4,9,2,0,4,9,2,4,1,3,7,9,9,1,1,8,8,2,8,9,2,2,8,6,8,4,9,9,3,2,1,1,9,1,0,8,4,9,5,2,9,6,5,2,8,9,3,2,6,8,5,8,2,8,0,2,6,2,6,6,2,1,9,8,8,7,7,6,1,2,4,5,4,9,1,2,0,5,4,4,5,7,6,6,5,9,7,5,1,9,7,5,4,7,2,8,2,9,9,2,2,10,8,4,0,7,0,2,6,4,6,9,9,3,6,2,2,9,5,6,1,6,2,10,7,5,2,3,5,0,6,8,1,9,3,5,7,5,5,9,3,7,2,4,4,1,3,5,5,9,2,5,9,10,2,9,3,4,6,9,9,4,9,4,1,9,10,4,4,4,1,7,3,4,9,3,10,8,7,4,3,3,4,9,8,7,2,1,9,2,8,6,9,8,0,7,2,4,10,2,4,3,2,8,6,8,4,8,7,10,1,0,4,5,8,2,10,10,5,0,9,4,1,10,8,2,4,10,3,4,9,3,9,6,10,9,5,8,2,1,4,3,6,6,7,3,1,6,4,4,10,5,4,3,8,10,5,0,6,0,4,8,1,2,2,7,1,10,4,6,2,0,4,1,1,10,6,6,8,10,4,2,5,5,0,6,1,5,0,0,0,3,7,2,9,4,4,8,2,1,9,5,4,6,1,2,5,7,9,2,4,8,1,0,5,7,0,9,6,8,5,8,7,2,6,7,10,4,2,1,7,9,0,7,5,5,3,1,1,2,4,3,3,7,9,9,1,6,5,0,9,3,5,2,6,3,1,2,1,4,2,0,9,8,6,5,4,5,5,5,4,6,5,4,0,3,2,5,9,2,2,3,7,3,5,7,2,2,7,5,10,10,4,5,5,3,9,7,6,0,3,4,2,1,8,2,3,0,7,8,4,2,4,2,4,9,3,1,4,1,9,9,9,8,1,3,6,3,9,8,8,4,3,2,10,1,3,7,5,7,2,8,4,7,4,8,2,7,9,8,10,6,8,6,0,7,1,6,7,2,6,3,6,7,9,1,10,4,5,7,6,1,1,7,10,9,8,8,6,5,1,4,3,2,5,7,6,2,6,8,9,8,7,2,3,7,2,10,9,2,2,1,4,8,4,5,1,10,3,5,9,1,4,7,9,6,1,0,4,8,9,6,8,6,2,1,4,5,6,2,4,5,9,5,6,1,5,3,3,4,7,6,8,9,8,6,9,1,9,1,0,1,9,7,7,5,1,2,3,8,3,5,6,1,2,9,5,5,3,9,3,7,2,9,7,2,1,7,3,7,6,0,9,6,2,8,6,7,9,4,8,6,4,6,9,8,6,4,7,7,8,8,10,6,5,5,9,9,9,7,1,7,1,4,0,10,6,5,1,8,2,9,7,7,3,1,5,7,7,2,9,9,6,4,1,1,3,2,3,8,9,8,0,2,8,5,8,3,2,7,7,5,1,5,4,2,6,5,4,10,1,8,9,4,3,8,10,2,8,7,6,3,7,2,5,6,7,3,2,10,1,4,10,2,1,1,9,8,4,7,10,1,2,1,7,1,4,1,2,5,1,4,1,1,8,8,7,3,9,7,6,8,5,10,7,2,7,8,0,10,2,6,6,1,3,2,8,8,2,5,8,2,2,5,3,7,3,3,8,3,9,3,10,5,6,1,1,7,4,7,3,6,7,3,4,8,4,7,6,9,3,4,1,5,10,0,3,4,7,8,1,6,8,9,3,6,7,7,5,3,4,5,9,7,5,6,5,1,3,6,1,7,4,5,9,1,6,10,8,4,2,6,5,8,3,0,4,4,1,4,6,4,3,2,8,7,1,1,1,9,8,6,4,10,10,7,2,1,2,0,1,9,10,6,6,5,6,9,0,7,6,8,10,7,2,7,5,3,10,5,4,7,3,7,2,3,5,2,1,3,7,7,9,3,1,2,7,7,2,2,4,9,1,1,6,8,9,8,1,3,9,10,2,10,9,5,4,8,8,3,7,10,2,3,3,7,6,6,6,1,2,9,8,1,8,7,5,3,4,5,3,5,5,6,10,3,5,3,6,3,8,7,4,1,6,2,9,2,7,2,5,10,5,4,7,7,9,2,1,2,5,8,2,2,5,7,3,6,5,9,9,6,8,7,7,3,8,6,6,5,4,2,9,3,4,5,7,2,9,7,3,9,1,8,6,3,2,9,10,2,10,1,0,1,8,5,4,10,9,4,1,3,5,6,4,4,8,3,3,7,2,8,5,1,9,5,10,3,0,9,1,8,9,10,5,4,1,7,2,4,1,1,3,2,3,9,6,4,7,3,7,9,3,6,2,10,7,3,10,6,7,3,7,4,1,7,10,5,10,5,3,1,10,9,3,1,2,5,3,10,2,8,7,1,5,4,9,6,7,4,9,7,5,5,4,5,7,7,6,5,4,4,1,8,6,5,4,6,3,1,1,4,10,8,5,3,2,3,6,3,4,4,9,8,2,9,5,5,4,8,7,4,2,3,4,3,2,10,9,5,0,1,8,7,2,4,10,1,5,7,6,8,3,6,0,0,4,9,8,6,1,4,7,8,8,9,5,3,8,7,5,4,5,0,3,6,3,3,2,4,3,10,8,0,8,6,7,2,7,5,0,9,9,4,2,4,6,6,7,9,1,2,2,10,7,3,8,2,5,2,2,1,5,6,5,4,10,7,10,3,10,6,2,8,7,3,6,3,7,1,1,0,3,2,0,8,8,9,4,2,1,5,2,3,9,2,10,8,8,2,1,7,6,1,9,10,8,2,2,2,6,8,1,5,6,9,7,10,2,8,8,4,4,2,5,1,8,7,3,5,2,2,3,0,2,9,3,2,4,3,7,4,8,7,0,5,2,6,9,1,0,10,3,0,1,6,9,7,5,7,0,9,10,9,5,0,8,2,8,4,7,1,10,5,1,6,6,7,6,8,6,8,7,6,4,1,3,1,9,9,9,3,0,7,9,5,6,3,3,5,6,6,2,4,7,8,7,6,4,5,9,2,6,8,3,6,1,6,8,5,0,2,9,5,6,5,2,3,9,5,2,9,2,9,8,4,8,4,1,6,4,2,2,2,6,1,7,3,3,7,0,5,6,1,5,6,8,5,5,1,4,1,9,5,5,8,10,5,10,9,5,5,7,3,9,2,0,5,0,10,2,8,8,4,10,4,6,7,5,3,8,7,9,6,0,1,8,6,8,7,7,10,0,3,8,7,5,10,1,5,8,1,4,6,7,3,1,9,4,4,1,6,3,2,4,0,8,7,8,5,8,4,6,7,9,4,2,2,8,2,5,1,8,5,9,2,7,4,9,9,10,5,6,3,6,8,10,4,6,5,1,1,4,3,3,1,4,9,0,2,5,3,1,4,5,4,4,4,4,3,2,6,8,2,4,10,5,10,7,5,9,9,4,3,0,6,10,9,1,6,1,9,4,5,3,5,9,7,1,7,10,1,9,10,5,2,9,6,3,5,3,3,8,7,7,0,2,8,2,2,6,6,1,6,8,3,8,8,5,0,3,7,4,5,7,1,7,8,8,10,3,6,2,3,4,8,7,1,2,10,4,2,8,4,5,9,4,3,1,2,0,9,8,5,7,9,7,2,5,7,5,2,4,8,7,9,1,5,8,8,6,9,9,10,3,5,3,7,6,4,9,6,3,2,0,1,8,8,5,8,3,5,2,7,1,8,4,9,1,7,3,8,8,10,4,3,4,7,5,3,5,7,4,2,4,3,4,10,7,2,5,3,4,1,5,10,3,3,9,7,8,3,1,7,4,9,7,5,10,5,1,9,10,7,7,4,8,5,1,3,1,6,3,3,3,6,3,5,2,1,8,3,10,2,6,1,7,4,4,4,7,8,1,2,8,3,10,8,2,6,5,2,4,0,2,8,5,0,7,7,9,4,0,2,2,1,1,7,7,0,6,6,6,4,8,8,2,2,9,7,1,7,9,2,5,8,0,3,4,10,3,6,1,8,3,1,1,6,7,5,4,6,4,6,3,7,0,7,9,3,1,0,7,1,3,1,3,2,4,8,8,8,1,2,10,5,3,6,2,2,1,0,6,4,3,8,1,9,4,2,0,3,1,1,9,3,3,6,8,1,3,0,1,6,7,6,2,4,9,2,7,7,5,3,2,1,1,9,8,8,8,7,7,7,7,5,4,8,9,9,1,6,7,6,0,2,7,5,1,7,1,7,9,8,3,5,3,2,1,7,1,3,1,0,4,1,4,2,4,4,8,7,9,8,7,3,9,1,7,3,1,6,2,4,8,9,8,0,6,6,7,6,1,7,1,6,9,3,5,8,1,1,5,8,1,8,3,7,1,1,3,10,1,2,2,5,3,10,3,7,1,2,8,5,8,2,2,3,7,8,3,3,5,3,8,4,1,2,7,3,9,8,4,8,2,0,0,6,0,10,3,5,7,2,1,2,1,9,3,8,3,3,2,7,1,1,1,2,5,6,4,9,7,7,1,0,2,0,10,0,8,0,10,4,8,6,1,3,3,0,9,1,10,8,8,3,4,0,8,6,7,7,1,5,3,1,2,0,6,6,6,8,8,9,6,4,5,8,2,2,8,7,3,1,3,1,0,3,1,9,9,1,5,3,6,1,7,5,7,1,2,8,8,5,3,2,1,9,8,2,4,6,5,9,1,1,6,6,5,3,5,2,1,1,2,0,3,4,7,6,3,8,6,8,7,1,4,3,3,6,5,5,10,9,5,4,7,7,10,4,10,3,9,2,2,2,2,7,5,1,6,0,3,6,2,5,8,0,10,4,4,1,10,4,3,3,6,3,3,7,8,9,8,7,8,4,6,10,8,5,5,0,9,4,5,5,8,7,5,2,7,7,2,3,7,3,3,2,6,9,10,1,6,7,10,2,2,5,3,6,7,1,6,6,0,1,2,6,3,10,0,1,7,5,2,6,4,1,6,7,9,1,9,3,2,3,6,5,10,0,2,0,1,9,3,1,2,2,2,4,6,7,8,7,4,7,4,4,4,4,7,9,8,8,6,4,9,7,3,9,4,7,5,0,4,4,5,5,6,8,6,9,2,10,10,8,5,8,3,2,5,3,7,2,5,7,8,3,2,3,3,3,8,2,10,1,8,0,2,4,1,2,9,4,4,1,10,7,9,10,2,5,9,6,5,8,9,0,8,7,10,6,5,10,6,9,1,2,9,9,5,0,5,7,8,9,5,2,9,7,1,9,9,6,8,1,4,1,4,10,3,3,5,0,2,8,7,5,3,2,9,7,9,6,4,10,6,4,9,5,3,1,2,9,3,1,0,3,10,9,4,3,5,0,9,9,6,9,7,10,4,7,6,8,7,4,2,2,9,7,9,6,7,6,8,5,1,4,9,4,5,5,1,8,9,4,2,7,8,1,3,9,1,1,8,8,3,10,7,2,7,4,4,3,5,4,7,4,7,7,3,7,1,3,10,8,5,2,8,3,3,1,1,5,7,2,5,3,9,5,7,9,8,1,1,2,3,9,8,1,5,7,4,1,9,9,8,8,4,1,7,3,8,4,3,1,1,2,5,2,6,10,9,6,6,1,6,2,9,9,6,1,1,5,0,8,5,5,5,1,0,1,3,0,7,5,5,8,2,3,9,3,1,2,8,0,4,1,7,5,6,1,3,2,1,4,1,5,7,10,9,1,2,2,5,5,5,6,10,7,1,1,2,7,0,9,6,4,1,10,4,8,8,0,5,9,7,8,5,10,4,7,4,2,6,1,0,7,4,7,6,1,1,8,1,3,5,7,1,6,8,1,3,2,7,7,8,0,2,5,4,2,6,7,4,1,1,5,2,8,9,7,6,4,4,5,9,10,2,7,5,2,5,6,2,1,3,1,5,4,1,4,3,9,5,2,9,3,8,2,1,4,5,9,7,8,2,7,9,10,1,8,3,8,9,8,3,10,2,7,0,3,9,0,2,8,2,3,8,6,6,1,6,4,0,10,4,2,4,8,6,3,9,4,8,3,10,9,3,3,3,6,6,9,2,3,6,10,3,3,0,6,6,5,4,9,5,2,5,3,1,7,0,6,8,9,2,5,5,8,2,5,3,8,9,2,2,1,6,10,5,6,6,4,6,7,7,9,1,1,0,5,7,1,4,5,6,1,7,3,8,2,10,7,6,4,10,6,1,7,7,4,3,4,9,5,2,2,1,3,8,7,8,2,4,8,5,7,6,10,0,9,2,3,9,0,4,5,7,2,9,8,7,8,6,5,5,8,3,6,9,9,4,2,9,3,6,6,4,4,5,6,4,6,7,7,5,9,6,7,8,5,9,9,3,9,5,2,10,10,9,1,5,7,1,6,3,6,5,1,8,10,10,4,8,8,4,3,2,8,1,8,9,0,1,3,7,8,8,8,6,3,6,9,9,7,3,8,7,3,5,6,0,3,5,2,2,0,8,1,8,8,1,9,8,0,10,6,8,7,2,4,5,4,7,5,8,5,8,4,10,0,9,10,2,1,1,9,4,7,6,3,5,1,4,1,9,6,5,4,2,0,9,8,9,4,6,5,10,6,0,4,9,4,5,9,1,0,2,6,3,3,5,6,7,4,3,4,3,9,4,3,5,2,2,7,2,6,2,6,10,6,0,0,2,10,3,5,2,4,1,3,10,1,7,1,2,2,2,4,1,9,5,4,7,6,6,4,6,2,7,2,1,2,8,6,10,1,8,8,3,5,2,9,2,8,7,4,0,7,4,3,9,7,7,7,7,0,4,6,3,7,5,7,6,9,9,2,1,7,1,5,5,8,6,6,3,0,7,7,9,6,4,7,7,2,9,3,2,7,10,5,4,4,0,6,2,7,10,9,5,3,5,5,1,3,4,4,7,2,7,9,2,4,6,3,1,3,8,2,4,5,8,1,4,5,7,5,4,8,1,6,0,1,2,9,6,0,6,4,1,4,9,6,4,3,8,7,2,0,6,4,2,4,8,9,5,5,3,3,2,4,9,8,9,3,7,2,7,2,3,7,10,8,4,5,2,6,10,0,3,5,3,9,9,1,2,7,0,2,5,1,7,8,6,7,7,5,2,1,4,2,9,4,8,8,6,4,8,1,1,10,3,7,3,2,9,6,10,2,5,3,4,8,3,0,1,8,5,7,7,2,7,10,9,2,3,1,1,4,8,4,4,4,10,9,3,6,3,3,4,3,7,2,0,7,5,0,8,3,5,8,2,1,7,9,10,3,7,2,6,9,6,1,2,10,1,10,2,0,8,9,3,5,7,4,2,6,2,3,1,3,6,1,1,8,1,4,8,1,3,0,10,8,3,1,9,2,9,10,8,3,9,6,7,5,1,9,9,3,3,4,4,5,2,7,9,2,8,8,7,1,9,7,0,1,7,3,6,4,2,7,9,4,9,4,8,9,3,6,7,3,5,0,2,8,8,3,7,2,6,8,4,8,6,1,4,1,8,8,8,1,10,3,4,8,8,7,1,3,9,8,4,9,3,2,1,0,8,4,6,9,9,2,2,5,2,2,1,7,3,5,6,7,1,9,9,7,5,3,4,2,0,2,9,9,5,10,3,7,4,4,9,1,1,4,2,9,6,6,8,6,0,8,9,8,3,7,2,6,3,1,3,5,8,4,2,4,3,1,5,3,6,1,9,3,6,6,6,5,5,0,9,10,6,1,5,4,4,1,1,6,6,4,5,5,8,2,4,4,9,6,8,4,3,2,5,5,2,9,3,2,6,5,9,7,5,9,5,9,2,6,1,6,1,7,9,7,2,7,9,10,4,1,4,4,7,3,9,10,9,8,4,8,9,6,7,3,3,5,7,1,3,2,0,4,7,6,5,5,4,5,5,0,4,1,4,2,0,8,4,8,3,9,5,4,9,7,6,7,8,9,5,7,2,5,7,0,7,6,1,7,5,2,1,10,6,5,6,9,6,2,3,5,3,7,1,8,8,1,3,5,5,1,3,7,6,7,6,5,3,3,5,1,5,2,3,4,6,5,7,6,1,3,4,2,8,1,7,10,10,5,8,8,7,1,4,4,5,4,1,4,7,8,3,8,5,10,3,0,8,2,5,8,8,1,4,8,7,5,5,8,3,7,6,7,8,8,5,9,9,2,3,1,6,3,10,7,5,0,7,2,3,4,3,10,4,2,4,7,3,5,2,8,10,9,4,9,4,2,9,8,2,9,1,4,3,3,3,10,9,7,7,3,3,2,1,1,5,4,5,7,6,7,7,6,7,2,7,6,4,8,7,6,2,3,4,9,5,1,10,6,0,6,7,3,9,6,8,2,6,8,9,7,1,1,6,9,5,9,5,3,6,0,3,5,3,0,9,1,1,9,9,9,2,10,8,6,6,9,6,6,7,3,1,1,8,5,5,3,1,1,1,9,1,5,1,4,3,5,9,6,0,8,1,4,0,7,9,3,10,9,7,2,3,1,9,8,1,2,8,4,6,5,8,7,2,4,0,7,3,6,1,3,5,5,5,1,7,2,8,4,0,7,3,7,2,5,1,9,1,5,3,1,9,7,2,1,2,4,4,9,1,6,8,4,7,6,7,7,2,6,1,5,7,8,4,7,4,3,7,1,3,8,5,6,9,7,6,7,9,8,8,2,9,5,7,7,10,4,5,9,1,5,1,4,3,1,4,1,2,5,9,5,10,8,1,6,5,6,8,1,8,8,2,6,1,2,7,4,9,5,2,4,7,8,4,4,7,3,0,1,2,2,1,2,3,6,2,2,6,6,1,5,6,9,8,8,4,1,9,4,2,3,8,1,4,2,3,5,9,1,5,7,4,7,1,9,8,5,10,6,3,8,2,1,3,3,7,5,8,10,2,4,5,5,1,2,8,9,6,2,3,1,4,8,7,3,6,10,3,4,4,4,3,1,3,2,8,1,5,2,8,1,6,1,7,4,5,1,8,4,4,4,3,9,6,10,3,6,9,3,5,8,7,7,5,0,6,8,1,9,5,8,3,5,7,8,6,7,0,3,8,9,4,9,8,9,9,2,8,6,5,10,6,7,1,8,1,10,9,1,4,4,9,4,1,2,1,7,9,6,4,8,7,0,6,2,10,4,1,5,5,7,7,7,5,5,7,2,5,7,6,9,7,2,2,7,7,1,4,2,3,7,9,6,1,7,0,6,6,9,2,0,4,1,7,3,4,3,4,3,4,7,4,3,2,2,7,8,4,9,6,1,1,6,0,8,7,2,8,7,1,0,4,6,1,5,1,9,8,2,7,5,8,4,6,2,6,4,7,4,4,7,2,5,6,7,2,6,7,5,4,1,5,8,7,4,6,6,4,5,8,10,3,4,4,10,9,7,6,6,0,8,1,7,6,7,4,2,8,9,5,3,5,6,7,8,7,9,7,1,8,4,4,2,9,5,6,7,4,2,6,8,5,4,3,9,1,7,2,8,9,6,0,3,2,1,9,4,6,6,5,5,2,4,3,8,2,5,8,8,0,8,5,4,6,4,9,0,3,4,10,2,8,4,8,6,4,1,2,4,8,6,7,5,9,5,8,4,6,2,4,10,1,2,8,7,8,4,8,7,4,4,9,1,0,6,2,0,8,2,7,8,1,2,8,9,1,0,5,1,8,6,1,1,10,6,6,2,1,4,4,1,3,7,10,4,9,7,2,9,8,3,9,2,6,4,6,7,4,8,8,8,1,5,4,3,1,10,9,10,8,9,10,7,1,0,1,3,7,8,6,10,4,1,9,9,6,3,5,5,0,5,7,5,7,7,6,4,7,7,2,9,5,6,5,1,3,3,3,8,8,7,4,9,2,6,3,6,2,9,1,4,9,9,10,0,5,3,8,5,2,4,4,8,7,10,5,9,8,0,6,1,6,7,5,1,2,8,5,7,4,9,7,8,4,1,3,9,6,1,3,5,5,4,3,9,4,8,2,9,5,5,8,1,3,3,8,9,9,2,1,2,1,9,6,5,6,7,8,10,2,3,3,6,5,1,3,7,0,5,8,6,0,6,3,10,8,7,6,3,3,2,1,7,2,9,7,3,1,5,10,10,0,2,0,10,7,8,2,9,10,9,2,3,3,6,8,4,2,7,3,5,3,5,9,8,9,3,4,3,2,2,8,3,8,2,9,8,0,5,2,7,8,10,9,8,9,2,6,8,4,8,3,4,7,1,0,3,0,10,7,0,3,7,8,7,6,3,3,9,1,5,8,2,9,6,3,4,8,3,10,5,5,1,6,9,9,6,0,8,2,0,9,7,2,5,8,10,1,6,4,7,3,9,10,0,10,3,2,4,6,1,2,6,9,6,9,5,8,5,7,6,5,2,7,4,4,7,1,8,7,6,6,2,2,10,6,2,8,6,5,3,10,0,2,3,7,5,5,3,6,8,4,2,6,0,4,9,8,6,10,5,7,3,4,10,2,7,7,9,1,9,6,2,3,5,8,8,5,9,7,4,1,5,6,5,8,9,1,5,1,8,10,1,2,10,2,2,1,2,5,8,2,6,1,10,9,8,8,8,6,5,6,9,8,1,10,5,4,10,4,3,3,5,6,2,9,3,8,2,2,6,9,6,9,5,5,4,9,1,5,7,4,8,6,3,6,3,7,4,0,6,1,2,1,2,1,5,2,6,2,6,2,6,10,3,6,0,10,3,2,6,2,6,7,5,2,1,9,4,5,5,3,4,3,6,7,1,4,1,6,1,4,1,1,9,7,7,8,5,1,2,2,9,7,2,6,5,4,4,2,8,8,7,2,3,8,1,0,6,3,8,7,9,1,8,5,2,6,5,3,8,2,10,8,5,4,7,3,6,9,10,4,5,3,4,6,2,3,5,6,2,0,4,4,2,9,2,7,1,3,3,3,10,7,4,9,4,9,3,3,7,7,9,3,0,5,7,5,6,6,9,1,9,3,1,1,5,1,3,5,7,4,10,6,1,8,2,0,8,5,1,1,5,9,3,8,2,7,8,4,1,3,10,7,1,9,4,4,1,5,4,2,6,7,2,7,2,8,1,3,7,9,6,6,3,4,1,7,4,6,7,3,1,5,6,3,9,0,9,5,2,2,1,4,4,4,9,1,0,7,3,3,3,9,2,6,1,4,3,3,9,9,7,1,2,7,3,2,4,7,4,8,2,3,5,3,4,0,8,6,10,10,0,8,8,4,5,3,5,2,4,9,9,7,7,6,3,2,5,2,6,9,6,9,1,2,2,7,8,5,7,9,2,8,5,4,5,3,7,6,5,9,5,8,6,6,9,8,4,7,7,1,4,9,3,5,5,0,3,6,4,9,0,2,5,10,2,9,7,0,7,2,9,2,3,1,7,2,2,6,8,2,5,9,5,2,2,9,5,4,7,0,4,8,7,1,3,8,6,8,1,3,4,9,2,8,6,8,6,5,1,7,5,8,7,7,2,2,4,8,7,1,4,1,10,7,5,0,5,10,10,9,0,9,7,2,10,8,4,0,9,10,4,6,2,1,2,6,9,2,7,7,6,9,7,9,2,1,3,8,8,7,8,5,2,3,1,8,1,3,2,1,4,6,6,6,6,8,7,9,8,4,4,3,4,2,2,4,2,5,3,4,6,9,6,2,8,10,8,3,3,1,1,1,5,6,9,1,2,5,6,4,1,2,1,1,4,5,2,8,1,7,1,10,9,2,1,6,6,8,10,10,5,4,8,9,9,0,3,7,2,8,2,9,3,2,2,3,6,2,9,5,6,6,0,5,2,6,8,4,7,8,3,7,4,8,5,10,6,10,2,3,8,5,7,8,4,9,8,8,10,1,2,8,5,2,4,2,10,8,10,8,1,6,10,7,8,4,6,9,6,10,9,1,9,3,7,6,1,8,1,1,2,8,9,2,8,2,8,5,4,9,7,6,2,8,6,5,9,7,3,8,4,7,4,3,10,9,6,4,1,6,5,7,3,1,2,4,7,3,9,7,1,2,1,9,4,7,1,2,10,3,4,7,8,6,10,5,6,1,10,4,7,5,2,3,7,8,0,3,2,0,6,9,1,2,1,2,5,4,1,3,9,5,5,10,2,8,1,6,3,2,2,5,9,3,0,3,10,9,9,7,5,6,6,7,8,3,1,9,2,2,8,0,1,4,5,10,6,1,8,9,7,4,9,8,1,2,7,2,10,5,7,8,6,8,1,9,0,9,8,8,7,0,7,2,3,4,2,1,0,2,2,2,3,3,6,8,3,0,7,6,5,5,10,2,8,4,4,8,5,2,10,9,9,6,7,6,3,7,8,9,9,6,3,3,7,5,6,8,9,2,5,2,2,4,2,7,9,2,1,7,5,2,2,3,1,3,5,5,5,4,9,5,6,9,6,3,5,0,6,9,1,3,2,7,5,9,1,1,3,6,5,1,8,1,6,7,5,8,5,2,3,4,5,6,4,0,2,9,7,5,2,6,6,2,3,5,9,10,10,9,5,9,2,5,2,3,6,6,4,0,1,7,5,5,4,5,1,3,4,0,5,7,8,9,8,10,6,4,9,8,7,4,1,4,5,2,7,10,7,4,10,6,7,2,1,8,6,2,9,8,1,7,9,3,6,10,2,1,0,7,4,6,3,4,4,9,8,6,1,8,7,9,3,4,6,1,9,5,0,2,1,6,10,4,10,5,4,3,0,0,4,5,5,2,5,8,10,4,4,6,4,7,10,8,9,0,3,0,1,7,6,7,0,6,7,10,6,7,8,0,3,7,6,6,3,3,5,5,2,4,3,8,2,1,9,1,7,6,5,6,3,1,3,3,5,5,9,1,8,5,1,5,8,9,9,8,5,9,4,10,1,9,5,2,2,0,6,2,10,0,8,9,1,6,9,9,10,2,7,5,9,8,5,10,4,9,2,1,10,7,3,3,2,2,9,0,7,4,4,7,8,0,8,8,9,2,2,3,3,9,9,6,8,2,9,1,1,5,0,1,2,1,2,7,2,8,10,1,5,2,5,0,0,8,1,2,7,2,5,3,3,6,5,6,2,10,10,5,6,10,2,6,6,2,1,7,5,9,8,1,4,0,9,8,5,5,2,7,7,4,4,5,3,1,9,2,4,8,8,2,5,7,4,4,6,2,8,9,7,4,6,7,9,2,1,9,4,10,8,0,8,2,7,1,0,8,3,1,4,6,5,6,3,4,0,10,1,1,6,5,8,2,3,6,5,10,6,0,8,1,2,4,5,9,9,3,8,7,2,2,8,7,0,5,5,9,5,6,5,7,2,8,6,2,8,9,6,7,1,7,3,7,1,9,4,5,7,6,8,6,5,9,1,4,1,10,8,7,3,9,1,2,0,9,9,6,8,7,6,10,1,3,7,8,1,1,5,5,7,10,1,7,7,7,3,9,10,5,9,1,1,2,1,4,9,2,3,3,4,4,8,8,1,3,9,2,8,5,6,6,10,2,4,3,9,6,2,8,5,5,7,0,5,1,3,5,4,4,5,10,3,4,6,3,9,7,6,5,2,3,3,4,4,7,9,8,1,1,2,9,1,8,4,6,3,4,4,10,5,9,4,7,5,6,8,9,2,4,3,5,7,9,1,6,7,10,8,3,8,3,9,2,7,3,6,5,3,7,2,7,10,2,7,3,3,3,2,8,3,8,7,4,9,4,0,8,4,8,7,1,8,6,4,2,2,1,8,1,10,2,4,3,10,5,1,4,1,3,7,3,9,10,9,7,4,5,4,7,5,1,2,8,0,5,2,10,10,2,3,1,1,9,7,9,8,9,10,1,9,10,1,7,8,5,7,5,8,3,2,9,4,5,1,1,6,1,2,10,5,5,8,1,9,0,5,9,7,9,10,6,4,8,10,6,2,1,10,8,8,1,3,4,4,0,6,1,3,2,9,4,7,7,8,3,1,2,8,2,8,10,2,4,10,5,9,6,2,8,3,6,3,7,10,10,4,10,9,2,3,6,1,1,5,7,1,0,1,8,6,5,1,6,4,4,9,6,8,8,5,1,8,5,9,7,8,5,2,7,10,9,1,9,10,8,6,2,6,4,1,6,4,9,2,5,4,4,5,8,6,7,3,4,7,7,7,9,9,1,6,4,7,6,1,8,4,4,3,2,7,2,5,10,4],\"type\":\"box\"},{\"marker\":{\"color\":\"indianred\"},\"name\":\"Exited\",\"y\":[2,8,8,4,1,4,3,0,8,2,9,9,8,1,4,2,2,3,4,5,1,4,9,9,8,9,1,0,2,1,2,5,9,7,0,7,2,10,3,4,8,5,2,3,5,7,1,8,10,6,6,2,6,3,2,6,10,8,7,3,3,1,4,9,7,2,4,2,1,9,8,7,5,10,6,9,2,10,2,9,8,1,9,9,5,3,7,1,3,8,3,6,1,4,5,1,6,9,3,6,2,8,5,3,10,4,1,3,1,5,1,0,7,6,3,3,1,2,1,10,2,1,2,9,6,7,5,8,5,0,8,1,6,6,5,5,9,8,4,7,2,5,7,1,1,5,3,2,6,1,9,7,2,5,6,2,9,1,2,6,7,9,7,9,8,2,9,3,6,5,1,5,1,8,2,1,6,7,6,4,4,3,8,2,1,4,9,1,6,1,5,1,8,6,4,5,3,2,4,4,8,6,0,3,3,5,6,10,5,5,6,7,1,4,3,1,9,4,10,6,7,5,0,5,2,4,4,3,1,0,1,8,8,1,1,1,7,7,5,4,7,9,8,6,0,5,4,5,9,5,4,6,2,7,6,6,8,5,5,9,10,10,1,5,8,5,5,8,10,9,10,3,8,2,3,5,7,3,6,9,2,7,6,9,5,7,8,7,8,9,8,5,8,0,2,4,0,4,3,4,6,7,8,9,9,10,6,5,4,3,3,7,10,1,3,1,5,10,4,6,7,9,1,5,4,3,5,4,4,7,2,6,6,1,1,3,8,8,4,9,3,5,0,5,8,1,5,9,1,6,4,5,3,7,8,0,8,9,3,1,1,2,9,7,1,5,4,4,6,2,1,4,4,2,8,4,7,8,8,7,0,9,0,4,9,2,9,9,9,5,4,1,3,7,5,9,2,3,4,7,5,10,8,3,4,6,8,5,9,1,9,4,8,8,7,2,3,10,5,6,7,5,7,0,1,8,8,6,1,2,4,1,6,2,3,5,7,3,2,1,10,4,7,4,7,6,9,2,7,4,7,9,8,10,2,5,9,5,6,9,2,2,4,6,10,6,3,2,3,3,6,10,2,4,9,8,4,9,2,3,8,0,7,9,9,5,5,6,7,0,4,4,7,5,3,7,2,1,4,9,7,1,7,4,4,8,8,0,9,6,5,4,4,3,2,1,6,5,1,5,9,1,9,6,4,8,8,3,2,8,10,4,2,7,4,3,1,3,6,8,3,9,1,4,8,8,6,6,6,9,5,0,6,6,10,3,6,8,2,3,9,3,9,3,2,4,2,8,9,2,9,1,8,8,5,7,9,8,3,1,3,4,8,9,8,4,1,3,8,9,7,9,6,0,8,4,5,0,7,2,10,7,5,4,3,8,3,6,8,6,8,1,1,2,6,4,0,9,7,2,4,7,10,9,5,5,7,9,9,1,1,1,1,5,2,3,9,3,5,7,6,5,4,3,3,8,4,2,10,8,7,10,5,6,8,5,10,2,2,2,8,6,9,8,8,4,7,0,2,3,7,10,9,9,1,1,3,8,9,10,2,5,1,6,0,3,6,8,0,4,2,6,2,5,4,4,6,3,9,0,0,3,3,5,3,4,2,4,4,5,5,5,0,6,6,4,4,4,3,7,4,6,7,6,9,2,4,8,3,6,8,8,0,1,0,3,6,1,2,5,10,5,8,0,5,2,8,6,5,4,1,6,7,8,9,5,8,2,1,8,5,6,6,7,1,9,6,4,8,6,0,8,3,9,8,6,3,9,5,2,2,9,4,4,5,10,8,0,1,9,7,7,7,6,9,6,3,5,4,3,1,5,2,8,9,4,0,5,3,4,6,3,3,5,4,2,1,2,1,3,4,9,6,2,1,3,5,6,3,9,3,1,5,9,9,5,7,4,2,3,7,4,2,8,7,5,5,2,1,2,9,6,10,6,2,5,6,3,8,10,1,2,6,1,6,3,3,5,9,7,2,5,6,8,5,0,5,8,2,7,2,1,8,9,0,1,5,9,1,6,8,2,5,5,2,8,8,8,0,7,1,2,8,9,2,3,2,5,1,4,7,3,2,5,9,6,5,3,7,8,3,9,0,2,2,9,7,3,9,6,10,2,6,5,7,1,0,7,8,6,8,1,5,1,8,8,1,5,2,2,8,10,8,6,9,10,9,1,9,4,6,7,3,1,8,2,4,10,3,8,7,0,1,8,3,9,0,4,3,5,3,3,6,10,2,0,4,5,3,1,4,1,1,4,1,2,1,1,7,8,2,1,3,1,7,7,2,1,2,4,2,5,5,7,9,9,9,4,1,3,2,8,10,9,0,2,1,0,1,2,8,5,9,1,5,9,8,3,8,2,10,6,3,9,9,1,7,3,7,7,8,3,8,4,1,0,3,4,7,8,3,8,4,8,9,4,0,2,9,3,3,8,1,8,8,10,6,4,2,7,5,2,9,2,6,5,3,3,9,6,5,4,1,9,0,10,9,1,1,5,6,6,6,0,3,1,9,6,8,9,7,9,10,0,6,2,4,5,9,4,1,3,9,6,2,1,5,3,8,6,3,6,9,1,1,2,3,2,4,9,2,10,5,1,9,10,1,1,2,6,8,3,1,6,1,8,0,2,7,3,5,2,2,3,4,9,7,9,5,8,4,5,2,6,5,9,1,9,2,4,7,7,6,1,3,6,3,4,6,9,5,8,7,7,2,9,4,8,2,10,1,6,3,1,5,2,7,7,1,8,8,9,2,3,1,4,5,1,7,10,8,2,9,9,0,3,4,6,9,10,3,9,7,3,7,4,9,6,0,8,8,10,9,6,0,9,10,8,10,10,5,1,9,7,0,5,9,0,9,7,5,7,2,8,1,7,9,9,9,6,9,3,5,3,9,3,9,8,5,8,5,3,4,5,5,2,4,9,0,6,1,1,4,5,4,1,1,9,6,1,2,3,6,9,8,4,1,2,4,5,10,9,9,0,5,6,1,5,9,5,0,5,5,9,2,1,7,3,9,0,2,8,5,5,5,1,10,2,2,4,7,10,5,5,5,4,9,2,1,6,8,4,4,4,1,4,1,3,1,1,7,3,0,1,1,10,6,6,3,5,6,2,8,0,6,7,5,9,3,7,8,3,8,0,0,5,8,8,9,10,0,4,1,9,2,2,9,5,9,5,2,10,7,6,8,7,3,5,10,7,10,10,8,4,2,1,6,3,2,3,7,0,1,7,8,6,6,2,3,10,7,0,1,3,8,6,9,4,8,9,7,5,4,2,5,5,9,3,3,4,0,1,8,6,6,4,3,10,6,4,7,4,1,3,4,8,6,5,8,0,6,2,0,8,7,8,6,10,7,5,6,5,8,8,4,9,2,2,7,8,7,3,2,0,0,5,8,10,7,9,7,4,6,6,2,2,5,1,10,4,1,8,8,0,7,4,6,4,10,1,8,7,7,5,4,1,1,6,1,3,4,2,5,6,4,7,1,4,2,9,4,0,5,4,10,6,10,2,4,9,9,7,6,0,1,10,6,3,0,1,10,4,5,7,8,3,1,8,7,7,4,6,3,0,8,5,3,2,10,10,7,2,5,4,10,8,9,3,9,9,1,5,3,2,8,1,6,4,8,9,1,6,1,6,2,1,4,7,6,1,7,7,2,3,2,4,2,3,9,2,7,5,6,7,8,0,2,10,1,6,1,1,5,1,5,1,3,1,1,1,1,3,4,2,2,1,3,6,4,10,3,3,4,3,1,6,9,3,1,1,7,6,6,3,1,4,8,9,9,6,0,2,5,1,2,9,6,5,2,10,6,8,6,8,3,6,3,1,0,3,3,3,5,7,7,6,4,3,0,9,8,2,7,0,7,4,5,3,3,4,6,10,0,9,3,7,2,1,7,6,8,6,1,10,7,1,5,7,3,6,6,4,0,3,9,4,6,7,1,6,9,5,4,2,0,6,7,3,7,1,1,9,5,2,2,10,2,0,3,6,5,5,9,4,3,8,3,1,1,2,2,4,1,3,7,1,9,4,1,6,10,5,3,9,2,1,7,3,2,4,2,9,4,9,1,8,5,4,7,9,5,7,9,7,10,8,9,10,5,6,7,3,10,3,0,5,9,9,9,1,2,6,3,7,1,9,6,2,0,5,3,2,8,8,3,9,4,2,8,10,8,4,5,1,4,8,5,4,1,9,3,10,3,8,4,8,1,1,7,8,6,2,0,1,8,1,5,5,2,8,1,3,4,5,9,7,6,8,2,6,10,5,2,4,10,1,6,7,10,9,2,7,2,8,4,6,4,0,5,0,10,10,2,4,4,9,4,4,3,1,3,7,7,2,7,0,6,1,9,2,9,5,7,9,9,9,4,4,2,4,9,4,7,4,9,1,3,10,1,5,1,3,2,4,5,1,1,3,4,8,5,6,9,6,10,6,3,3,5,7,4,5,9,6,8,7,3,2,7,3,1,3,0,0,2,5,1,10,7,4,10,10,6,5,3,9,3,1,7,8,7,8,5,5,8,7,4,5,3,4,6,0,3,1,1,10,1,2,6,1,6,1,3,4,5,3,9,3,4,3,4,2,7,8,3,5,10,1,10,9,9,1,3,7,4,7,3],\"type\":\"box\"}],                        {\"template\":{\"data\":{\"bar\":[{\"error_x\":{\"color\":\"#2a3f5f\"},\"error_y\":{\"color\":\"#2a3f5f\"},\"marker\":{\"line\":{\"color\":\"#E5ECF6\",\"width\":0.5},\"pattern\":{\"fillmode\":\"overlay\",\"size\":10,\"solidity\":0.2}},\"type\":\"bar\"}],\"barpolar\":[{\"marker\":{\"line\":{\"color\":\"#E5ECF6\",\"width\":0.5},\"pattern\":{\"fillmode\":\"overlay\",\"size\":10,\"solidity\":0.2}},\"type\":\"barpolar\"}],\"carpet\":[{\"aaxis\":{\"endlinecolor\":\"#2a3f5f\",\"gridcolor\":\"white\",\"linecolor\":\"white\",\"minorgridcolor\":\"white\",\"startlinecolor\":\"#2a3f5f\"},\"baxis\":{\"endlinecolor\":\"#2a3f5f\",\"gridcolor\":\"white\",\"linecolor\":\"white\",\"minorgridcolor\":\"white\",\"startlinecolor\":\"#2a3f5f\"},\"type\":\"carpet\"}],\"choropleth\":[{\"colorbar\":{\"outlinewidth\":0,\"ticks\":\"\"},\"type\":\"choropleth\"}],\"contour\":[{\"colorbar\":{\"outlinewidth\":0,\"ticks\":\"\"},\"colorscale\":[[0.0,\"#0d0887\"],[0.1111111111111111,\"#46039f\"],[0.2222222222222222,\"#7201a8\"],[0.3333333333333333,\"#9c179e\"],[0.4444444444444444,\"#bd3786\"],[0.5555555555555556,\"#d8576b\"],[0.6666666666666666,\"#ed7953\"],[0.7777777777777778,\"#fb9f3a\"],[0.8888888888888888,\"#fdca26\"],[1.0,\"#f0f921\"]],\"type\":\"contour\"}],\"contourcarpet\":[{\"colorbar\":{\"outlinewidth\":0,\"ticks\":\"\"},\"type\":\"contourcarpet\"}],\"heatmap\":[{\"colorbar\":{\"outlinewidth\":0,\"ticks\":\"\"},\"colorscale\":[[0.0,\"#0d0887\"],[0.1111111111111111,\"#46039f\"],[0.2222222222222222,\"#7201a8\"],[0.3333333333333333,\"#9c179e\"],[0.4444444444444444,\"#bd3786\"],[0.5555555555555556,\"#d8576b\"],[0.6666666666666666,\"#ed7953\"],[0.7777777777777778,\"#fb9f3a\"],[0.8888888888888888,\"#fdca26\"],[1.0,\"#f0f921\"]],\"type\":\"heatmap\"}],\"heatmapgl\":[{\"colorbar\":{\"outlinewidth\":0,\"ticks\":\"\"},\"colorscale\":[[0.0,\"#0d0887\"],[0.1111111111111111,\"#46039f\"],[0.2222222222222222,\"#7201a8\"],[0.3333333333333333,\"#9c179e\"],[0.4444444444444444,\"#bd3786\"],[0.5555555555555556,\"#d8576b\"],[0.6666666666666666,\"#ed7953\"],[0.7777777777777778,\"#fb9f3a\"],[0.8888888888888888,\"#fdca26\"],[1.0,\"#f0f921\"]],\"type\":\"heatmapgl\"}],\"histogram\":[{\"marker\":{\"pattern\":{\"fillmode\":\"overlay\",\"size\":10,\"solidity\":0.2}},\"type\":\"histogram\"}],\"histogram2d\":[{\"colorbar\":{\"outlinewidth\":0,\"ticks\":\"\"},\"colorscale\":[[0.0,\"#0d0887\"],[0.1111111111111111,\"#46039f\"],[0.2222222222222222,\"#7201a8\"],[0.3333333333333333,\"#9c179e\"],[0.4444444444444444,\"#bd3786\"],[0.5555555555555556,\"#d8576b\"],[0.6666666666666666,\"#ed7953\"],[0.7777777777777778,\"#fb9f3a\"],[0.8888888888888888,\"#fdca26\"],[1.0,\"#f0f921\"]],\"type\":\"histogram2d\"}],\"histogram2dcontour\":[{\"colorbar\":{\"outlinewidth\":0,\"ticks\":\"\"},\"colorscale\":[[0.0,\"#0d0887\"],[0.1111111111111111,\"#46039f\"],[0.2222222222222222,\"#7201a8\"],[0.3333333333333333,\"#9c179e\"],[0.4444444444444444,\"#bd3786\"],[0.5555555555555556,\"#d8576b\"],[0.6666666666666666,\"#ed7953\"],[0.7777777777777778,\"#fb9f3a\"],[0.8888888888888888,\"#fdca26\"],[1.0,\"#f0f921\"]],\"type\":\"histogram2dcontour\"}],\"mesh3d\":[{\"colorbar\":{\"outlinewidth\":0,\"ticks\":\"\"},\"type\":\"mesh3d\"}],\"parcoords\":[{\"line\":{\"colorbar\":{\"outlinewidth\":0,\"ticks\":\"\"}},\"type\":\"parcoords\"}],\"pie\":[{\"automargin\":true,\"type\":\"pie\"}],\"scatter\":[{\"marker\":{\"colorbar\":{\"outlinewidth\":0,\"ticks\":\"\"}},\"type\":\"scatter\"}],\"scatter3d\":[{\"line\":{\"colorbar\":{\"outlinewidth\":0,\"ticks\":\"\"}},\"marker\":{\"colorbar\":{\"outlinewidth\":0,\"ticks\":\"\"}},\"type\":\"scatter3d\"}],\"scattercarpet\":[{\"marker\":{\"colorbar\":{\"outlinewidth\":0,\"ticks\":\"\"}},\"type\":\"scattercarpet\"}],\"scattergeo\":[{\"marker\":{\"colorbar\":{\"outlinewidth\":0,\"ticks\":\"\"}},\"type\":\"scattergeo\"}],\"scattergl\":[{\"marker\":{\"colorbar\":{\"outlinewidth\":0,\"ticks\":\"\"}},\"type\":\"scattergl\"}],\"scattermapbox\":[{\"marker\":{\"colorbar\":{\"outlinewidth\":0,\"ticks\":\"\"}},\"type\":\"scattermapbox\"}],\"scatterpolar\":[{\"marker\":{\"colorbar\":{\"outlinewidth\":0,\"ticks\":\"\"}},\"type\":\"scatterpolar\"}],\"scatterpolargl\":[{\"marker\":{\"colorbar\":{\"outlinewidth\":0,\"ticks\":\"\"}},\"type\":\"scatterpolargl\"}],\"scatterternary\":[{\"marker\":{\"colorbar\":{\"outlinewidth\":0,\"ticks\":\"\"}},\"type\":\"scatterternary\"}],\"surface\":[{\"colorbar\":{\"outlinewidth\":0,\"ticks\":\"\"},\"colorscale\":[[0.0,\"#0d0887\"],[0.1111111111111111,\"#46039f\"],[0.2222222222222222,\"#7201a8\"],[0.3333333333333333,\"#9c179e\"],[0.4444444444444444,\"#bd3786\"],[0.5555555555555556,\"#d8576b\"],[0.6666666666666666,\"#ed7953\"],[0.7777777777777778,\"#fb9f3a\"],[0.8888888888888888,\"#fdca26\"],[1.0,\"#f0f921\"]],\"type\":\"surface\"}],\"table\":[{\"cells\":{\"fill\":{\"color\":\"#EBF0F8\"},\"line\":{\"color\":\"white\"}},\"header\":{\"fill\":{\"color\":\"#C8D4E3\"},\"line\":{\"color\":\"white\"}},\"type\":\"table\"}]},\"layout\":{\"annotationdefaults\":{\"arrowcolor\":\"#2a3f5f\",\"arrowhead\":0,\"arrowwidth\":1},\"autotypenumbers\":\"strict\",\"coloraxis\":{\"colorbar\":{\"outlinewidth\":0,\"ticks\":\"\"}},\"colorscale\":{\"diverging\":[[0,\"#8e0152\"],[0.1,\"#c51b7d\"],[0.2,\"#de77ae\"],[0.3,\"#f1b6da\"],[0.4,\"#fde0ef\"],[0.5,\"#f7f7f7\"],[0.6,\"#e6f5d0\"],[0.7,\"#b8e186\"],[0.8,\"#7fbc41\"],[0.9,\"#4d9221\"],[1,\"#276419\"]],\"sequential\":[[0.0,\"#0d0887\"],[0.1111111111111111,\"#46039f\"],[0.2222222222222222,\"#7201a8\"],[0.3333333333333333,\"#9c179e\"],[0.4444444444444444,\"#bd3786\"],[0.5555555555555556,\"#d8576b\"],[0.6666666666666666,\"#ed7953\"],[0.7777777777777778,\"#fb9f3a\"],[0.8888888888888888,\"#fdca26\"],[1.0,\"#f0f921\"]],\"sequentialminus\":[[0.0,\"#0d0887\"],[0.1111111111111111,\"#46039f\"],[0.2222222222222222,\"#7201a8\"],[0.3333333333333333,\"#9c179e\"],[0.4444444444444444,\"#bd3786\"],[0.5555555555555556,\"#d8576b\"],[0.6666666666666666,\"#ed7953\"],[0.7777777777777778,\"#fb9f3a\"],[0.8888888888888888,\"#fdca26\"],[1.0,\"#f0f921\"]]},\"colorway\":[\"#636efa\",\"#EF553B\",\"#00cc96\",\"#ab63fa\",\"#FFA15A\",\"#19d3f3\",\"#FF6692\",\"#B6E880\",\"#FF97FF\",\"#FECB52\"],\"font\":{\"color\":\"#2a3f5f\"},\"geo\":{\"bgcolor\":\"white\",\"lakecolor\":\"white\",\"landcolor\":\"#E5ECF6\",\"showlakes\":true,\"showland\":true,\"subunitcolor\":\"white\"},\"hoverlabel\":{\"align\":\"left\"},\"hovermode\":\"closest\",\"mapbox\":{\"style\":\"light\"},\"paper_bgcolor\":\"white\",\"plot_bgcolor\":\"#E5ECF6\",\"polar\":{\"angularaxis\":{\"gridcolor\":\"white\",\"linecolor\":\"white\",\"ticks\":\"\"},\"bgcolor\":\"#E5ECF6\",\"radialaxis\":{\"gridcolor\":\"white\",\"linecolor\":\"white\",\"ticks\":\"\"}},\"scene\":{\"xaxis\":{\"backgroundcolor\":\"#E5ECF6\",\"gridcolor\":\"white\",\"gridwidth\":2,\"linecolor\":\"white\",\"showbackground\":true,\"ticks\":\"\",\"zerolinecolor\":\"white\"},\"yaxis\":{\"backgroundcolor\":\"#E5ECF6\",\"gridcolor\":\"white\",\"gridwidth\":2,\"linecolor\":\"white\",\"showbackground\":true,\"ticks\":\"\",\"zerolinecolor\":\"white\"},\"zaxis\":{\"backgroundcolor\":\"#E5ECF6\",\"gridcolor\":\"white\",\"gridwidth\":2,\"linecolor\":\"white\",\"showbackground\":true,\"ticks\":\"\",\"zerolinecolor\":\"white\"}},\"shapedefaults\":{\"line\":{\"color\":\"#2a3f5f\"}},\"ternary\":{\"aaxis\":{\"gridcolor\":\"white\",\"linecolor\":\"white\",\"ticks\":\"\"},\"baxis\":{\"gridcolor\":\"white\",\"linecolor\":\"white\",\"ticks\":\"\"},\"bgcolor\":\"#E5ECF6\",\"caxis\":{\"gridcolor\":\"white\",\"linecolor\":\"white\",\"ticks\":\"\"}},\"title\":{\"x\":0.05},\"xaxis\":{\"automargin\":true,\"gridcolor\":\"white\",\"linecolor\":\"white\",\"ticks\":\"\",\"title\":{\"standoff\":15},\"zerolinecolor\":\"white\",\"zerolinewidth\":2},\"yaxis\":{\"automargin\":true,\"gridcolor\":\"white\",\"linecolor\":\"white\",\"ticks\":\"\",\"title\":{\"standoff\":15},\"zerolinecolor\":\"white\",\"zerolinewidth\":2}}},\"yaxis\":{\"title\":{\"text\":\"Tenure\"}}},                        {\"responsive\": true}                    ).then(function(){\n",
              "                            \n",
              "var gd = document.getElementById('56ea7e8b-e285-4b6a-be62-4f60712be487');\n",
              "var x = new MutationObserver(function (mutations, observer) {{\n",
              "        var display = window.getComputedStyle(gd).display;\n",
              "        if (!display || display === 'none') {{\n",
              "            console.log([gd, 'removed!']);\n",
              "            Plotly.purge(gd);\n",
              "            observer.disconnect();\n",
              "        }}\n",
              "}});\n",
              "\n",
              "// Listen for the removal of the full notebook cells\n",
              "var notebookContainer = gd.closest('#notebook-container');\n",
              "if (notebookContainer) {{\n",
              "    x.observe(notebookContainer, {childList: true});\n",
              "}}\n",
              "\n",
              "// Listen for the clearing of the current output cell\n",
              "var outputEl = gd.closest('.output');\n",
              "if (outputEl) {{\n",
              "    x.observe(outputEl, {childList: true});\n",
              "}}\n",
              "\n",
              "                        })                };                            </script>        </div>\n",
              "</body>\n",
              "</html>"
            ]
          },
          "metadata": {}
        }
      ],
      "source": [
        "# Tenure\n",
        "\n",
        "y0 = bank_data.Tenure[bank_data.Exited == 0].values\n",
        "y1 = bank_data.Tenure[bank_data.Exited == 1].values\n",
        "\n",
        "fig = go.Figure()\n",
        "fig.add_trace(go.Box(y=y0, name='Continued',\n",
        "                marker_color = 'lightseagreen'))\n",
        "fig.add_trace(go.Box(y=y1, name = 'Exited',\n",
        "                marker_color = 'indianred'))\n",
        "\n",
        "fig.update_layout(\n",
        "    yaxis_title='Tenure'\n",
        ")\n",
        "\n",
        "fig.show()\n"
      ]
    },
    {
      "cell_type": "markdown",
      "metadata": {
        "id": "bnlsXvPCQHE-"
      },
      "source": [
        "With respect to Tenure, Customers repaying loans in less years or taking more time to repay loans are churning out. Bank needs to provide benefits for customers who are repaying loans in quick time and for those who have stayed for a long time (High tenure). "
      ]
    },
    {
      "cell_type": "code",
      "execution_count": 17,
      "metadata": {
        "id": "jlnNtSjhQHE-",
        "outputId": "40a69a35-3f52-48de-cc77-0a63d51beeeb",
        "colab": {
          "base_uri": "https://localhost:8080/",
          "height": 542
        }
      },
      "outputs": [
        {
          "output_type": "display_data",
          "data": {
            "text/html": [
              "<html>\n",
              "<head><meta charset=\"utf-8\" /></head>\n",
              "<body>\n",
              "    <div>            <script src=\"https://cdnjs.cloudflare.com/ajax/libs/mathjax/2.7.5/MathJax.js?config=TeX-AMS-MML_SVG\"></script><script type=\"text/javascript\">if (window.MathJax) {MathJax.Hub.Config({SVG: {font: \"STIX-Web\"}});}</script>                <script type=\"text/javascript\">window.PlotlyConfig = {MathJaxConfig: 'local'};</script>\n",
              "        <script src=\"https://cdn.plot.ly/plotly-2.8.3.min.js\"></script>                <div id=\"0c9eef4c-5518-4aff-bcf1-32d0a5ebe987\" class=\"plotly-graph-div\" style=\"height:525px; width:100%;\"></div>            <script type=\"text/javascript\">                                    window.PLOTLYENV=window.PLOTLYENV || {};                                    if (document.getElementById(\"0c9eef4c-5518-4aff-bcf1-32d0a5ebe987\")) {                    Plotly.newPlot(                        \"0c9eef4c-5518-4aff-bcf1-32d0a5ebe987\",                        [{\"marker\":{\"color\":\"blue\"},\"name\":\"Continued\",\"y\":[83807.86,0.0,125510.82,0.0,142051.07,134603.88,102016.72,0.0,0.0,0.0,0.0,143129.41,0.0,0.0,0.0,0.0,0.0,0.0,0.0,0.0,136815.64,0.0,141349.43,59697.17,85311.7,110112.54,0.0,0.0,145260.23,76548.6,0.0,70349.48,0.0,117419.35,155931.11,109421.13,103391.38,103769.22,116363.37,146050.97,0.0,125211.92,127864.4,75888.2,40685.92,136857.0,152328.88,56084.69,78707.16,109166.37,169831.46,101633.04,123180.01,150725.53,98373.26,0.0,163607.18,157780.84,0.0,178718.19,0.0,0.0,77253.22,122189.66,96645.54,0.0,90307.62,0.0,0.0,0.0,81623.67,118626.55,0.0,0.0,0.0,176273.95,102827.44,97086.4,0.0,0.0,0.0,0.0,82674.15,0.0,88938.62,99806.85,150092.8,90536.81,108055.1,100238.35,106190.55,132351.29,167864.4,0.0,185173.81,129433.34,120193.42,0.0,126384.42,0.0,0.0,101827.07,0.0,130862.43,122570.87,0.0,124828.46,144895.05,63663.93,133463.1,137452.09,0.0,125851.93,113157.22,138296.94,106967.18,120681.63,0.0,0.0,0.0,127609.59,0.0,0.0,0.0,97259.25,123246.7,101060.25,0.0,108007.36,0.0,125189.75,109013.23,57929.81,130114.39,95826.49,169462.09,0.0,133868.21,0.0,190479.48,101993.12,122311.21,0.0,162150.42,0.0,0.0,99010.67,0.0,0.0,111388.18,84327.77,0.0,93012.89,61710.44,174790.15,0.0,107720.64,0.0,96423.84,141040.01,105420.18,176666.62,0.0,134954.53,106376.85,161814.64,0.0,0.0,63095.01,118287.01,49512.55,0.0,114722.05,0.0,0.0,170557.91,0.0,130830.22,0.0,0.0,0.0,119714.25,113978.97,0.0,81173.83,0.0,116803.8,105961.68,0.0,152400.51,0.0,103097.85,77846.9,0.0,0.0,79731.91,0.0,0.0,0.0,37266.67,127992.25,54901.01,108748.08,99906.19,184686.41,110654.02,79019.8,99240.51,0.0,0.0,52436.2,0.0,149297.19,0.0,145605.44,0.0,0.0,84026.86,0.0,0.0,118274.71,174185.98,113208.86,103907.28,119023.28,166297.89,0.0,63227.0,94521.17,0.0,0.0,135903.33,125169.26,149117.31,0.0,0.0,132311.71,0.0,0.0,118082.89,119266.69,156847.29,78398.69,0.0,63669.42,0.0,135296.33,153804.44,0.0,0.0,0.0,95741.75,145965.33,141441.75,0.0,0.0,144428.87,0.0,144848.74,116244.14,0.0,146502.07,117028.6,108269.37,150923.74,0.0,118342.26,0.0,0.0,0.0,0.0,106937.05,170331.37,114510.85,0.0,107594.11,81273.13,169399.6,0.0,187841.99,0.0,126776.3,101960.74,0.0,0.0,102535.57,99027.61,0.0,0.0,87271.41,102742.91,40105.51,152265.43,141947.67,106307.91,107884.81,125013.72,58469.37,0.0,152390.26,34013.63,0.0,101583.11,77168.87,124695.72,105934.96,0.0,0.0,0.0,0.0,161525.96,147199.07,183102.29,97378.54,136925.09,54503.55,155726.85,0.0,63349.75,129499.42,0.0,70438.01,0.0,0.0,0.0,152958.29,138306.34,0.0,0.0,124328.84,0.0,0.0,89588.35,0.0,0.0,0.0,0.0,0.0,162923.85,124576.65,80793.58,71340.09,127892.57,101084.36,0.0,99286.98,79871.02,104088.59,168190.33,85679.25,0.0,0.0,121551.58,122220.19,77780.29,0.0,125832.2,127299.34,174937.64,0.0,110071.1,139432.37,127357.76,0.0,0.0,0.0,0.0,111681.98,0.0,108738.71,0.0,89968.69,0.0,0.0,0.0,134169.62,93844.69,0.0,0.0,117992.59,100812.33,0.0,80262.6,156478.62,0.0,0.0,115217.99,155470.55,0.0,0.0,180075.22,97541.24,156067.05,81550.94,92310.54,169089.38,80613.93,121581.56,0.0,0.0,77637.35,0.0,0.0,116927.89,137326.65,0.0,0.0,67238.98,86569.76,0.0,133598.4,0.0,120092.52,89685.92,131317.48,93722.73,101160.99,120320.54,0.0,0.0,0.0,64097.75,119035.35,135219.57,93694.42,59408.63,114354.95,128173.9,0.0,151226.18,0.0,64740.12,112652.08,0.0,143964.36,122451.46,0.0,65253.07,128509.63,0.0,129834.67,138241.9,0.0,0.0,105204.01,152968.73,158261.68,121021.05,0.0,137715.66,121192.22,0.0,100486.18,92566.53,110929.96,0.0,138901.61,123217.66,0.0,0.0,0.0,0.0,72392.41,0.0,0.0,134811.3,115897.12,82034.0,174318.13,114206.84,0.0,111574.41,148249.54,123709.46,0.0,150525.8,0.0,0.0,0.0,0.0,111018.98,129755.99,0.0,129555.7,87202.38,146133.39,170184.99,139070.51,0.0,114193.24,167878.5,141616.55,145747.67,129120.64,110349.82,141325.56,78653.84,0.0,142253.65,75592.43,164113.04,0.0,0.0,138778.15,147832.15,135438.4,112564.62,125406.58,0.0,82259.29,0.0,0.0,0.0,0.0,150461.07,164870.81,121702.73,193858.2,131039.97,113829.45,0.0,81877.38,116326.07,0.0,0.0,0.0,0.0,127070.73,0.0,122549.64,176099.13,122388.38,0.0,0.0,118879.35,0.0,0.0,88736.44,0.0,0.0,97318.25,128468.69,133432.59,141782.57,135125.28,112212.14,66392.64,122552.34,76408.85,145071.24,0.0,109730.22,0.0,0.0,181656.51,0.0,95128.86,126615.94,0.0,76190.48,88109.81,0.0,0.0,123971.51,148116.48,116269.01,120599.21,144260.5,0.0,58629.97,0.0,0.0,0.0,0.0,169824.46,97530.25,145988.65,0.0,0.0,137494.28,147360.0,0.0,125167.02,0.0,151858.98,114628.4,0.0,95059.02,128736.39,156325.38,105405.97,0.0,0.0,160980.03,177619.71,62276.99,127559.97,0.0,95523.16,107749.03,110777.26,166733.92,157120.86,127160.78,0.0,156091.97,98668.18,134022.06,114292.48,135277.96,0.0,119782.72,129722.57,0.0,139180.2,134944.0,0.0,119182.73,0.0,71264.02,0.0,0.0,92140.15,0.0,177640.09,0.0,167997.6,82275.35,0.0,111962.99,131736.88,0.0,108239.11,98444.19,114540.38,187530.66,133636.16,0.0,84745.03,120599.38,0.0,127771.35,0.0,0.0,167772.96,95845.6,0.0,134714.7,0.0,0.0,157993.15,0.0,75263.16,137824.03,132578.92,156021.31,0.0,0.0,164284.72,0.0,0.0,112373.49,0.0,0.0,0.0,154333.82,111432.77,0.0,137390.11,0.0,111642.08,83543.37,186796.37,58641.43,137148.68,80001.23,86402.52,0.0,122874.74,97544.29,170826.55,153895.65,0.0,0.0,0.0,143637.58,147506.25,113980.21,0.0,0.0,76968.12,88293.13,0.0,0.0,163943.89,0.0,101430.3,117301.66,173340.83,0.0,134348.57,105525.65,106192.1,92113.61,0.0,128366.44,0.0,106545.53,145618.37,141541.25,57017.06,0.0,61825.5,0.0,0.0,171770.55,161064.64,90612.34,145105.64,174912.72,135213.71,0.0,116229.85,111201.41,0.0,131899.0,124525.52,0.0,47134.75,0.0,0.0,0.0,138657.08,70302.48,101609.01,0.0,130170.82,133802.29,106234.02,132628.98,103522.75,192390.52,0.0,0.0,128605.32,0.0,68598.56,106518.52,0.0,121326.42,67226.37,82931.85,145981.87,130796.33,151607.56,111577.01,107042.74,129605.99,0.0,0.0,132576.25,129101.3,108822.4,137948.51,100433.8,124626.07,139810.34,0.0,84496.71,116854.71,138333.03,0.0,78992.75,97257.41,122453.37,112940.07,0.0,133297.24,0.0,197041.8,71497.79,0.0,124532.78,82293.82,142120.91,149620.88,93147.0,97440.02,65046.08,95357.49,123105.88,0.0,0.0,121286.27,167738.82,104091.29,121980.56,0.0,50880.98,105514.69,0.0,99824.45,0.0,122964.88,0.0,0.0,0.0,95710.11,139706.31,0.0,102238.01,179380.74,0.0,108691.95,0.0,0.0,133377.8,0.0,0.0,116537.6,0.0,0.0,130131.08,0.0,0.0,107316.09,0.0,83181.29,0.0,153946.14,0.0,0.0,119624.54,121132.26,54817.55,0.0,80816.45,98205.77,94684.27,141604.76,0.0,0.0,81677.22,80293.98,155413.06,0.0,103818.43,0.0,214346.96,103023.26,0.0,0.0,111855.04,140348.56,0.0,145512.84,146720.98,107209.73,130933.74,0.0,0.0,0.0,0.0,0.0,123981.31,91622.42,126195.81,0.0,0.0,0.0,141581.71,0.0,148586.64,0.0,0.0,123403.85,0.0,106511.85,0.0,110555.37,0.0,92578.14,87070.23,0.0,91070.43,117412.19,90018.45,0.0,149641.53,122528.18,143734.01,155663.31,101736.66,125822.21,0.0,0.0,0.0,157791.07,0.0,0.0,181627.14,109679.72,190008.32,0.0,0.0,0.0,131344.52,101713.84,0.0,0.0,137963.07,129938.07,151421.44,122773.5,152303.8,0.0,79415.67,0.0,0.0,67495.04,164850.54,154776.42,143124.63,0.0,0.0,102133.38,79932.41,122717.53,92363.3,0.0,0.0,0.0,93460.47,0.0,40224.7,0.0,130538.77,132623.6,103465.02,128262.72,0.0,150795.81,0.0,0.0,65643.3,0.0,104584.16,0.0,99785.28,0.0,101257.16,0.0,121313.88,0.0,81523.38,128252.66,0.0,0.0,0.0,0.0,145541.56,115182.84,163789.49,65733.41,0.0,128486.11,109663.47,88324.31,146445.24,0.0,0.0,109949.05,78653.05,83765.35,143773.07,116227.27,103471.52,0.0,137492.35,0.0,129829.59,146329.57,114027.7,146580.69,132122.42,0.0,0.0,0.0,0.0,175214.71,97705.99,126817.65,0.0,120094.93,0.0,0.0,104356.94,73023.17,173432.55,165679.92,104678.62,0.0,126732.85,148481.09,137654.05,115315.04,99095.73,165610.41,161628.66,146605.27,77002.2,0.0,0.0,0.0,0.0,149364.58,127450.14,162278.32,152212.88,161993.89,131468.44,143321.97,130404.92,0.0,87505.47,133634.02,151233.62,70263.83,0.0,57657.49,153572.31,134752.08,83132.09,0.0,118100.59,0.0,118327.17,124857.69,90971.85,153147.75,0.0,100912.19,0.0,124439.49,0.0,0.0,58781.76,142721.52,167795.6,128345.69,165260.98,0.0,143452.74,145018.49,82407.51,79460.98,126473.99,133537.1,164978.01,128029.72,0.0,81589.04,0.0,94443.77,0.0,92199.84,0.0,135756.96,0.0,0.0,154344.49,0.0,189026.53,120764.08,97975.82,0.0,113270.2,0.0,124548.99,0.0,0.0,0.0,64897.75,0.0,107764.75,117307.44,60603.4,40169.88,92041.87,130483.95,0.0,151097.28,112808.18,0.0,86459.8,0.0,88656.37,146033.62,120268.13,0.0,0.0,122550.05,0.0,130306.49,0.0,126873.52,108424.19,0.0,84350.07,84958.6,99097.36,136622.55,156771.68,167658.33,0.0,109483.54,134504.78,114427.86,83888.54,110029.77,127523.75,139762.13,109471.79,150500.64,0.0,78892.23,82344.84,0.0,0.0,127706.33,124349.34,0.0,119336.29,0.0,0.0,0.0,0.0,0.0,100169.51,145731.83,135067.52,0.0,0.0,109342.82,0.0,0.0,78247.31,88980.32,0.0,113308.84,0.0,63763.49,169988.35,180303.24,61592.14,164701.68,80780.16,0.0,154221.37,0.0,101641.14,0.0,131081.66,98014.74,0.0,97460.1,104077.19,0.0,0.0,141675.23,0.0,0.0,0.0,101868.51,0.0,112392.45,106570.34,0.0,144162.3,86350.87,0.0,0.0,134985.66,0.0,103772.45,133040.32,0.0,0.0,0.0,71460.67,133214.13,96558.66,93806.31,0.0,0.0,106266.8,0.0,0.0,139840.36,0.0,124098.54,145807.59,0.0,107508.93,0.0,145980.23,212778.2,168964.77,0.0,0.0,98266.3,113000.92,137060.88,112146.12,129307.32,163975.09,0.0,158414.85,92072.68,88243.29,0.0,0.0,0.0,0.0,119278.01,158741.43,0.0,104783.81,77992.97,110822.9,119624.6,139129.44,152324.66,0.0,127480.58,114005.78,156267.59,102482.76,115563.71,0.0,95624.36,0.0,160376.61,37702.79,118273.83,131082.17,94456.0,0.0,93791.38,0.0,0.0,155973.13,89409.95,97854.37,0.0,60280.62,135216.8,124923.35,0.0,188614.07,62321.62,115961.58,115062.61,160602.25,166287.85,152663.77,80844.69,97001.36,0.0,122524.61,132292.63,0.0,59385.98,0.0,97956.5,0.0,0.0,141223.68,151762.74,141749.74,165686.11,0.0,0.0,0.0,92961.61,0.0,132005.77,0.0,0.0,127305.5,0.0,0.0,0.0,170291.22,102562.23,111061.01,0.0,124379.14,0.0,57745.76,0.0,150777.1,0.0,0.0,153861.1,0.0,61196.54,116891.72,92911.52,119825.75,111852.84,106683.52,139022.24,0.0,129776.72,0.0,0.0,0.0,122545.65,0.0,131908.35,0.0,0.0,82767.42,87842.98,133261.13,0.0,97925.11,0.0,140453.91,0.0,137204.77,0.0,54098.18,0.0,113758.48,0.0,118636.92,0.0,95488.82,110829.52,144244.59,122021.92,0.0,0.0,85839.62,96974.97,148172.44,0.0,0.0,0.0,0.0,134766.85,123210.56,139887.01,149961.11,152880.97,108589.47,0.0,0.0,0.0,105663.56,0.0,100683.54,0.0,139541.58,121801.72,112281.7,0.0,93499.82,132255.99,0.0,0.0,121973.28,99462.8,165878.76,117494.27,138577.34,0.0,107525.07,139224.92,121453.63,0.0,0.0,79259.99,116295.29,74309.81,114430.18,127504.57,84113.41,101126.66,103564.83,168178.21,129753.69,0.0,154139.45,97459.06,0.0,112088.04,0.0,0.0,141038.57,84468.67,142663.46,118627.16,137523.02,110976.23,107283.4,0.0,124314.45,95858.37,0.0,0.0,0.0,135289.33,174060.46,114446.84,0.0,0.0,108071.36,14262.8,102749.72,161757.87,0.0,95698.79,124969.13,0.0,0.0,112935.87,98567.1,180530.51,140931.57,148913.72,0.0,0.0,115335.32,0.0,0.0,134678.13,0.0,90547.48,103324.78,114590.58,91286.51,163340.12,150900.29,124577.33,0.0,91292.7,111723.08,173459.45,0.0,0.0,0.0,0.0,56580.95,142316.14,0.0,117444.51,76001.57,107747.57,0.0,134997.49,0.0,0.0,141665.63,0.0,136624.6,161209.66,95010.92,167545.32,118560.55,0.0,0.0,97840.72,158651.29,96950.21,123859.6,0.0,0.0,85227.84,97786.08,128135.99,0.0,85996.19,0.0,104502.11,95772.97,98108.79,0.0,0.0,140355.56,0.0,0.0,107418.27,0.0,0.0,167557.12,117300.02,0.0,143672.9,0.0,0.0,76798.92,0.0,115309.75,178171.04,0.0,0.0,0.0,0.0,0.0,0.0,0.0,107569.96,134874.4,0.0,0.0,0.0,0.0,70105.87,0.0,105128.85,113836.27,0.0,109118.05,0.0,122277.87,0.0,0.0,152899.24,109740.62,92366.72,0.0,105102.5,111375.32,0.0,150412.14,156660.72,90957.81,104960.46,88915.85,148071.39,152182.83,0.0,95039.73,0.0,0.0,112773.73,94667.29,0.0,174397.21,0.0,136678.52,135515.76,177799.83,147487.23,139480.18,0.0,140553.46,0.0,141162.08,65848.36,83319.28,0.0,129731.64,0.0,0.0,107106.33,0.0,0.0,105303.73,165798.1,0.0,126495.57,81733.74,96020.86,0.0,181671.16,185709.28,95671.75,142151.75,127823.93,144164.29,63492.94,0.0,0.0,106134.46,127269.75,0.0,99610.92,168522.37,117337.54,108131.53,136496.12,116324.53,75470.23,172646.82,0.0,160358.68,98415.37,57809.32,128743.8,130806.42,123971.16,0.0,0.0,0.0,156297.58,0.0,123372.3,0.0,148375.19,0.0,147422.44,145215.43,167539.97,94968.97,106116.5,0.0,0.0,0.0,120018.86,112541.54,166118.45,106881.5,120727.97,0.0,113599.42,0.0,0.0,0.0,146282.79,119413.62,122084.63,0.0,0.0,110483.86,120718.28,108601.0,0.0,0.0,0.0,108231.37,144855.34,136855.24,133060.63,0.0,0.0,185013.02,0.0,150463.11,0.0,0.0,136425.18,146798.81,0.0,128486.91,0.0,143407.29,76165.65,0.0,0.0,90560.3,62391.22,0.0,0.0,99836.47,161434.36,0.0,0.0,0.0,101744.84,0.0,0.0,0.0,0.0,0.0,178095.55,109175.14,0.0,0.0,134260.36,69143.91,100054.77,0.0,116248.88,123157.95,63438.91,133550.67,106871.81,105266.32,102768.42,112689.95,122334.26,0.0,137847.41,122486.47,101286.11,0.0,86977.96,100768.77,0.0,0.0,118991.79,140997.26,0.0,166824.59,76322.69,0.0,149083.7,0.0,0.0,126588.81,81844.91,0.0,190298.89,117212.18,0.0,139848.17,101861.36,167455.66,0.0,116360.07,88466.82,0.0,0.0,72286.84,0.0,109681.61,0.0,187487.63,165692.91,164385.53,108286.5,0.0,127283.78,0.0,141389.06,130091.5,143744.77,97408.03,111927.45,0.0,0.0,0.0,188285.68,0.0,127122.79,98241.04,170840.08,62610.96,0.0,113328.93,104832.49,102289.85,125227.82,140510.89,39043.29,0.0,99685.06,125385.49,131365.37,98308.51,0.0,140856.16,0.0,172274.01,0.0,122447.76,163569.61,127211.45,101014.08,0.0,0.0,138878.81,130922.81,0.0,0.0,130866.19,187257.94,0.0,147733.64,0.0,163139.27,0.0,119540.15,129553.76,0.0,66101.89,0.0,0.0,0.0,0.0,0.0,153611.83,123826.07,0.0,0.0,125827.43,0.0,0.0,148495.64,133043.66,74989.58,60263.23,157955.83,0.0,70729.17,0.0,90721.52,0.0,131765.72,131569.63,164523.5,114330.95,135923.16,0.0,0.0,124693.48,147936.42,0.0,126558.92,106938.11,140002.35,147107.91,128514.84,106756.01,0.0,0.0,110414.48,0.0,157098.52,85626.6,93796.42,0.0,125268.03,148143.84,115545.33,0.0,44928.88,0.0,162442.35,0.0,96213.82,156569.43,0.0,0.0,0.0,0.0,147037.32,108664.85,0.0,163034.82,179581.31,129209.48,92606.86,127862.93,142711.81,0.0,163159.85,108586.86,110624.99,154846.24,0.0,82787.93,102500.34,0.0,0.0,113090.4,65763.57,94263.91,133434.57,0.0,0.0,94748.76,98640.74,74681.9,0.0,128207.23,132739.26,0.0,120509.81,124547.13,0.0,82231.51,184715.86,0.0,0.0,0.0,0.0,0.0,95386.82,90373.28,133467.77,0.0,96288.26,91547.84,0.0,71667.74,0.0,145610.07,138162.81,135020.21,0.0,135161.67,94486.47,117640.39,111379.55,136820.99,98752.51,158266.42,105599.67,0.0,0.0,139723.9,141806.46,180516.9,0.0,128917.84,131390.75,0.0,0.0,0.0,0.0,0.0,0.0,102714.65,67816.72,81710.46,75237.54,124023.18,107238.85,0.0,139994.66,126224.87,121166.89,0.0,0.0,125470.81,0.0,107041.3,95153.77,145166.09,0.0,65962.63,139799.63,171787.84,149238.97,0.0,61482.47,126670.37,84390.8,89728.86,0.0,118628.8,0.0,96863.13,142263.45,0.0,0.0,0.0,122724.37,174902.26,0.0,98052.66,123873.19,0.0,0.0,0.0,0.0,114753.76,0.0,111871.93,0.0,135927.06,0.0,0.0,57037.74,79468.96,121063.85,118537.47,0.0,105082.07,0.0,104702.65,167026.61,148045.45,0.0,0.0,104498.79,0.0,0.0,149542.52,87946.39,148826.32,0.0,108166.09,103214.71,90124.64,0.0,0.0,80242.37,0.0,122661.39,0.0,0.0,81742.84,145127.85,148912.44,0.0,89900.24,119027.28,105222.86,116114.93,187911.55,0.0,77065.9,180520.29,0.0,110086.69,174853.46,108724.98,91285.13,0.0,59893.85,149318.55,116409.55,0.0,113402.14,0.0,0.0,0.0,136953.47,0.0,0.0,123863.64,120811.89,148430.55,47869.69,150926.99,130206.28,136674.51,200322.45,0.0,80927.56,0.0,142574.71,160426.07,116160.23,98683.47,118829.03,118870.92,0.0,0.0,107192.38,108010.78,0.0,129837.72,97009.15,122929.42,0.0,128993.76,0.0,185267.45,0.0,116805.82,129750.68,129177.01,82506.72,157780.93,172170.36,0.0,0.0,0.0,0.0,98263.46,0.0,0.0,164365.44,98800.0,193125.85,51522.75,84284.48,0.0,137910.45,0.0,100116.82,166082.15,0.0,0.0,94078.97,0.0,0.0,152509.25,131945.94,0.0,0.0,146311.58,97445.49,0.0,154485.74,115625.07,108396.67,65095.41,84764.79,0.0,115680.81,0.0,73088.06,150905.03,143054.85,0.0,0.0,99948.45,115451.05,108235.91,98795.61,0.0,0.0,0.0,113146.98,92053.44,0.0,104944.1,0.0,0.0,107879.04,0.0,109783.69,149777.0,104339.56,85818.18,212692.97,89696.84,0.0,68067.24,148564.66,136354.16,122214.0,0.0,119684.88,135139.33,110728.39,121558.46,120623.21,114713.57,103457.76,101134.87,78136.36,0.0,133446.34,0.0,131354.25,62974.64,143340.44,116993.43,58662.92,137555.44,142393.11,0.0,125785.23,121527.4,144696.75,0.0,0.0,120383.41,129735.3,0.0,0.0,0.0,144591.96,0.0,0.0,100194.44,145295.31,106070.29,120621.89,0.0,0.0,0.0,171283.91,0.0,0.0,77776.39,124978.19,0.0,0.0,0.0,0.0,111347.37,104291.41,0.0,135703.59,106453.53,82531.11,127278.31,0.0,0.0,184244.86,79543.59,151553.19,166527.88,150329.15,121911.59,156773.78,127864.26,79974.55,0.0,144427.96,99263.09,79368.87,0.0,0.0,0.0,162485.8,95668.82,0.0,0.0,0.0,74197.38,89688.94,103121.33,0.0,120170.07,149136.31,141136.79,152341.55,120026.98,132168.28,85200.82,84903.33,0.0,0.0,0.0,121535.18,116662.96,0.0,124829.16,155180.56,108262.87,0.0,0.0,99812.88,132164.26,142406.43,0.0,0.0,81042.42,0.0,142645.43,0.0,0.0,0.0,0.0,142072.02,0.0,149564.61,0.0,153366.13,76467.16,121508.28,0.0,0.0,0.0,92674.94,114391.62,80262.66,173331.52,147285.52,119785.47,140137.15,133607.75,0.0,95139.41,0.0,0.0,0.0,97331.19,139265.63,0.0,168094.01,131563.88,0.0,0.0,0.0,107363.29,94493.03,170214.23,0.0,170241.7,128306.83,0.0,0.0,175454.0,0.0,100885.93,93320.8,63176.44,139451.67,49113.75,0.0,0.0,0.0,0.0,102785.16,83264.28,72252.64,148051.52,138489.66,0.0,111589.33,96106.83,115930.87,124513.66,0.0,100988.39,118577.24,0.0,0.0,0.0,0.0,113311.11,0.0,0.0,147249.29,103688.19,138740.24,111900.14,152760.24,141556.96,0.0,0.0,0.0,0.0,0.0,162560.32,123229.46,76665.71,0.0,115764.32,131142.53,0.0,0.0,111093.01,132657.55,69129.59,0.0,121404.64,102097.33,154863.15,99945.93,121704.32,0.0,138782.76,0.0,136291.71,107856.57,125860.2,172713.44,0.0,0.0,130786.92,112367.34,91091.06,106198.5,142669.93,112833.35,0.0,0.0,104336.43,104305.74,140187.1,0.0,119096.55,0.0,0.0,115465.28,0.0,184926.61,85957.88,114084.6,166930.76,0.0,0.0,107193.82,116275.12,0.0,91068.56,123049.21,0.0,0.0,137781.65,108128.96,105317.73,80569.73,174852.89,0.0,89800.14,106086.42,0.0,0.0,101440.36,0.0,106603.74,130420.2,0.0,45022.23,74298.43,0.0,136689.66,0.0,102520.37,0.0,0.0,88382.01,115049.15,104796.54,123082.08,0.0,0.0,0.0,88311.48,0.0,71872.19,110046.93,104430.08,0.0,138653.51,102575.04,0.0,0.0,105209.54,109570.21,0.0,153393.18,132603.36,0.0,129398.01,0.0,151352.74,0.0,0.0,165536.28,62482.95,68155.59,0.0,79589.43,100880.76,174330.35,143390.51,134366.42,0.0,88786.81,96814.46,160680.41,0.0,0.0,145537.21,0.0,0.0,149332.48,0.0,0.0,155062.8,88798.34,0.0,0.0,107027.52,140720.93,80964.57,135889.13,134919.85,138190.13,131519.49,126935.98,133707.09,97893.2,127900.03,143835.47,0.0,129596.77,0.0,0.0,142015.76,81370.07,83870.33,117451.47,206868.78,111695.62,149218.39,0.0,0.0,0.0,167949.48,131254.81,0.0,0.0,86656.13,0.0,0.0,0.0,132178.67,0.0,0.0,107233.85,176227.07,109949.39,0.0,133292.45,160474.59,0.0,145750.45,109044.3,75170.54,0.0,105795.9,0.0,0.0,118097.87,172693.54,129440.3,0.0,96471.2,140197.18,0.0,135946.26,0.0,168883.08,143421.74,153644.39,109330.06,115095.88,183276.32,68193.72,0.0,139729.54,98365.33,0.0,122453.97,132174.41,0.0,0.0,104349.45,116968.91,105346.03,136623.19,0.0,0.0,124445.52,68999.66,85768.42,100628.0,0.0,0.0,0.0,100375.39,0.0,171922.72,146810.99,0.0,128653.59,80387.81,155978.17,0.0,89349.47,86131.71,102346.86,121263.62,0.0,0.0,161274.05,0.0,103138.17,109628.44,97286.16,118004.26,85534.83,0.0,75900.84,126619.27,111833.47,0.0,108698.96,112687.69,81556.89,136596.85,0.0,0.0,107499.7,0.0,0.0,0.0,176024.05,0.0,0.0,109819.16,138734.94,111363.1,0.0,118838.75,161637.75,71553.83,0.0,0.0,0.0,64667.95,121164.11,0.0,98903.06,104158.84,0.0,0.0,0.0,118894.22,0.0,0.0,68213.99,0.0,139196.0,0.0,0.0,0.0,0.0,129278.43,119558.35,92467.58,0.0,0.0,0.0,0.0,109676.52,0.0,134729.99,98431.37,130368.31,123974.96,138082.16,129855.32,132308.22,124268.64,176311.36,99886.42,0.0,0.0,85089.3,134318.21,75395.53,0.0,111501.66,76595.08,160541.36,129728.6,0.0,116800.25,0.0,190566.65,186347.97,103176.62,94216.05,0.0,0.0,106770.82,138089.97,133191.19,0.0,99208.46,92242.34,108380.72,85757.93,0.0,96759.42,0.0,0.0,0.0,0.0,132150.26,0.0,78990.15,113743.37,157624.84,125163.62,0.0,0.0,80922.75,193354.86,107648.94,138992.48,113899.92,114450.32,0.0,0.0,0.0,75497.51,0.0,0.0,0.0,117704.73,130463.55,46161.18,0.0,110182.54,0.0,117221.15,0.0,177069.24,61636.97,0.0,104414.03,159732.02,89437.03,0.0,0.0,0.0,142400.77,0.0,154870.28,0.0,118402.25,87374.88,125341.69,129164.88,141004.46,0.0,103604.31,182705.05,0.0,0.0,0.0,117469.91,80790.74,107735.93,168066.87,69014.49,0.0,98548.62,0.0,76554.06,0.0,107375.82,122417.17,97188.62,61297.05,0.0,157842.07,91443.75,53299.96,0.0,0.0,70233.74,75212.28,41299.03,83286.56,0.0,85668.59,57327.04,0.0,69609.85,129269.27,0.0,152105.57,0.0,106290.64,100548.67,137482.19,116465.53,0.0,0.0,127637.92,0.0,0.0,81951.74,147531.82,0.0,135120.72,0.0,0.0,0.0,0.0,0.0,111087.5,0.0,127120.07,115651.6,77743.01,0.0,71996.09,61581.97,0.0,148770.61,94901.09,174851.9,0.0,0.0,0.0,103267.8,109699.08,0.0,137649.47,113567.94,141547.26,131156.76,134837.58,0.0,0.0,124619.33,124182.21,125837.86,0.0,0.0,104833.79,101675.22,0.0,71142.77,108805.42,0.0,0.0,116037.76,0.0,80673.96,182275.23,98635.77,0.0,0.0,53053.76,120911.75,115285.85,0.0,221532.8,105056.13,88363.03,123757.52,114822.64,145219.3,106807.64,148159.71,99745.95,156282.79,0.0,0.0,111582.11,129417.82,0.0,0.0,0.0,94607.08,166883.07,0.0,172812.72,126606.63,0.0,0.0,137688.71,85845.43,125552.96,167298.42,55732.92,98544.11,178317.6,115713.84,143267.14,89750.21,116576.45,143001.5,157761.56,0.0,103430.11,0.0,122501.28,0.0,0.0,146758.24,0.0,94203.8,153198.23,0.0,61811.23,101116.06,74458.25,142871.27,98585.94,0.0,0.0,110053.62,118890.81,151218.98,150507.21,0.0,131023.76,0.0,0.0,111739.4,113882.31,98148.61,0.0,59271.82,0.0,0.0,69413.44,160599.06,0.0,0.0,133111.73,0.0,176139.5,0.0,110245.13,0.0,158719.57,160979.68,123557.65,112896.86,120962.13,96048.55,0.0,185063.7,118064.93,0.0,0.0,0.0,0.0,125512.98,83492.07,0.0,125739.26,141789.15,112949.71,105057.33,147435.96,154439.86,73054.37,152576.25,152243.57,0.0,88120.97,0.0,115654.47,0.0,126152.84,157094.78,113228.38,0.0,108432.88,0.0,120702.67,0.0,0.0,101851.8,93124.04,0.0,86546.29,0.0,129669.32,0.0,164557.95,0.0,118989.92,0.0,0.0,79259.75,118129.87,86824.09,128306.7,117641.43,103302.37,0.0,82696.09,145471.37,101506.66,156265.31,128554.98,139959.55,132944.53,0.0,93547.23,152302.72,147674.26,148021.12,0.0,151027.56,138857.59,105426.5,170890.05,89122.3,123894.43,0.0,127845.83,0.0,106397.75,0.0,166492.48,0.0,114493.68,126104.98,0.0,0.0,0.0,101140.76,150844.94,115024.5,131286.46,0.0,141267.67,137761.55,0.0,98064.97,114519.57,0.0,84719.98,0.0,104386.53,128131.73,122806.95,0.0,112510.89,131778.66,70784.27,0.0,0.0,0.0,140752.06,92126.26,93148.74,0.0,0.0,153722.47,114088.32,0.0,0.0,152532.3,0.0,143292.95,149144.61,127157.04,84673.17,135962.4,151691.44,88335.05,139859.23,43134.65,99580.13,110717.38,0.0,0.0,108197.11,0.0,104450.86,0.0,0.0,0.0,0.0,116099.82,111169.91,0.0,123616.43,155619.58,89558.39,131938.92,0.0,0.0,0.0,97700.02,0.0,147833.3,0.0,0.0,0.0,84521.48,91938.31,124240.93,0.0,157084.99,108244.82,0.0,82161.7,119912.46,68881.59,0.0,150840.03,155059.1,0.0,78128.13,98899.76,0.0,160982.89,0.0,79385.21,168396.34,134896.03,0.0,0.0,0.0,212696.32,139153.68,0.0,0.0,0.0,92887.13,0.0,83442.98,144773.29,178032.53,140007.19,98400.61,0.0,132835.56,0.0,81732.88,0.0,0.0,117989.76,0.0,137411.29,73688.2,122330.7,99906.89,0.0,141525.55,124832.51,132121.71,0.0,78539.84,0.0,160729.1,88378.6,182888.08,0.0,85600.08,0.0,0.0,95001.33,0.0,74896.92,89492.62,128718.78,0.0,144954.75,0.0,94001.61,0.0,0.0,0.0,0.0,0.0,141546.35,109805.3,86614.06,38848.19,153639.11,0.0,123870.07,0.0,46323.57,110928.51,0.0,130036.21,151510.17,0.0,83568.55,139972.18,100212.13,90217.07,0.0,124067.32,0.0,122889.88,148790.61,104857.19,166833.86,102936.72,129974.79,85982.07,134397.61,137841.53,139822.11,123151.51,95331.83,0.0,138162.41,0.0,96763.89,0.0,172463.45,107798.85,70181.48,177997.07,0.0,0.0,0.0,0.0,123200.78,0.0,0.0,137742.9,116270.72,113220.2,0.0,121730.49,113811.85,136214.08,146200.01,106242.67,0.0,0.0,0.0,0.0,0.0,90322.99,0.0,131283.11,131659.59,120952.74,153166.17,53291.86,167924.95,86394.14,0.0,0.0,158978.79,0.0,114347.85,0.0,134007.9,98899.91,0.0,137430.82,0.0,0.0,188976.89,0.0,0.0,112181.08,97208.46,0.0,0.0,150856.79,146748.07,0.0,0.0,148863.17,0.0,153360.02,124723.92,103033.83,0.0,0.0,0.0,0.0,113923.81,0.0,0.0,0.0,0.0,121827.43,0.0,125389.7,103895.31,0.0,0.0,151242.48,129709.62,83347.25,84121.04,0.0,102338.19,87375.78,104677.09,121669.23,108407.34,154969.79,141829.67,109162.82,87471.63,147229.65,0.0,182532.23,0.0,160903.2,138053.79,149085.9,0.0,85109.21,125338.8,0.0,106831.69,159597.45,147361.57,176134.54,0.0,0.0,84055.43,0.0,199229.14,0.0,0.0,78833.15,0.0,0.0,102540.61,0.0,129401.87,0.0,0.0,0.0,106702.94,139584.57,0.0,0.0,148654.84,136963.12,137774.11,111156.52,121237.65,97234.58,0.0,0.0,97382.53,107553.33,0.0,161806.09,0.0,0.0,128243.03,126645.13,112291.34,89188.83,109161.25,0.0,0.0,0.0,96951.21,146566.01,186101.18,146943.38,0.0,125130.28,0.0,0.0,0.0,0.0,0.0,0.0,0.0,150685.79,141359.37,0.0,94631.26,118336.14,0.0,0.0,91869.69,122338.43,0.0,0.0,86270.93,0.0,117289.92,0.0,153663.27,0.0,123599.49,0.0,134208.25,0.0,98556.89,0.0,134593.79,0.0,68781.82,147307.91,145754.91,112610.77,71481.79,0.0,77826.8,87140.85,178011.5,102954.68,123783.25,101802.67,148659.48,112152.89,89550.85,75915.75,118889.66,118788.57,156555.54,61211.18,128932.4,0.0,80728.15,106070.89,137560.38,126212.64,111835.94,0.0,99705.69,0.0,128061.0,0.0,190678.02,0.0,136712.91,115462.44,133501.36,58668.02,0.0,76510.52,140694.78,95448.32,91562.99,72541.48,0.0,157320.51,0.0,139676.95,0.0,0.0,0.0,103000.94,118235.7,0.0,0.0,0.0,0.0,115557.0,166518.63,102073.67,79064.85,0.0,100421.1,84006.88,0.0,0.0,80293.81,125437.14,0.0,0.0,127536.44,0.0,108117.1,0.0,61688.61,0.0,0.0,138664.24,126362.57,160652.45,88421.81,112871.19,60880.68,0.0,88084.13,0.0,0.0,83456.79,98298.18,0.0,86911.8,139707.28,0.0,142876.98,146301.31,0.0,58137.08,179886.41,107637.97,167685.56,136525.99,52106.33,0.0,112803.92,145081.72,0.0,135842.89,112203.25,129895.19,153279.39,0.0,113193.51,113174.21,0.0,164951.56,153325.1,134032.01,125445.04,126077.43,0.0,90371.09,0.0,142802.02,90537.16,0.0,156123.73,0.0,0.0,117899.95,0.0,166257.96,0.0,205962.0,126061.51,105627.95,100606.02,0.0,0.0,138171.1,139395.08,0.0,0.0,89994.71,0.0,103996.74,175111.11,148055.74,0.0,0.0,95994.98,0.0,110741.56,0.0,0.0,0.0,109786.82,0.0,0.0,102721.49,166070.48,105957.44,0.0,110340.68,0.0,135870.01,0.0,0.0,0.0,85704.95,0.0,0.0,108513.25,156687.1,150604.52,155114.9,0.0,91216.0,141784.02,127763.24,0.0,82613.56,69423.52,86167.82,131406.56,121898.82,77487.2,0.0,138705.02,132730.17,0.0,0.0,116498.22,0.0,139979.07,127216.31,0.0,0.0,134152.29,119565.92,0.0,0.0,124995.98,0.0,86891.84,0.0,78022.61,154495.79,189443.72,152926.6,115371.94,0.0,178056.54,0.0,0.0,0.0,0.0,0.0,149814.54,115617.24,0.0,138160.0,117700.86,0.0,166501.17,0.0,0.0,0.0,98894.39,168735.74,0.0,0.0,127237.25,117864.85,93911.3,76597.79,79927.36,0.0,40172.91,115195.58,116644.29,180293.84,139872.81,34547.82,0.0,96462.25,130334.35,119688.81,0.0,71187.24,0.0,0.0,0.0,136422.41,0.0,0.0,0.0,153238.88,0.0,47536.4,0.0,0.0,160566.11,127678.8,139859.54,0.0,112324.45,134497.27,120171.58,106012.2,0.0,0.0,0.0,92219.21,142055.41,0.0,0.0,0.0,141803.77,0.0,0.0,108393.35,115643.58,132876.23,110949.41,103821.47,0.0,0.0,132187.73,126444.08,154159.51,0.0,129250.0,167733.51,56116.3,141581.08,139675.07,66201.96,133658.24,136202.78,0.0,0.0,42712.87,0.0,142631.54,141204.65,131402.21,92636.96,0.0,134887.53,0.0,159900.38,102278.79,0.0,0.0,0.0,76989.97,0.0,0.0,114491.82,145056.59,138014.4,112568.31,0.0,176958.46,99167.54,103210.27,125921.37,0.0,80697.44,161887.81,109558.36,124271.26,0.0,190569.23,96542.16,0.0,111769.14,0.0,113672.18,147256.86,107023.03,125529.55,0.0,0.0,0.0,107303.72,72783.42,0.0,0.0,115743.6,161256.53,0.0,0.0,0.0,162261.01,74896.33,144037.6,93522.2,0.0,0.0,106922.92,112972.57,100488.92,123322.15,0.0,68683.68,59532.18,140260.36,88302.65,0.0,114655.58,0.0,0.0,165896.0,0.0,111168.97,0.0,103804.97,119152.1,122950.31,0.0,0.0,122028.65,0.0,133436.52,123177.01,120328.88,92716.96,0.0,0.0,76914.21,106045.92,103133.26,145974.79,0.0,0.0,0.0,0.0,139183.06,0.0,74974.89,61691.45,121952.75,0.0,0.0,0.0,80107.83,0.0,0.0,114233.18,0.0,156834.34,0.0,157498.9,0.0,0.0,0.0,130274.22,0.0,149379.66,0.0,100829.94,96408.98,0.0,0.0,149105.08,0.0,0.0,0.0,90218.11,87347.7,0.0,137811.75,105563.0,0.0,0.0,91125.75,0.0,0.0,135120.56,0.0,0.0,86837.95,100446.57,0.0,0.0,114512.59,136364.46,106260.67,146126.75,121056.63,128270.56,0.0,0.0,0.0,191775.65,85141.79,126392.18,0.0,129860.37,0.0,91955.61,84266.44,147149.59,0.0,104822.45,146766.72,148745.92,0.0,0.0,135203.81,93301.97,96341.0,165326.2,0.0,99786.2,114440.24,141573.55,133676.65,147493.7,0.0,95022.57,0.0,0.0,0.0,0.0,0.0,0.0,102017.25,0.0,0.0,96674.55,79281.61,0.0,122314.39,140733.74,165445.04,123805.03,107548.94,111634.29,0.0,86055.17,0.0,144705.87,0.0,91612.91,0.0,0.0,179904.0,176166.56,156864.2,0.0,0.0,0.0,161588.89,0.0,0.0,91522.04,0.0,62052.28,107871.72,128039.01,0.0,90355.12,115725.24,114327.59,100762.64,89039.9,78829.53,112372.96,122029.15,157829.12,108377.75,95507.12,127146.68,121092.47,126979.75,152582.2,126477.42,97473.87,138053.67,164003.05,0.0,122486.11,0.0,53667.44,0.0,109327.65,121151.05,101043.63,83501.66,80462.24,0.0,109093.41,140355.6,0.0,130170.82,0.0,109542.29,148795.17,0.0,0.0,106405.03,0.0,128393.29,127841.52,137295.19,0.0,144351.86,106365.29,127801.88,122793.96,0.0,140916.81,0.0,121365.39,0.0,0.0,0.0,115409.6,90791.69,92436.86,0.0,160838.13,144470.77,0.0,130169.27,0.0,0.0,0.0,113865.23,120037.96,0.0,0.0,0.0,121818.84,0.0,141806.0,103417.74,0.0,43028.77,0.0,73179.34,0.0,92659.2,102955.14,96863.52,154983.98,106819.65,128578.52,126473.33,110570.78,0.0,0.0,0.0,0.0,111099.79,0.0,100913.57,0.0,16893.59,122267.85,125685.79,127397.34,105271.56,115265.14,0.0,0.0,139542.82,148466.93,0.0,108155.49,0.0,84622.13,146997.64,0.0,98590.25,0.0,108078.56,0.0,0.0,106836.67,102490.27,112746.54,125487.89,142862.21,0.0,0.0,79388.33,0.0,0.0,107784.65,149571.94,142767.39,0.0,103399.87,0.0,136855.94,0.0,89364.91,146011.4,0.0,145294.08,0.0,0.0,104508.77,0.0,78535.25,112712.17,119618.42,0.0,74963.5,138023.79,0.0,185513.67,128015.83,39539.39,0.0,77608.46,141462.13,0.0,131691.33,93833.86,137933.39,0.0,166328.65,164307.77,163965.69,125608.72,0.0,118433.94,0.0,98362.35,0.0,105767.28,0.0,0.0,134467.26,138515.02,128647.98,121858.98,0.0,120108.56,196853.62,121418.62,0.0,0.0,97495.8,0.0,127343.4,158633.61,0.0,183744.98,0.0,0.0,79962.92,0.0,0.0,140956.99,0.0,145241.63,138008.06,0.0,0.0,0.0,0.0,0.0,127570.93,0.0,91560.58,121303.77,161546.68,128415.45,0.0,142243.54,0.0,0.0,146466.46,0.0,0.0,0.0,120307.58,87637.26,94652.04,114415.84,0.0,84315.02,0.0,93955.83,67087.69,110824.52,0.0,179960.2,134006.77,121532.17,0.0,0.0,129717.3,94762.16,129514.99,172196.23,97612.12,104719.94,0.0,0.0,139096.85,140301.72,0.0,0.0,111233.09,0.0,147737.63,0.0,125725.02,0.0,149134.46,124119.54,116822.7,103219.47,0.0,0.0,0.0,136555.01,0.0,119452.03,69881.09,0.0,0.0,0.0,204223.03,141069.18,115934.74,151457.88,154206.07,89928.99,89182.09,79706.25,0.0,117799.28,0.0,0.0,150186.22,147493.89,0.0,0.0,121823.4,0.0,100471.34,0.0,116358.0,163549.63,99183.9,134177.06,0.0,0.0,0.0,155584.21,0.0,0.0,170661.47,185544.36,114007.5,104308.77,84719.13,0.0,140236.98,0.0,75302.85,0.0,113693.0,174180.39,0.0,0.0,121215.9,115350.63,105683.63,135179.49,117551.23,157404.02,77910.23,110942.9,0.0,179305.09,150593.59,69385.17,138032.15,0.0,0.0,119670.18,99106.73,120135.55,0.0,0.0,101629.3,171937.27,0.0,0.0,0.0,129743.75,102630.13,124227.14,0.0,175477.15,132144.35,133299.67,0.0,0.0,0.0,133199.71,127154.14,0.0,49508.79,0.0,0.0,0.0,70417.79,111484.88,146343.98,160541.0,130274.26,98993.02,0.0,141827.33,110054.45,0.0,0.0,0.0,0.0,133806.54,124993.29,157622.58,126111.61,161651.37,142856.95,102918.38,0.0,0.0,0.0,125265.61,82500.28,175754.87,109387.33,100443.36,83102.72,0.0,0.0,0.0,0.0,140197.71,105245.34,0.0,0.0,142296.13,171069.39,0.0,102523.88,0.0,106022.73,0.0,128960.21,0.0,0.0,0.0,126442.59,0.0,127261.35,0.0,0.0,0.0,73481.05,160515.37,149525.34,135536.5,103421.32,135658.73,0.0,191402.82,94504.35,0.0,0.0,87624.03,0.0,0.0,134464.58,83008.31,113635.16,0.0,122552.48,118899.45,99713.87,0.0,134208.22,85906.65,137714.25,160777.9,0.0,0.0,102585.88,126772.57,158373.23,0.0,141927.1,0.0,111369.79,116969.35,136729.51,0.0,127289.28,0.0,0.0,0.0,117183.74,129907.63,0.0,124616.23,0.0,0.0,0.0,117152.3,106250.72,111837.78,97023.21,137687.72,113348.5,122109.78,120452.4,0.0,65812.35,0.0,0.0,103846.65,125190.86,0.0,123802.98,96651.03,0.0,0.0,142105.35,166115.42,81070.34,0.0,123835.52,123401.43,169377.31,130015.24,0.0,133936.04,114543.27,119794.67,0.0,0.0,0.0,0.0,136733.24,82498.14,151914.93,83739.32,130588.82,0.0,94126.67,0.0,0.0,0.0,168165.84,72835.56,0.0,123212.08,0.0,0.0,119501.88,144550.83,0.0,121490.05,91897.8,139443.75,144961.97,126041.02,69459.05,198338.77,0.0,0.0,0.0,0.0,0.0,0.0,0.0,0.0,0.0,0.0,0.0,0.0,0.0,135559.8,150355.35,0.0,133489.12,60205.2,0.0,0.0,0.0,0.0,112333.63,116936.81,165896.22,153656.85,94164.0,0.0,191808.73,152199.33,104405.54,133801.49,0.0,0.0,100047.33,109848.6,127849.38,0.0,95947.76,0.0,0.0,0.0,0.0,0.0,89416.99,0.0,0.0,143262.04,119656.45,132954.64,105206.7,0.0,83061.26,147650.68,0.0,0.0,116320.68,0.0,0.0,0.0,66250.71,92616.64,0.0,100565.94,127649.64,165358.77,0.0,78249.53,125193.96,0.0,154007.21,133214.88,0.0,90963.49,114386.85,0.0,0.0,0.0,111060.05,0.0,135310.41,0.0,0.0,0.0,139393.19,0.0,104258.8,0.0,113447.01,0.0,111063.73,82766.43,0.0,91718.8,159863.9,104592.55,132088.59,0.0,120654.68,0.0,83772.95,172325.67,117685.31,0.0,0.0,0.0,135871.5,0.0,56228.25,181768.32,101198.01,0.0,0.0,0.0,139064.06,104508.1,0.0,0.0,0.0,117524.72,160389.82,0.0,125547.53,92783.68,0.0,0.0,102145.13,113452.66,155681.72,0.0,112751.13,0.0,0.0,69712.74,0.0,0.0,117438.92,119315.75,89571.59,102251.57,118546.71,103257.14,124209.02,0.0,150302.84,108653.93,85325.93,0.0,131411.24,0.0,0.0,106431.97,90305.76,117466.03,148884.47,77373.87,104744.89,0.0,91538.51,0.0,185734.75,143396.54,125909.85,0.0,154525.7,0.0,100654.8,83325.77,110934.54,113680.54,117020.08,145359.99,123935.35,0.0,166031.45,96643.32,0.0,0.0,0.0,0.0,0.0,97268.1,0.0,0.0,0.0,0.0,0.0,0.0,0.0,134249.7,105443.68,0.0,0.0,96939.06,106758.6,112528.65,0.0,0.0,141786.78,136416.82,0.0,133245.52,90757.64,92350.36,78778.49,102143.93,0.0,98459.6,0.0,107712.57,0.0,0.0,145303.52,138476.41,156551.63,129312.79,100315.1,81684.97,152092.44,0.0,102406.76,109130.96,0.0,75242.28,0.0,129142.54,0.0,139129.92,0.0,66483.32,0.0,0.0,0.0,131834.76,92347.96,0.0,95297.11,0.0,0.0,143426.34,0.0,112708.2,100013.51,0.0,0.0,121685.31,111525.02,0.0,113546.3,95696.52,88963.31,144880.34,63093.01,132271.12,88814.4,90594.55,52192.08,124976.19,0.0,104356.38,150315.92,129299.28,140950.92,128065.12,107433.48,117468.67,0.0,0.0,0.0,0.0,0.0,112079.58,132044.6,0.0,0.0,0.0,102895.1,0.0,117578.35,0.0,0.0,116623.31,0.0,0.0,0.0,94435.45,112889.91,129745.1,0.0,0.0,139914.27,91835.16,0.0,0.0,115378.94,127786.28,64900.32,0.0,114091.38,0.0,0.0,145933.27,131504.73,0.0,0.0,124781.67,129055.13,96166.88,165298.12,0.0,102773.15,104449.8,137102.65,142475.87,0.0,103195.2,112070.44,0.0,96473.59,0.0,153195.59,96877.21,0.0,95452.89,63873.56,148298.59,0.0,143258.85,121342.24,99152.73,0.0,68423.89,79656.81,0.0,125321.84,0.0,84378.9,0.0,136281.41,119380.37,108716.59,0.0,0.0,106596.29,0.0,112615.86,0.0,0.0,0.0,75381.15,0.0,0.0,0.0,0.0,0.0,155766.05,101985.81,96019.5,0.0,0.0,147900.43,100755.66,125427.37,98202.76,72509.91,140393.65,145729.71,122295.17,0.0,119799.27,163708.58,61687.33,79144.34,0.0,104848.68,0.0,0.0,0.0,146652.01,0.0,0.0,130622.34,187013.13,0.0,0.0,0.0,98862.54,0.0,98443.14,0.0,123575.51,0.0,105239.1,0.0,0.0,117687.35,0.0,0.0,0.0,101457.14,100549.43,174588.8,121161.57,0.0,90063.74,0.0,134936.97,110495.27,133200.09,82596.8,103837.75,104149.66,117153.0,175534.78,0.0,0.0,0.0,83415.04,141859.12,132767.66,110635.32,177657.35,157777.58,86568.75,137262.71,0.0,0.0,131244.65,125155.83,140691.08,58820.32,0.0,168372.52,94682.56,0.0,0.0,146329.73,0.0,167962.7,0.0,0.0,0.0,0.0,0.0,93244.42,0.0,0.0,0.0,80442.06,150561.03,125474.44,127076.68,0.0,128650.11,145580.61,0.0,97588.6,0.0,0.0,122200.31,151709.33,0.0,122134.4,137260.45,88594.14,0.0,96997.09,0.0,142200.19,160761.41,0.0,0.0,0.0,116234.61,0.0,0.0,84009.47,139246.22,170113.0,145578.28,126273.95,162482.76,0.0,87814.89,113858.95,0.0,106648.98,0.0,103653.51,97990.49,150635.3,0.0,129674.89,0.0,83568.26,147137.74,114370.41,149887.49,170172.9,0.0,0.0,64808.32,62732.65,0.0,95167.55,134644.19,0.0,51293.47,0.0,116622.73,0.0,198113.86,0.0,141234.98,0.0,0.0,117304.29,0.0,92340.69,146780.52,144974.55,0.0,0.0,0.0,115137.26,101952.97,0.0,91956.49,0.0,123938.6,120777.88,90248.79,0.0,0.0,72079.71,0.0,0.0,99844.68,0.0,156815.71,146034.74,152283.39,118897.1,96781.39,102772.67,0.0,0.0,0.0,0.0,0.0,163548.07,148580.12,96709.07,135650.88,130809.77,133009.51,135337.49,112536.57,122570.69,0.0,100368.63,0.0,136082.0,47884.92,0.0,0.0,0.0,0.0,0.0,102251.14,0.0,0.0,132057.92,114285.2,0.0,76087.98,160272.27,102000.17,0.0,137853.0,0.0,162318.61,0.0,0.0,126431.54,123475.04,97652.96,0.0,0.0,99046.31,0.0,105907.42,0.0,97392.18,0.0,152812.58,139301.68,124348.38,117199.8,113905.48,133476.09,117879.32,0.0,122359.5,145875.74,121542.57,109508.68,146407.11,0.0,112330.83,90413.12,105302.66,0.0,0.0,121520.36,103960.38,102945.01,92760.55,0.0,134590.21,104255.03,0.0,0.0,147127.81,125927.51,0.0,111599.32,0.0,0.0,114212.6,115251.64,0.0,107571.61,0.0,130969.77,97738.97,0.0,113794.22,128396.33,124730.26,0.0,0.0,0.0,0.0,125724.95,0.0,0.0,74260.03,123783.91,0.0,153880.15,0.0,106301.85,0.0,135422.31,0.0,126875.62,96381.68,119703.1,152102.18,127675.39,133776.86,72788.03,76226.9,0.0,0.0,155423.17,126683.8,140700.61,107726.93,0.0,0.0,35741.69,133800.98,125682.79,0.0,130428.78,0.0,0.0,0.0,137138.2,73112.95,152347.01,115144.68,137817.52,157332.26,0.0,116980.78,128398.38,0.0,137657.25,167259.44,0.0,119009.57,80002.33,140211.88,118742.74,178827.79,83134.3,121513.31,95900.04,112543.42,0.0,141751.82,124140.57,0.0,157576.47,0.0,141428.99,127510.99,0.0,0.0,81818.49,100895.54,63832.43,0.0,116085.06,0.0,0.0,0.0,115576.44,0.0,77647.6,0.0,0.0,0.0,0.0,0.0,102050.47,114948.76,136000.45,156001.68,147974.16,0.0,90402.77,0.0,0.0,0.0,162701.65,0.0,0.0,82453.96,100107.99,0.0,125167.74,0.0,153313.67,0.0,125879.29,170057.62,0.0,160485.16,115409.18,133628.09,107135.04,0.0,151659.52,0.0,155903.82,0.0,95853.39,82228.67,0.0,106328.08,152992.91,116439.65,101352.78,0.0,105609.17,0.0,0.0,103894.38,139834.93,112518.71,115895.42,146408.68,71843.15,105492.53,183027.25,131968.57,104118.5,0.0,125023.1,74323.2,109346.13,0.0,0.0,127758.09,93249.4,0.0,0.0,138131.34,70362.52,0.0,115142.9,0.0,157989.21,172192.49,0.0,0.0,192407.97,107199.75,164858.18,117633.28,0.0,0.0,126663.51,0.0,153344.72,123943.18,0.0,98630.31,58036.33,0.0,109200.74,0.0,0.0,0.0,83173.98,0.0,73494.21,132450.24,120530.13,74988.59,94722.88,0.0,71269.89,98612.1,138033.55,91621.69,140014.42,126815.97,139663.37,0.0,165312.27,0.0,0.0,123699.28,97325.15,97041.16,0.0,0.0,104367.5,135369.71,112119.48,123760.68,0.0,0.0,0.0,0.0,0.0,152160.21,0.0,0.0,0.0,172381.8,106116.56,141952.07,0.0,138497.84,0.0,124213.36,126872.6,0.0,0.0,120923.52,142643.54,79857.64,95502.21,0.0,197715.93,85859.76,85304.27,132371.3,0.0,79896.0,0.0,0.0,0.0,146587.3,0.0,0.0,109109.33,0.0,0.0,0.0,0.0,0.0,109106.8,112262.84,0.0,0.0,144238.7,159397.75,125385.01,69365.25,155271.83,197200.04,144837.79,0.0,163085.79,125903.22,154377.3,107511.52,127406.5,143656.55,138106.75,128940.24,114453.58,0.0,0.0,131762.94,0.0,150300.65,108935.39,135847.47,157274.36,98848.19,0.0,0.0,129118.5,0.0,146053.66,124577.15,151012.55,144318.97,0.0,0.0,27517.15,147092.65,92246.14,148897.02,138335.96,160736.63,0.0,0.0,107141.27,96798.79,134498.54,132387.91,147171.2,100524.69,0.0,0.0,0.0,0.0,128743.55,122647.32,79263.9,123906.55,143006.7,157597.61,127117.8,102989.83,145118.83,126076.24,0.0,0.0,98186.7,0.0,0.0,0.0,75801.74,0.0,159316.64,96479.81,117726.33,0.0,122351.29,0.0,0.0,132598.38,0.0,0.0,0.0,127772.1,104631.67,0.0,0.0,118050.79,0.0,136093.74,88477.36,161572.24,68332.96,179852.26,0.0,104763.41,88541.57,0.0,0.0,0.0,0.0,92474.05,0.0,115479.48,87098.91,86351.85,0.0,163714.52,0.0,94153.56,90605.29,0.0,102787.42,63723.78,0.0,0.0,0.0,162691.16,127806.91,157960.49,87096.82,84944.58,160139.59,0.0,0.0,0.0,0.0,94615.11,90727.79,119545.48,118311.76,129574.98,148163.57,117154.9,154251.67,0.0,65667.79,0.0,50194.59,96748.89,132667.17,0.0,125566.9,137367.94,157658.36,103154.66,0.0,149592.14,84587.9,197436.82,104254.27,140133.08,136980.23,43658.33,0.0,0.0,0.0,0.0,90920.75,0.0,0.0,0.0,0.0,0.0,94920.71,113939.36,0.0,0.0,110666.42,151215.34,116318.23,0.0,100062.39,126605.14,106942.08,0.0,88594.93,123737.04,110752.15,0.0,0.0,0.0,0.0,0.0,145536.9,77082.65,145081.73,115897.73,108058.07,191523.09,0.0,91187.9,0.0,113958.55,147167.25,82916.48,0.0,0.0,165257.2,0.0,0.0,68799.72,116120.19,0.0,84102.11,0.0,0.0,0.0,0.0,104013.79,120822.86,128389.12,102800.72,135470.9,90145.04,0.0,99660.13,123081.84,151105.68,163856.76,0.0,127290.61,180614.04,55053.62,96110.22,106521.49,82255.51,0.0,102395.79,118201.41,0.0,0.0,105522.06,123936.54,0.0,119499.42,135814.7,106259.63,0.0,115463.16,0.0,120233.83,0.0,81132.21,122196.99,0.0,0.0,0.0,132759.8,76705.87,0.0,0.0,0.0,103015.12,0.0,104001.38,87116.71,82547.11,111167.7,139714.4,139875.2,138340.06,114974.24,0.0,0.0,0.0,0.0,0.0,0.0,0.0,0.0,0.0,78737.61,152606.82,0.0,167268.98,144287.6,151855.33,0.0,155994.15,147527.03,100267.03,0.0,0.0,121235.05,129965.18,0.0,163894.35,0.0,0.0,0.0,87967.42,0.0,0.0,121093.29,121691.54,0.0,0.0,0.0,0.0,0.0,127638.35,0.0,135290.42,108269.2,0.0,145623.36,145809.53,130334.84,0.0,0.0,0.0,0.0,0.0,157371.54,0.0,134560.62,0.0,72373.62,109564.1,132116.13,101195.23,149436.73,130682.11,129944.39,0.0,0.0,0.0,138731.95,155621.08,0.0,64430.06,0.0,0.0,146777.44,0.0,108881.73,0.0,112957.26,89015.61,133618.01,93680.43,97486.15,137794.18,101928.51,0.0,0.0,79585.96,161884.99,129068.54,0.0,175307.32,136658.61,146584.19,0.0,131414.76,0.0,99441.21,0.0,0.0,0.0,181110.13,100476.46,51949.95,121063.49,127023.39,144147.68,173306.13,106425.75,0.0,152685.4,82083.52,0.0,114779.35,57568.94,0.0,0.0,0.0,110559.46,0.0,0.0,128152.82,129472.33,105000.23,72012.76,110480.48,132439.99,0.0,94108.54,0.0,131959.86,0.0,122952.9,107379.68,122641.56,0.0,124037.28,117565.03,133189.4,120252.02,152264.81,105069.98,115076.06,0.0,110540.43,135095.47,187861.18,124655.59,0.0,134105.01,0.0,0.0,83693.34,114631.23,128601.98,91258.52,70416.75,0.0,0.0,0.0,88294.6,0.0,93577.3,98765.84,84309.57,136258.06,0.0,131160.85,145222.99,98141.57,102282.61,116121.84,155176.83,98986.28,0.0,144852.06,0.0,97663.16,95161.75,127095.14,92526.15,107362.8,0.0,0.0,139930.18,77949.69,121405.04,124580.69,133087.76,0.0,0.0,98877.95,105843.26,0.0,0.0,105264.88,0.0,0.0,0.0,138166.3,122265.24,0.0,68927.57,106957.28,190238.93,113537.73,101090.27,0.0,0.0,0.0,111589.67,172310.33,147910.3,131287.36,121276.32,109869.32,97435.85,0.0,133853.27,109528.16,84607.34,101438.0,0.0,99513.91,97585.32,0.0,0.0,136659.74,85755.86,0.0,0.0,0.0,111669.68,154741.45,125681.51,155303.71,140681.68,71902.52,146606.6,123949.75,144753.21,91285.22,0.0,125850.53,108116.66,0.0,67639.56,141287.15,0.0,0.0,97157.96,125241.17,0.0,142688.57,130089.56,0.0,0.0,0.0,90218.9,0.0,155973.88,129321.44,138650.49,136487.86,0.0,38617.2,0.0,0.0,0.0,0.0,0.0,105918.1,0.0,0.0,0.0,59972.26,157228.61,0.0,0.0,102452.71,0.0,142987.46,143330.56,120165.4,0.0,66573.17,102833.46,164757.56,0.0,0.0,169025.83,153455.72,0.0,153972.89,114609.55,143625.83,80926.02,166594.78,115465.98,0.0,0.0,92618.62,149594.02,0.0,0.0,158468.76,161889.79,133681.78,0.0,187294.46,0.0,0.0,119706.22,0.0,128645.67,129189.15,121260.19,0.0,163757.06,0.0,0.0,141005.47,105356.09,0.0,85897.95,0.0,164672.66,99169.67,0.0,0.0,124053.03,0.0,103499.09,151766.71,0.0,101486.96,123601.56,122017.19,100262.88,117302.62,135984.15,0.0,160997.54,0.0,71996.29,85615.66,62339.81,142319.03,0.0,0.0,87413.19,0.0,97560.16,141787.31,166178.02,163097.55,0.0,0.0,0.0,0.0,0.0,0.0,143138.91,0.0,0.0,129804.17,110153.27,116377.48,117791.06,0.0,105419.73,99219.47,119327.93,83947.12,99883.16,156111.24,111095.58,0.0,153137.74,156111.08,113014.7,132615.73,0.0,0.0,0.0,80380.24,108909.12,90865.8,99799.76,140363.95,151844.64,0.0,133231.48,0.0,126598.99,0.0,93173.88,105007.31,0.0,118614.6,95829.13,0.0,0.0,153590.73,0.0,130557.24,93183.19,125495.64,0.0,118547.72,97792.21,0.0,167181.01,121355.19,0.0,0.0,113226.47,118392.75,145262.54,163505.16,118114.28,0.0,103294.56,0.0,0.0,119919.12,0.0,0.0,0.0,0.0,0.0,0.0,0.0,128744.04,137727.34,123544.21,133968.96,126534.6,0.0,0.0,0.0,0.0,144953.31,103544.88,0.0,0.0,0.0,120047.77,167735.69,0.0,74385.98,94754.0,0.0,86920.86,132077.48,127847.86,176702.36,83555.58,0.0,0.0,0.0,96858.35,0.0,0.0,154970.54,88902.21,98738.92,0.0,0.0,137456.28,0.0,113257.2,0.0,116536.43,0.0,127331.46,0.0,0.0,105969.42,119547.46,0.0,138668.18,51582.5,0.0,169902.92,87262.4,0.0,0.0,0.0,0.0,0.0,0.0,0.0,0.0,150348.37,115074.02,0.0,99986.98,166685.92,95312.8,202443.47,88977.39,104982.57,185714.28,116022.53,0.0,164011.48,0.0,101514.89,0.0,0.0,134599.33,147511.26,78396.08,0.0,110581.29,151836.36,83624.55,148197.15,72594.0,115221.36,117808.74,147754.68,113292.17,0.0,0.0,0.0,120825.7,0.0,0.0,133845.28,0.0,108541.04,0.0,113817.06,137300.23,158024.38,127837.54,161533.0,80958.36,0.0,0.0,115021.76,126773.43,92889.91,0.0,88820.29,115406.97,132951.92,108891.7,141788.63,116954.32,0.0,0.0,144637.86,0.0,127924.25,0.0,0.0,120046.74,97819.36,62979.93,0.0,0.0,119496.25,0.0,100249.41,0.0,53013.29,0.0,122088.67,90544.0,0.0,147813.05,134140.68,0.0,0.0,122198.21,94222.53,0.0,130931.83,0.0,0.0,140614.15,118680.57,122917.69,0.0,131754.11,0.0,0.0,0.0,0.0,97266.1,113690.83,0.0,116338.68,97339.99,0.0,128770.88,0.0,44054.84,108797.63,0.0,122446.61,158786.67,125689.29,154640.41,129305.09,0.0,0.0,82844.33,0.0,0.0,76692.22,117715.84,87105.32,69311.16,0.0,66948.67,0.0,128410.71,99897.53,0.0,152622.34,0.0,138227.19,111395.53,84386.57,0.0,174673.65,0.0,109019.65,111179.83,124099.13,122471.09,134692.4,123816.5,106288.54,148200.72,104145.65,142755.25,168560.46,0.0,132193.94,0.0,139330.1,0.0,0.0,134571.5,0.0,133444.97,0.0,176914.8,68348.18,0.0,56726.83,66220.17,96147.55,0.0,145330.43,0.0,124192.28,107805.67,0.0,0.0,87739.08,133313.34,0.0,154902.66,0.0,119695.75,0.0,152614.51,131647.01,96654.72,137583.04,62717.84,95377.13,135936.1,161591.11,142382.03,0.0,0.0,127043.09,0.0,78885.88,0.0,91711.59,110031.09,81210.72,122947.92,182065.85,76495.04,0.0,0.0,0.0,99045.93,0.0,205770.78,79340.95,138456.03,0.0,101099.9,0.0,109219.83,113034.31,0.0,129548.5,74812.84,0.0,153538.13,0.0,0.0,155619.36,159693.9,171653.17,47685.47,0.0,123692.0,148853.29,133161.95,143221.35,0.0,0.0,126265.88,0.0,112713.34,141173.03,0.0,0.0,118866.36,0.0,0.0,123345.85,73070.18,0.0,95120.59,102800.65,97072.42,132876.55,0.0,0.0,0.0,51962.91,98759.89,156570.86,0.0,69617.36,136526.26,113736.27,138847.9,0.0,107868.14,96926.12,77599.23,178787.54,0.0,129668.43,146178.13,0.0,0.0,154763.21,0.0,100954.88,0.0,112701.04,84692.5,86449.39,0.0,73194.99,124593.23,121765.37,110837.73,99835.17,91057.37,0.0,149400.27,89111.63,132527.9,114997.42,161798.53,96129.32,0.0,133050.97,120124.35,0.0,133705.74,0.0,0.0,152805.05,0.0,112465.06,156007.09,142662.68,102603.3,0.0,0.0,0.0,69518.95,126145.54,113581.98,112572.39,0.0,0.0,84906.45,126816.18,105249.76,0.0,109387.9,137732.23,157866.77,0.0,0.0,144684.03,107065.31,91301.72,0.0,0.0,0.0,0.0,0.0,0.0,92472.1,0.0,127738.75,101242.98,92599.55,0.0,141356.47,72664.0,123365.34,121898.58,0.0,0.0,0.0,185379.02,109402.13,108410.87,90408.16,90425.15,0.0,204017.4,0.0,134740.19,0.0,98955.87,49157.09,130240.33,96693.66,129810.6,130661.96,0.0,0.0,130747.1,106629.49,112029.83,130575.26,96679.71,0.0,171740.69,0.0,120596.93,0.0,95984.69,142557.11,0.0,0.0,132129.72,91902.56,156218.19,168085.38,117852.26,84474.62,0.0,126803.34,0.0,68806.84,115141.18,0.0,90723.36,151249.45,0.0,0.0,0.0,0.0,0.0,123948.85,65521.2,0.0,0.0,155736.42,0.0,118307.57,0.0,103099.17,0.0,109646.83,127187.86,0.0,0.0,130385.82,107787.47,99325.04,0.0,123764.95,86006.21,57068.43,103607.24,99004.24,0.0,0.0,119496.87,0.0,0.0,0.0,152885.77,99607.37,137003.68,99811.44,154712.58,0.0,147687.24,0.0,127009.83,0.0,127320.36,125175.58,186788.96,148556.74,128644.46,127476.73,159561.93,112419.92,129991.76,0.0,0.0,89175.06,162390.52,190353.08,0.0,0.0,139180.97,114435.47,149950.19,126115.6,111396.97,115007.08,102141.9,120879.73,82321.88,0.0,116474.28,132352.69,182491.57,0.0,120787.18,130181.47,88348.43,0.0,146186.28,104488.17,109196.67,109026.8,61319.63,0.0,0.0,165413.43,77805.66,0.0,124197.22,0.0,160132.75,70258.88,162657.64,148042.97,92855.02,100252.18,107592.89,113096.41,0.0,149940.04,0.0,148874.01,68138.37,110080.3,0.0,114268.85,117412.35,0.0,0.0,35549.81,0.0,123675.69,139532.34,178713.98,0.0,89086.31,96143.47,32197.64,0.0,0.0,0.0,0.0,0.0,0.0,74483.97,0.0,152303.66,159904.79,0.0,99557.94,116886.59,142188.2,149961.99,0.0,0.0,0.0,28649.64,81025.6,0.0,152462.79,0.0,155519.59,118851.05,92899.27,0.0,75263.7,147904.31,106640.5,90696.78,175509.8,0.0,0.0,114321.28,85915.52,0.0,0.0,0.0,133844.22,154872.08,0.0,116121.67,71026.77,0.0,0.0,0.0,0.0,0.0,145644.05,129667.77,109341.87,0.0,0.0,0.0,87485.67,0.0,53369.13,0.0,146679.77,112499.42,48387.0,68079.8,160133.88,66190.33,123761.68,0.0,138912.17,0.0,128524.19,0.0,0.0,0.0,0.0,114756.14,0.0,128663.81,113522.64,0.0,0.0,141918.09,107944.33,0.0,96399.31,0.0,76961.6,121394.42,112755.34,0.0,145400.69,0.0,124450.36,113877.23,0.0,148667.81,0.0,111065.93,0.0,158697.61,0.0,84651.79,154953.94,108883.29,0.0,125211.55,0.0,157099.47,0.0,83600.24,0.0,81795.74,129378.32,0.0,0.0,0.0,74430.1,91241.85,99092.45,0.0,100062.16,98723.67,0.0,128760.32,117035.89,0.0,108913.84,101100.22,110615.47,152143.89,109798.25,0.0,0.0,114991.45,96769.04,0.0,0.0,132725.1,0.0,0.0,0.0,84557.82,113913.53,140406.68,105229.34,0.0,0.0,165252.52,0.0,0.0,0.0,0.0,118962.58,71379.53,131307.11,0.0,87099.85,183135.39,0.0,0.0,0.0,72535.45,0.0,0.0,0.0,107000.49,0.0,0.0,152806.74,0.0,140641.26,0.0,143145.87,114731.76,116695.27,0.0,0.0,93978.96,121968.11,97324.91,0.0,0.0,0.0,137222.77,0.0,114268.22,0.0,0.0,160858.13,170288.38,111568.01,83889.03,171982.95,0.0,137624.4,0.0,0.0,91184.01,0.0,0.0,140170.61,62092.9,0.0,0.0,0.0,103516.87,0.0,0.0,143061.88,0.0,137388.01,137712.01,106901.42,105603.21,150679.71,52016.08,60515.13,158584.28,118812.5,0.0,0.0,0.0,76318.64,0.0,111432.13,150148.51,38550.06,119013.86,111213.64,71097.23,109632.85,71083.98,0.0,81564.1,0.0,124540.28,133616.39,101648.5,124281.84,0.0,0.0,183613.66,137682.68,106005.54,152310.55,0.0,134446.04,142289.28,0.0,149003.76,131341.46,77919.78,0.0,0.0,0.0,115462.02,0.0,0.0,0.0,0.0,120591.19,0.0,0.0,0.0,0.0,71667.97,82729.47,0.0,0.0,0.0,129626.19,114035.39,151922.94,0.0,107751.68,0.0,101179.23,0.0,0.0,0.0,58571.18,153058.64,98270.34,0.0,0.0,115636.05,185932.18,72549.0,0.0,0.0,0.0,0.0,115084.53,0.0,127661.69,77627.33,160625.17,0.0,124266.86,127974.06,0.0,104911.35,0.0,0.0,110646.54,0.0,126704.49,0.0,84560.04,129893.56,167385.81,0.0,105858.71,0.0,0.0,0.0,125141.24,96173.17,0.0,0.0,0.0,0.0,126113.28,40488.76,137389.77,85146.36,0.0,141796.43,111348.15,0.0,0.0,64404.26,129431.36,134204.67,0.0,0.0,116711.06,0.0,54980.81,99773.85,101231.77,117070.21,73314.04,0.0,212314.03,136067.82,109052.04,79126.17,102290.56,102025.08,113383.07,102541.1,0.0,0.0,109941.51,141749.68,0.0,0.0,134066.1,0.0,0.0,87619.29,0.0,0.0,123040.38,108128.52,169023.33,0.0,0.0,0.0,114835.43,0.0,145030.92,71240.3,138772.15,93617.07,0.0,0.0,74237.2,61274.7,106486.66,73194.52,0.0,0.0,0.0,120355.0,117265.21,0.0,98009.13,0.0,0.0,171671.9,116197.65,0.0,86607.39,0.0,0.0,0.0,97338.19,0.0,0.0,131698.57,130110.45,0.0,165149.13,101707.8,105588.66,78391.17,0.0,101278.25,108711.57,108555.07,146781.24,0.0,0.0,0.0,0.0,103291.25,0.0,0.0,0.0,0.0,149405.18,0.0,135071.12,0.0,0.0,181804.34,142658.04,120150.39,81905.95,137998.2,123126.29,0.0,122449.31,161766.87,0.0,123187.51,150956.71,105021.28,0.0,133204.91,0.0,0.0,0.0,0.0,0.0,91328.71,0.0,81310.34,107136.6,0.0,0.0,144757.97,0.0,113110.26,106414.57,106920.91,0.0,131513.26,0.0,134320.23,79715.36,74306.19,126428.38,99640.89,0.0,128226.37,0.0,0.0,0.0,0.0,122168.65,178074.33,0.0,0.0,122726.56,164496.99,0.0,150219.41,0.0,0.0,103108.17,96486.57,90560.48,92476.88,0.0,43504.42,0.0,0.0,102486.21,0.0,110203.77,128362.59,170600.78,0.0,0.0,75339.64,122038.34,0.0,124788.18,0.0,0.0,138553.57,0.0,105387.89,0.0,0.0,137361.96,158537.42,0.0,169947.41,148167.83,0.0,48023.83,0.0,0.0,121240.76,0.0,0.0,129847.75,0.0,105163.88,0.0,0.0,0.0,93934.63,117866.92,0.0,127103.97,132512.26,107604.66,0.0,0.0,120875.23,71786.9,113143.12,150777.72,174894.53,0.0,160416.56,0.0,0.0,98775.23,0.0,152496.82,0.0,112930.28,0.0,144450.58,96776.49,145984.92,96353.8,0.0,115777.23,122822.0,0.0,0.0,79450.09,122394.0,0.0,134378.89,0.0,88161.85,142412.13,121030.9,165982.43,0.0,206663.75,94661.53,174400.36,123428.69,175735.5,78381.13,115345.86,118613.34,109960.06,121729.42,0.0,139496.35,0.0,138521.83,0.0,83727.68,0.0,0.0,124179.3,128829.25,171490.78,0.0,0.0,0.0,0.0,156367.6,133970.22,0.0,96127.27,121907.97,0.0,0.0,77701.64,0.0,0.0,113922.44,183997.7,0.0,0.0,0.0,85660.96,115569.21,81828.22,132694.73,0.0,0.0,96152.68,0.0,141334.95,0.0,135157.05,171601.27,179539.2,80615.46,137964.51,159434.03,113574.61,0.0,124573.33,105864.6,0.0,0.0,130499.09,140576.11,91025.58,125877.65,121778.71,127948.57,0.0,115286.68,62078.21,0.0,131643.25,151739.65,93616.35,0.0,85225.21,148749.29,0.0,0.0,111729.47,180169.44,0.0,0.0,0.0,0.0,88772.87,0.0,131184.67,0.0,92466.21,102741.15,178755.84,0.0,146602.25,0.0,0.0,115702.67,137655.31,0.0,100082.14,0.0,96032.22,0.0,144553.5,86172.81,0.0,87212.8,0.0,130700.92,0.0,0.0,0.0,92930.92,0.0,77556.79,102874.28,146093.39,149363.12,152309.37,0.0,111629.29,0.0,95830.43,135919.33,0.0,0.0,92244.83,112727.06,100359.54,105301.5,112994.65,89025.88,95478.17,0.0,119127.46,128206.79,0.0,71433.08,102258.11,151963.26,128551.36,118158.74,118520.41,0.0,163823.37,0.0,0.0,141726.88,0.0,154100.3,0.0,0.0,0.0,140004.96,0.0,125328.56,0.0,139986.65,119787.76,107556.06,0.0,0.0,142705.95,0.0,0.0,161613.94,116353.2,60013.81,0.0,144272.07,0.0,117696.67,79954.61,149989.39,124339.9,0.0,83074.0,141792.61,0.0,106870.12,120962.59,0.0,110527.17,0.0,116084.32,0.0,0.0,82441.75,0.0,0.0,0.0,141099.43,128843.67,86843.61,120074.97,130231.8,0.0,109724.38,111743.43,121309.17,82697.28,138317.94,176913.52,89047.14,0.0,94753.55,0.0,0.0,106520.73,134006.39,132837.7,120549.29,139432.55,80895.44,0.0,171646.76,109121.71,109844.81,140931.82,0.0,0.0,102708.77,149000.91,83459.86,75893.11,167395.6,0.0,71283.09,0.0,0.0,127616.56,154737.88,0.0,125476.31,176511.08,110783.28,141642.92,0.0,0.0,75681.52,0.0,161111.45,0.0,72494.69,133964.3,0.0,0.0,157201.48,95679.29,0.0,81231.85,81480.27,73059.38,117559.05,186445.31,137657.71,133889.35,134562.8,100781.75,174356.13,190125.43,164046.1,123536.52,0.0,171848.38,0.0,139562.05,0.0,168001.34,0.0,123356.63,0.0,45408.85,125977.81,133767.19,0.0,0.0,0.0,0.0,142550.25,0.0,0.0,128369.75,0.0,0.0,166133.28,121206.96,0.0,127552.85,159458.53,142537.18,182781.74,0.0,0.0,0.0,152063.59,110997.76,148942.0,0.0,84438.57,93920.47,158713.08,0.0,123204.88,72945.29,178742.71,0.0,0.0,0.0,132906.88,179334.83,137179.39,0.0,119960.29,127414.55,0.0,0.0,0.0,112494.99,78133.15,0.0,145553.07,146286.22,111827.27,0.0,94416.78,91549.78,59568.57,94464.81,95368.14,102185.42,144875.71,0.0,0.0,113291.05,0.0,0.0,131101.04,76101.81,0.0,92510.9,0.0,77652.4,98360.03,27288.43,0.0,0.0,131996.66,121580.42,132436.34,0.0,107978.4,98684.15,0.0,129264.05,131753.41,0.0,0.0,57422.62,0.0,144094.2,147510.34,161592.76,0.0,0.0,0.0,87542.89,144581.96,122568.05,172231.93,171932.26,0.0,0.0,111798.06,0.0,79336.61,142905.51,96834.78,105261.76,127913.71,73218.89,149995.72,123674.28,124125.26,0.0,156811.74,0.0,0.0,150555.83,109137.12,158351.02,0.0,0.0,0.0,0.0,0.0,0.0,0.0,82729.49,142765.24,121172.97,132932.14,123374.46,161371.5,79563.36,0.0,138232.24,0.0,95927.04,116932.59,79551.12,116416.94,88141.1,177729.13,0.0,123912.78,0.0,108306.44,103502.22,183768.47,0.0,0.0,140900.97,94049.92,98926.4,142872.36,46057.96,119769.77,143244.97,79562.98,0.0,0.0,96659.64,0.0,165947.99,92676.3,83195.12,0.0,130233.14,123502.53,140894.06,163867.86,0.0,93816.7,0.0,0.0,114668.89,146756.68,111183.53,0.0,0.0,0.0,0.0,0.0,0.0,132838.07,0.0,0.0,59360.77,0.0,112668.7,138503.51,0.0,0.0,0.0,0.0,157267.95,133871.05,141989.27,0.0,0.0,148363.38,144102.32,118448.15,0.0,0.0,0.0,0.0,0.0,0.0,129205.49,104015.54,0.0,0.0,103873.39,117731.79,135827.33,114135.17,0.0,118756.62,98382.72,79858.13,0.0,95052.29,177728.55,83116.68,111565.91,83015.71,124511.01,130652.52,0.0,0.0,121854.45,0.0,86893.28,79523.13,89939.62,0.0,155047.56,0.0,118569.03,0.0,0.0,0.0,0.0,130461.02,0.0,0.0,61172.04,90194.34,95508.2,99967.76,101470.29,70541.06,112211.61,154543.98,137275.36,153316.14,0.0,121250.04,109578.04,53573.18,58003.41,113000.66,0.0,151290.16,103515.39,0.0,0.0,106687.76,0.0,0.0,106089.2,0.0,96202.32,0.0,0.0,127818.52,137318.42,0.0,55776.39,84421.62,83161.65,0.0,87807.29,0.0,0.0,0.0,95293.86,92847.59,0.0,0.0,0.0,0.0,0.0,0.0,68345.86,76656.4,0.0,0.0,60374.98,0.0,0.0,0.0,0.0,129968.67,157731.6,0.0,89276.48,138825.19,103729.79,75499.24,169445.4,111359.55,123311.39,115532.52,77886.53,135795.63,97514.07,106160.37,0.0,143680.47,124483.53,86006.3,111094.05,0.0,0.0,0.0,115171.71,111543.26,137936.94,122304.65,120586.54,0.0,46520.69,105473.74,0.0,145396.49,165526.71,83714.41,0.0,125540.05,100254.76,138150.57,0.0,136858.42,102609.0,0.0,0.0,77356.92,151675.65,0.0,0.0,80204.11,0.0,0.0,115587.49,0.0,139659.04,0.0,122781.51,0.0,153545.11,121629.22,167983.17,99760.84,125890.72,0.0,119148.55,72948.58,133974.36,154483.98,98627.13,136770.67,95252.72,117413.95,143571.52,121626.9,84440.1,0.0,0.0,140356.7,0.0,92224.56,0.0,121355.99,109003.26,102983.91,96252.98,155879.09,142929.16,64082.09,0.0,0.0,0.0,168253.21,101979.16,164902.43,0.0,111812.52,0.0,119755.0,139528.23,94773.11,108345.22,166939.88,174571.36,71829.34,0.0,76769.68,0.0,128927.93,110941.93,99250.08,0.0,0.0,0.0,0.0,0.0,118886.55,156823.7,124216.93,144258.52,128793.63,0.0,0.0,0.0,115341.55,99162.29,200117.76,0.0,0.0,151532.4,0.0,0.0,68238.51,136808.53,92398.08,143566.12,0.0,127728.24,0.0,119658.49,0.0,149879.66,119859.52,145382.61,121231.39,141078.57,70657.61,191091.74,0.0,0.0,137937.95,0.0,0.0,0.0,93143.39,0.0,112544.45,123034.43,0.0,119278.44,0.0,0.0,169312.72,128412.61,137479.13,0.0,148088.11,126679.69,90826.27,143582.89,125712.2,0.0,155187.3,0.0,155455.43,100480.53,0.0,101891.1,0.0,128929.88,121681.91,139603.22,0.0,0.0,91760.11,175739.36,0.0,170295.04,101579.28,115282.3,107980.37,133866.22,102723.35,0.0,193213.02,132862.59,0.0,65349.71,139753.35,0.0,195926.39,0.0,87772.52,71018.6,111096.91,166776.6,101266.51,134796.87,0.0,160454.15,0.0,0.0,91132.18,0.0,0.0,0.0,113113.12,0.0,190409.34,0.0,0.0,139687.66,137301.87,129845.26,0.0,125489.4,0.0,155417.61,0.0,0.0,0.0,113607.47,0.0,126524.11,117593.48,83199.05,125920.98,118469.38,153537.57,0.0,151027.05,144751.81,155739.76,0.0,122531.86,103377.81,0.0,93017.47,90022.85,74371.49,0.0,90602.42,123841.49,183579.54,180307.73,0.0,0.0,35016.6,0.0,155060.41,0.0,0.0,57369.61,130142.79],\"type\":\"box\"},{\"marker\":{\"color\":\"red\"},\"name\":\"Exited\",\"y\":[0.0,159660.8,113755.78,115046.74,132602.88,0.0,0.0,134264.04,122522.32,131394.56,112045.67,137843.8,125561.97,98495.72,0.0,133745.44,0.0,121681.82,0.0,0.0,0.0,107073.27,92833.89,154475.54,107818.63,152603.45,0.0,148507.24,213146.2,129490.36,0.0,40915.55,0.0,0.0,133702.89,113034.22,0.0,129608.57,161608.81,0.0,56214.85,0.0,129022.06,89763.84,0.0,106854.21,105799.32,0.0,0.0,99564.22,74596.15,96888.39,100160.75,116220.5,0.0,117411.6,123497.58,126418.14,0.0,100337.96,0.0,0.0,138718.92,112822.26,0.0,0.0,137104.47,147069.78,139290.41,95441.27,112013.81,182123.79,165272.13,115301.31,129502.49,126436.29,150842.93,117231.63,0.0,127209.0,0.0,135842.41,141434.04,181461.48,110368.03,115924.89,111756.5,99282.63,137946.39,114754.08,116528.15,68065.8,95556.31,133950.37,130878.75,149762.08,141078.37,0.0,135096.77,0.0,170061.92,0.0,85891.55,136188.78,0.0,101238.24,211774.31,152827.99,0.0,114931.35,111071.36,169312.13,0.0,106901.94,154962.99,91536.93,0.0,0.0,0.0,0.0,108431.87,119741.77,100946.71,170491.84,157296.02,144606.22,162448.69,0.0,0.0,0.0,140745.33,0.0,115988.86,67996.23,116060.08,135134.99,133102.92,42157.08,133994.52,102703.62,178820.91,126674.81,136294.97,64119.38,106138.33,168286.81,86605.5,209767.31,129634.25,0.0,121152.05,128981.07,88915.37,124151.09,77253.5,140080.32,115920.62,114715.71,129748.54,113599.74,116922.25,118945.09,116313.57,0.0,122384.22,123331.36,137453.43,0.0,145338.76,0.0,97133.92,134956.02,0.0,190227.46,172448.77,170833.46,108122.39,129818.39,0.0,0.0,45144.43,0.0,125884.95,102967.41,93051.64,0.0,0.0,104947.72,0.0,0.0,0.0,0.0,109922.61,0.0,0.0,118590.41,73309.38,156371.61,96134.11,115888.04,132558.26,128100.28,151839.26,168197.66,175159.9,116497.31,0.0,0.0,89634.69,103909.86,173434.9,135483.17,0.0,0.0,107949.45,122949.14,67111.65,152169.12,0.0,0.0,113348.14,170935.94,89772.3,0.0,100749.5,94267.9,0.0,100717.85,135549.9,185891.54,130854.59,132312.06,144976.5,115414.19,112414.81,158456.76,0.0,0.0,96652.86,148962.76,135643.0,125801.03,0.0,104817.41,120711.73,203715.15,0.0,168069.73,126547.8,169742.64,129855.72,146098.43,127655.22,0.0,0.0,0.0,0.0,0.0,124601.58,107850.82,81553.93,125534.51,46870.43,147004.34,116973.26,0.0,113488.68,182364.53,102980.44,134096.53,76915.4,81576.75,65942.26,0.0,0.0,0.0,159453.64,118233.81,0.0,0.0,97403.18,176845.41,119507.58,120633.42,134542.73,0.0,201696.07,114203.47,125437.64,135555.66,73700.12,0.0,67563.31,118633.08,159441.27,125212.65,0.0,135070.58,0.0,90350.77,128747.69,0.0,91611.12,101609.77,104217.3,144757.02,0.0,110802.03,120392.99,136556.44,99587.43,70731.07,117561.49,103560.57,0.0,120656.86,92786.66,0.0,93656.95,121345.88,102365.49,0.0,81947.76,158623.14,132403.56,124043.8,131694.97,152522.47,59486.31,140596.95,90432.92,109052.59,115029.4,116646.76,110864.38,109528.28,0.0,120782.7,108825.34,91502.99,0.0,75075.14,0.0,130812.91,107174.58,152677.48,129293.74,108632.48,100374.58,133656.91,148571.07,0.0,114739.92,105722.69,0.0,117356.19,0.0,0.0,56674.48,77354.37,0.0,152797.9,133701.07,0.0,143903.11,110641.18,166909.2,118520.26,117707.18,0.0,157848.53,93960.35,88308.87,0.0,93716.72,110765.68,169649.73,116917.07,130627.66,152759.0,109733.2,0.0,64345.21,109044.6,122031.55,27755.97,175303.06,131607.28,63127.41,127258.79,78939.15,100900.5,129248.11,0.0,126397.66,108546.16,148061.89,134388.11,129109.02,117052.82,130056.23,123806.28,144453.75,108888.24,118803.35,171137.62,143542.36,97764.41,0.0,0.0,116393.59,0.0,106171.68,134250.17,0.0,0.0,124493.03,146547.78,117837.43,0.0,0.0,92171.35,173962.32,0.0,102882.4,0.0,169832.57,0.0,103060.63,36566.96,0.0,141136.62,0.0,68432.45,44020.89,97665.61,65971.61,250898.09,0.0,123378.2,138311.76,125456.07,0.0,118449.21,127785.17,86053.52,95295.39,105229.53,0.0,101247.06,0.0,110123.59,178111.82,126306.64,143249.67,123642.36,145018.64,137648.41,118560.0,0.0,118079.47,109705.52,87541.06,132253.22,0.0,157559.59,126550.7,158584.82,0.0,118199.97,119208.85,53772.73,140431.98,116471.43,123785.24,88758.95,112044.72,106804.26,68892.77,129370.91,0.0,57784.22,0.0,110022.74,123444.72,0.0,155393.32,110463.25,154575.76,119276.31,93059.34,113625.93,119961.48,137227.04,119024.75,74623.5,157929.45,0.0,122917.71,159492.79,118241.02,125537.38,179915.85,88815.56,147972.19,170008.84,138292.64,118994.84,0.0,0.0,132571.67,92805.72,0.0,135309.36,56580.93,97361.66,0.0,100727.5,145751.03,0.0,70655.48,129901.21,169406.33,140418.81,163146.46,0.0,145150.28,108914.17,111920.13,75150.34,0.0,0.0,95813.76,102453.26,0.0,68639.57,134760.21,0.0,87361.02,111257.59,131583.59,95020.8,0.0,0.0,0.0,0.0,0.0,144432.04,130024.87,110610.41,102994.04,127760.07,132591.36,103163.35,0.0,106458.31,152296.83,0.0,107247.69,0.0,75361.44,109308.79,119889.84,148595.55,164948.98,140549.4,191864.51,96418.09,142910.15,87894.26,0.0,103018.45,0.0,162532.14,0.0,110356.42,146100.75,123110.9,111760.4,108076.33,128808.65,136444.25,128140.17,0.0,185078.26,0.0,128218.47,109799.55,125397.21,94867.18,132412.38,124401.6,118022.06,184552.12,59669.43,113709.28,0.0,0.0,125095.94,0.0,103583.05,99842.5,0.0,199689.49,110219.14,73211.12,96196.24,107467.56,98218.04,139781.06,148610.41,123906.22,131441.51,0.0,136325.48,113150.44,122104.79,0.0,0.0,0.0,124365.42,143966.3,0.0,140278.99,68375.27,117833.3,0.0,128882.49,131355.3,108348.66,93871.95,0.0,114959.12,164704.38,0.0,89158.94,101207.75,133003.03,0.0,137780.74,118715.86,136836.49,91592.06,0.0,55853.33,91415.76,0.0,119370.11,134381.52,114888.74,105061.74,0.0,143139.87,178585.46,115130.34,0.0,0.0,0.0,110407.44,69329.47,116755.5,130694.89,137285.26,130701.29,114737.26,119817.33,130806.99,0.0,80931.75,0.0,164769.02,117738.81,154393.43,110827.49,0.0,0.0,81290.02,0.0,113715.36,0.0,138881.04,0.0,0.0,0.0,125647.36,109032.23,0.0,0.0,108508.82,121175.56,0.0,149726.08,0.0,0.0,0.0,95140.44,0.0,238387.56,98807.45,127631.62,143988.0,133793.89,139529.93,64646.7,0.0,126345.55,0.0,99340.83,126833.79,155447.65,116765.7,130929.02,101016.53,0.0,97067.69,92208.54,0.0,77270.08,111911.63,74135.85,91893.32,175443.75,131769.04,63609.92,79120.27,88011.4,0.0,105397.8,89079.41,94598.48,188241.05,133379.41,0.0,112666.67,110148.49,0.0,0.0,165350.61,106344.95,28082.95,0.0,0.0,87873.39,105617.73,0.0,120847.11,135133.39,0.0,62055.17,104784.23,156948.41,147751.75,142028.36,0.0,117160.32,97565.74,0.0,174701.05,124640.51,79757.21,123959.97,0.0,0.0,121376.15,131368.3,134950.19,96956.1,107601.79,92060.06,110689.07,0.0,115115.38,0.0,110738.89,105792.49,0.0,80764.03,144801.97,0.0,122314.5,147803.48,170228.59,0.0,0.0,149131.03,0.0,98592.88,89087.89,124678.35,143930.92,137059.05,186558.55,105701.91,0.0,139106.19,130935.56,116509.99,111578.18,112230.38,125734.2,0.0,142360.62,138843.7,109958.15,149155.53,135096.05,78126.28,106913.43,0.0,124425.99,101012.77,82291.1,117056.46,110132.55,122227.71,121647.54,110597.76,120731.39,0.0,0.0,0.0,151772.63,103244.86,104568.41,86376.29,87926.24,127997.83,94238.75,0.0,111973.97,108924.33,118334.44,121411.9,121455.65,167664.83,123770.46,116150.65,0.0,113873.22,0.0,0.0,0.0,0.0,141528.88,91680.1,162039.78,114421.55,0.0,162082.31,117306.69,180226.24,108736.52,100260.88,126066.26,139561.46,0.0,0.0,115895.22,24043.45,132287.92,0.0,100431.84,150358.97,75990.97,0.0,92055.36,116726.22,111128.04,0.0,0.0,0.0,0.0,153548.12,95231.91,174088.3,0.0,121016.23,118210.42,103108.8,0.0,131852.81,0.0,62094.71,0.0,0.0,158271.74,121863.61,83495.11,0.0,0.0,107494.86,0.0,124233.24,51116.26,0.0,137464.04,0.0,0.0,132002.7,142724.48,99141.86,127660.46,111905.43,0.0,108895.93,154669.77,0.0,0.0,154733.97,112609.91,89118.26,120867.18,134237.07,0.0,115442.19,135370.12,92877.33,97042.6,0.0,108528.07,74274.87,82794.18,159304.07,183572.84,0.0,101455.7,127197.14,47364.45,104930.38,106434.94,120530.34,113641.49,149049.92,41473.33,141074.59,169362.43,0.0,109062.28,66079.45,0.0,0.0,96947.58,69478.57,156674.2,174506.1,105435.74,0.0,164450.94,0.0,148222.65,111537.23,121063.8,142989.69,206014.94,101191.83,113657.41,122506.38,0.0,0.0,89743.05,0.0,133201.17,153469.26,0.0,142882.49,131935.51,105214.58,0.0,0.0,119839.69,29602.08,126589.12,130666.2,98649.55,0.0,0.0,131778.08,0.0,0.0,102088.68,144768.94,117206.3,128352.59,104478.12,143923.96,139825.56,131834.8,99529.7,0.0,123042.0,148283.94,0.0,123916.67,0.0,103549.24,165901.59,0.0,133384.66,158411.95,128751.65,0.0,130147.98,0.0,147856.82,65407.16,187602.18,0.0,0.0,0.0,111284.53,0.0,127642.44,125584.17,50911.21,0.0,0.0,0.0,149713.61,107963.38,81811.71,116933.11,109153.96,98438.23,192122.84,178058.06,109349.29,0.0,152335.7,124662.54,99472.76,114634.63,56738.47,0.0,133811.78,144235.73,172478.15,0.0,33563.95,174126.75,155828.22,113525.84,136100.69,93578.68,123681.32,167194.36,0.0,81076.8,101465.31,87603.35,121205.15,75408.33,0.0,61354.14,124954.94,95039.12,119638.21,122689.51,171913.87,137239.17,65190.29,111512.75,134980.74,142880.28,121537.71,0.0,89838.71,0.0,140891.46,106000.12,127539.3,96891.46,185648.56,102286.6,105770.14,0.0,98488.08,144237.91,0.0,0.0,0.0,107812.67,57530.06,138341.51,0.0,101528.61,155196.17,113386.36,0.0,139592.98,128289.7,0.0,88826.07,143443.61,0.0,81954.6,95196.26,0.0,110314.21,163760.82,0.0,146422.22,100275.88,0.0,113688.63,100032.52,131955.07,94348.94,52831.13,97750.07,104760.82,0.0,115766.26,144677.19,123815.86,0.0,143500.82,120905.03,0.0,102277.52,125292.53,0.0,151191.31,114023.64,80285.16,136911.07,117691.0,135506.58,75051.49,123925.23,0.0,153819.58,98088.09,118317.27,99774.5,0.0,0.0,111100.98,115290.27,99097.33,143391.07,166522.78,120481.69,126147.84,153697.53,116585.97,102556.18,109876.82,152086.15,119852.01,145387.32,95808.19,54428.37,143279.58,38340.02,133237.21,157138.99,80090.93,181166.44,148045.68,126729.41,119984.07,0.0,109196.66,134168.5,120100.41,105489.31,0.0,0.0,117721.02,125396.24,137638.69,73348.56,95675.62,0.0,190305.78,118536.4,146202.93,0.0,0.0,137260.78,124447.73,0.0,161378.02,104267.7,63488.7,12459.19,0.0,128504.76,98792.4,113948.58,97036.22,127475.24,144889.18,150126.44,0.0,135776.36,91115.76,151391.68,70291.02,0.0,76296.81,64497.94,0.0,0.0,86147.46,116563.58,114603.76,148074.79,0.0,108004.64,127471.56,97092.87,0.0,88827.53,0.0,0.0,62389.03,91857.66,0.0,176173.52,123845.36,208165.53,0.0,136576.02,141816.25,138547.97,153040.03,142084.04,66582.81,198546.1,105770.7,0.0,0.0,127940.47,141535.52,120243.49,67178.19,0.0,109172.88,107926.02,112281.6,0.0,132865.56,120682.53,144386.32,108437.89,0.0,0.0,110240.04,99546.25,0.0,123086.39,109472.47,0.0,83036.05,142644.64,23503.31,0.0,110993.79,157691.98,105245.21,123067.63,0.0,93590.47,114141.64,156353.46,135637.0,107915.94,137755.76,0.0,116309.01,105099.45,0.0,116967.68,0.0,0.0,144900.58,127205.32,155143.52,0.0,87612.64,116880.53,178144.91,0.0,108289.28,152508.99,85646.81,77641.99,164649.52,123571.77,106396.48,104887.43,150578.0,106011.59,111362.76,39344.83,63562.02,114169.16,202904.64,0.0,161807.18,110791.97,108755.0,117294.12,0.0,114552.6,140292.58,0.0,137455.99,97720.35,76319.64,125919.35,148384.64,0.0,108585.35,0.0,121399.98,0.0,152367.21,118207.69,136298.65,0.0,95872.86,0.0,0.0,123407.69,0.0,138076.47,163630.76,98710.89,0.0,168078.83,98268.84,0.0,124586.93,138207.08,148636.21,116546.59,115761.51,139626.01,0.0,148962.46,80542.81,0.0,83348.89,96553.52,201009.64,131326.47,128472.8,84445.68,62400.48,143054.56,82940.25,112650.89,163700.78,165363.31,0.0,109698.41,102645.48,87779.83,168286.58,86102.27,126597.89,187997.15,133105.47,0.0,115796.7,140273.47,0.0,82559.42,128663.9,79951.9,132508.3,104129.24,0.0,0.0,0.0,142147.32,0.0,109908.06,142946.18,104339.11,105103.33,127120.62,0.0,216109.88,0.0,0.0,0.0,92895.56,0.0,132446.08,92053.0,138214.5,0.0,121389.78,117103.26,129335.65,0.0,0.0,119272.29,106415.57,126608.37,162888.73,0.0,0.0,148843.56,162702.35,129255.2,120145.96,159203.71,0.0,139493.25,0.0,127087.06,106074.89,114422.85,133903.12,0.0,120568.41,72092.95,181821.96,0.0,141819.02,156974.26,113882.33,127253.98,0.0,125889.3,78314.63,206329.65,57098.96,115341.19,161801.47,102870.93,44582.07,0.0,112290.22,154409.74,125961.74,49572.73,0.0,121325.84,113063.83,117325.54,182876.88,130023.38,167831.88,0.0,0.0,83287.05,117438.17,150836.92,154121.32,165048.5,170252.05,111009.32,115280.49,151802.29,150005.38,106261.63,132670.53,117314.92,145874.35,109978.83,103362.14,132623.76,121461.87,88441.64,0.0,135392.31,131629.17,108477.27,0.0,120961.5,109339.17,55328.4,105173.99,117280.23,136650.89,0.0,190066.54,149349.58,147726.98,89299.81,154586.92,0.0,127286.04,0.0,103741.14,77526.66,110150.43,0.0,133295.98,148326.09,139914.6,118723.11,168920.75,118028.35,113657.83,189318.16,51690.89,150200.23,0.0,0.0,128966.13,152581.06,117094.02,0.0,194532.66,169743.83,82909.14,145151.4,147187.84,108185.81,210433.08,0.0,0.0,153610.61,116520.28,141825.88,130051.66,138523.2,90778.76,99353.42,111524.49,117458.51,94231.13,127201.58,144962.74,0.0,128389.63,130554.51,90212.0,0.0,129934.64,151958.19,118400.91,116322.27,108308.11,165438.26,119963.45,102016.38,0.0,200724.96,113317.1,0.0,0.0,131593.85,119530.52,113109.52,151933.63,0.0,108449.23,0.0,106731.58,87609.68,0.0,108960.0,101487.18,105355.81,77967.5,0.0,175464.85,79475.3,0.0,0.0,132796.04,73937.02,158621.04,0.0,101070.69,110357.0,109493.62,154110.99,122924.75,0.0,115163.38,118098.62,0.0,161171.7,146193.6,146622.35,131038.14,90450.0,125997.22,0.0,86616.35,131240.61,161450.03,43772.66,108028.08,141252.18,128548.49,145177.84,143212.22,143350.41,137851.31,0.0,119948.09,0.0,99056.22,137592.31,108760.27,119657.53,102025.32,146710.76,136709.35,0.0,107906.75,128914.97,127723.25,145843.82,81245.79,143829.2,104753.84,116574.84,65269.23,0.0,0.0,111288.18,103700.69,112595.85,0.0,95922.9,0.0,69974.66,123711.73,121874.89,188455.19,123276.69,0.0,0.0,0.0,92316.31,122185.53,0.0,0.0,159024.71,73493.17,106723.28,116251.24,124620.01,108204.52,119655.77,151701.45,132405.52,105000.85,138937.35,114514.71,122478.51,136789.14,207034.96,0.0,0.0,82373.94,0.0,103696.97,74129.18,118087.68,130367.87,140094.59,95439.4,137115.16,108019.27,126725.25,156652.13,0.0,100116.67,143644.16,0.0,183555.24,93259.57,107714.74,0.0,94752.49,0.0,132084.66,45472.28,130229.71,127415.85,110067.71,125789.69,128264.03,147386.72,93608.28,122831.58,124737.96,179356.28,0.0,0.0,133686.52,0.0,0.0,80538.56,177822.03,110939.3,175575.95,132217.45,129289.98,121438.58,0.0,136492.92,140306.38,0.0,95560.04,88379.81,72309.3,0.0,0.0,107104.5,0.0,122325.58,132934.89,150805.17,165969.26,124495.98,141559.5,155393.98,0.0,79035.95,0.0,120043.13,125191.69,98675.74,126817.13,106059.4,0.0,72647.64,96340.81,0.0,0.0,90044.32,102128.27,148846.39,112070.86,131354.39,132746.2,0.0,139422.37,99339.0,144772.69,0.0,71281.29,3768.69,121797.09,122403.24,145860.98,105086.74,93817.41,0.0,137891.35,122034.4,0.0,171178.25,0.0,128137.42,115915.53,92887.06,114940.67,71816.74,165282.42,113909.69,0.0,145155.37,150490.32,121159.65,144027.8,0.0,0.0,85162.26,108300.27,91219.29,0.0,148368.02,148600.91,139625.34,0.0,136186.44,0.0,108309.0,122739.1,113781.5,128284.45,166968.28,130788.71,99165.84,121890.06,99786.07,118907.6,0.0,0.0,123070.89,127543.11,0.0,103101.56,129828.58,80214.36,195238.29,154309.67,0.0,0.0,108308.0,85146.48,0.0,103409.16,222267.63,144090.42,127421.78,146498.76,0.0,109974.22,0.0,0.0,128213.96,98854.34,111336.89,0.0,144326.09,209490.21,0.0,191665.21,47020.65,128518.98,135645.29,115488.52,130565.02,0.0,108477.49,0.0,66338.68,135078.41,69434.4,187534.79,131764.96,152076.93,0.0,93569.86,114346.3,143888.22,186825.57,95053.1,143595.87,155655.46,0.0,118772.71,0.0,122857.46,0.0,96402.96,91246.53,139756.12,177626.77,0.0,0.0,113674.2,171236.3,142703.4,160818.08,121669.93,89799.46,108867.0,153855.52,104584.11,98173.02,0.0,126285.73,104552.61,0.0,119492.88,0.0,45752.78,175406.13,138597.54,0.0,130013.12,0.0,103914.17,117810.79,59877.33,107304.39,171325.98,0.0,79811.72,105473.74,121927.92,61671.19,96296.78,185966.64,118214.32,163764.84,104469.58,137852.96,127132.96,135759.4,0.0,0.0,133723.43,112670.48,0.0,0.0,134171.8,124442.38,0.0,108862.76,44301.43,120688.61,114318.78,101543.51,104016.88,0.0,106230.92,146266.0,125845.66,147262.11,108806.96,106036.52,82182.1,76817.0,103711.56,148214.36,102085.72,0.0,0.0,140121.17,137409.19,0.0,123593.22,0.0,0.0,111677.88,115518.07,0.0,78119.59,0.0,75225.53,120916.52,0.0,123544.0,95328.6,0.0,159035.45,0.0,0.0,0.0,81571.05,0.0,0.0,102962.62,119654.44,129387.94,150213.71,99816.46,86714.06,128707.31,123192.12,115248.11,46388.16,148666.99,115101.5,0.0,128876.71,135979.01,117271.8,0.0,0.0,112383.03,100520.92,131033.76,95727.05,0.0,0.0,111098.85,131873.07,0.0,139973.65,121498.11,69608.14,0.0,88046.88,142388.61,167273.71,127545.56,115730.71,131078.42,128298.74,0.0,0.0,95984.21,110923.15,0.0,106968.96,86038.21,102773.2,70754.18,81153.82,137986.58,121197.64,147341.43,0.0,118336.95,119556.1,119349.69,104614.29,104682.83,126315.26,156848.13,105736.32,62212.29,121523.51,104533.24,108465.65,120105.43,129646.91,131433.33,106506.77,118356.89,105229.72,0.0,127585.98,0.0,93925.3,118793.6,117005.55,204510.94,107959.39,118588.83,83503.11,85216.61,104552.72,0.0,113957.01,152039.7,137145.12,88381.21,0.0,75075.31],\"type\":\"box\"}],                        {\"template\":{\"data\":{\"bar\":[{\"error_x\":{\"color\":\"#2a3f5f\"},\"error_y\":{\"color\":\"#2a3f5f\"},\"marker\":{\"line\":{\"color\":\"#E5ECF6\",\"width\":0.5},\"pattern\":{\"fillmode\":\"overlay\",\"size\":10,\"solidity\":0.2}},\"type\":\"bar\"}],\"barpolar\":[{\"marker\":{\"line\":{\"color\":\"#E5ECF6\",\"width\":0.5},\"pattern\":{\"fillmode\":\"overlay\",\"size\":10,\"solidity\":0.2}},\"type\":\"barpolar\"}],\"carpet\":[{\"aaxis\":{\"endlinecolor\":\"#2a3f5f\",\"gridcolor\":\"white\",\"linecolor\":\"white\",\"minorgridcolor\":\"white\",\"startlinecolor\":\"#2a3f5f\"},\"baxis\":{\"endlinecolor\":\"#2a3f5f\",\"gridcolor\":\"white\",\"linecolor\":\"white\",\"minorgridcolor\":\"white\",\"startlinecolor\":\"#2a3f5f\"},\"type\":\"carpet\"}],\"choropleth\":[{\"colorbar\":{\"outlinewidth\":0,\"ticks\":\"\"},\"type\":\"choropleth\"}],\"contour\":[{\"colorbar\":{\"outlinewidth\":0,\"ticks\":\"\"},\"colorscale\":[[0.0,\"#0d0887\"],[0.1111111111111111,\"#46039f\"],[0.2222222222222222,\"#7201a8\"],[0.3333333333333333,\"#9c179e\"],[0.4444444444444444,\"#bd3786\"],[0.5555555555555556,\"#d8576b\"],[0.6666666666666666,\"#ed7953\"],[0.7777777777777778,\"#fb9f3a\"],[0.8888888888888888,\"#fdca26\"],[1.0,\"#f0f921\"]],\"type\":\"contour\"}],\"contourcarpet\":[{\"colorbar\":{\"outlinewidth\":0,\"ticks\":\"\"},\"type\":\"contourcarpet\"}],\"heatmap\":[{\"colorbar\":{\"outlinewidth\":0,\"ticks\":\"\"},\"colorscale\":[[0.0,\"#0d0887\"],[0.1111111111111111,\"#46039f\"],[0.2222222222222222,\"#7201a8\"],[0.3333333333333333,\"#9c179e\"],[0.4444444444444444,\"#bd3786\"],[0.5555555555555556,\"#d8576b\"],[0.6666666666666666,\"#ed7953\"],[0.7777777777777778,\"#fb9f3a\"],[0.8888888888888888,\"#fdca26\"],[1.0,\"#f0f921\"]],\"type\":\"heatmap\"}],\"heatmapgl\":[{\"colorbar\":{\"outlinewidth\":0,\"ticks\":\"\"},\"colorscale\":[[0.0,\"#0d0887\"],[0.1111111111111111,\"#46039f\"],[0.2222222222222222,\"#7201a8\"],[0.3333333333333333,\"#9c179e\"],[0.4444444444444444,\"#bd3786\"],[0.5555555555555556,\"#d8576b\"],[0.6666666666666666,\"#ed7953\"],[0.7777777777777778,\"#fb9f3a\"],[0.8888888888888888,\"#fdca26\"],[1.0,\"#f0f921\"]],\"type\":\"heatmapgl\"}],\"histogram\":[{\"marker\":{\"pattern\":{\"fillmode\":\"overlay\",\"size\":10,\"solidity\":0.2}},\"type\":\"histogram\"}],\"histogram2d\":[{\"colorbar\":{\"outlinewidth\":0,\"ticks\":\"\"},\"colorscale\":[[0.0,\"#0d0887\"],[0.1111111111111111,\"#46039f\"],[0.2222222222222222,\"#7201a8\"],[0.3333333333333333,\"#9c179e\"],[0.4444444444444444,\"#bd3786\"],[0.5555555555555556,\"#d8576b\"],[0.6666666666666666,\"#ed7953\"],[0.7777777777777778,\"#fb9f3a\"],[0.8888888888888888,\"#fdca26\"],[1.0,\"#f0f921\"]],\"type\":\"histogram2d\"}],\"histogram2dcontour\":[{\"colorbar\":{\"outlinewidth\":0,\"ticks\":\"\"},\"colorscale\":[[0.0,\"#0d0887\"],[0.1111111111111111,\"#46039f\"],[0.2222222222222222,\"#7201a8\"],[0.3333333333333333,\"#9c179e\"],[0.4444444444444444,\"#bd3786\"],[0.5555555555555556,\"#d8576b\"],[0.6666666666666666,\"#ed7953\"],[0.7777777777777778,\"#fb9f3a\"],[0.8888888888888888,\"#fdca26\"],[1.0,\"#f0f921\"]],\"type\":\"histogram2dcontour\"}],\"mesh3d\":[{\"colorbar\":{\"outlinewidth\":0,\"ticks\":\"\"},\"type\":\"mesh3d\"}],\"parcoords\":[{\"line\":{\"colorbar\":{\"outlinewidth\":0,\"ticks\":\"\"}},\"type\":\"parcoords\"}],\"pie\":[{\"automargin\":true,\"type\":\"pie\"}],\"scatter\":[{\"marker\":{\"colorbar\":{\"outlinewidth\":0,\"ticks\":\"\"}},\"type\":\"scatter\"}],\"scatter3d\":[{\"line\":{\"colorbar\":{\"outlinewidth\":0,\"ticks\":\"\"}},\"marker\":{\"colorbar\":{\"outlinewidth\":0,\"ticks\":\"\"}},\"type\":\"scatter3d\"}],\"scattercarpet\":[{\"marker\":{\"colorbar\":{\"outlinewidth\":0,\"ticks\":\"\"}},\"type\":\"scattercarpet\"}],\"scattergeo\":[{\"marker\":{\"colorbar\":{\"outlinewidth\":0,\"ticks\":\"\"}},\"type\":\"scattergeo\"}],\"scattergl\":[{\"marker\":{\"colorbar\":{\"outlinewidth\":0,\"ticks\":\"\"}},\"type\":\"scattergl\"}],\"scattermapbox\":[{\"marker\":{\"colorbar\":{\"outlinewidth\":0,\"ticks\":\"\"}},\"type\":\"scattermapbox\"}],\"scatterpolar\":[{\"marker\":{\"colorbar\":{\"outlinewidth\":0,\"ticks\":\"\"}},\"type\":\"scatterpolar\"}],\"scatterpolargl\":[{\"marker\":{\"colorbar\":{\"outlinewidth\":0,\"ticks\":\"\"}},\"type\":\"scatterpolargl\"}],\"scatterternary\":[{\"marker\":{\"colorbar\":{\"outlinewidth\":0,\"ticks\":\"\"}},\"type\":\"scatterternary\"}],\"surface\":[{\"colorbar\":{\"outlinewidth\":0,\"ticks\":\"\"},\"colorscale\":[[0.0,\"#0d0887\"],[0.1111111111111111,\"#46039f\"],[0.2222222222222222,\"#7201a8\"],[0.3333333333333333,\"#9c179e\"],[0.4444444444444444,\"#bd3786\"],[0.5555555555555556,\"#d8576b\"],[0.6666666666666666,\"#ed7953\"],[0.7777777777777778,\"#fb9f3a\"],[0.8888888888888888,\"#fdca26\"],[1.0,\"#f0f921\"]],\"type\":\"surface\"}],\"table\":[{\"cells\":{\"fill\":{\"color\":\"#EBF0F8\"},\"line\":{\"color\":\"white\"}},\"header\":{\"fill\":{\"color\":\"#C8D4E3\"},\"line\":{\"color\":\"white\"}},\"type\":\"table\"}]},\"layout\":{\"annotationdefaults\":{\"arrowcolor\":\"#2a3f5f\",\"arrowhead\":0,\"arrowwidth\":1},\"autotypenumbers\":\"strict\",\"coloraxis\":{\"colorbar\":{\"outlinewidth\":0,\"ticks\":\"\"}},\"colorscale\":{\"diverging\":[[0,\"#8e0152\"],[0.1,\"#c51b7d\"],[0.2,\"#de77ae\"],[0.3,\"#f1b6da\"],[0.4,\"#fde0ef\"],[0.5,\"#f7f7f7\"],[0.6,\"#e6f5d0\"],[0.7,\"#b8e186\"],[0.8,\"#7fbc41\"],[0.9,\"#4d9221\"],[1,\"#276419\"]],\"sequential\":[[0.0,\"#0d0887\"],[0.1111111111111111,\"#46039f\"],[0.2222222222222222,\"#7201a8\"],[0.3333333333333333,\"#9c179e\"],[0.4444444444444444,\"#bd3786\"],[0.5555555555555556,\"#d8576b\"],[0.6666666666666666,\"#ed7953\"],[0.7777777777777778,\"#fb9f3a\"],[0.8888888888888888,\"#fdca26\"],[1.0,\"#f0f921\"]],\"sequentialminus\":[[0.0,\"#0d0887\"],[0.1111111111111111,\"#46039f\"],[0.2222222222222222,\"#7201a8\"],[0.3333333333333333,\"#9c179e\"],[0.4444444444444444,\"#bd3786\"],[0.5555555555555556,\"#d8576b\"],[0.6666666666666666,\"#ed7953\"],[0.7777777777777778,\"#fb9f3a\"],[0.8888888888888888,\"#fdca26\"],[1.0,\"#f0f921\"]]},\"colorway\":[\"#636efa\",\"#EF553B\",\"#00cc96\",\"#ab63fa\",\"#FFA15A\",\"#19d3f3\",\"#FF6692\",\"#B6E880\",\"#FF97FF\",\"#FECB52\"],\"font\":{\"color\":\"#2a3f5f\"},\"geo\":{\"bgcolor\":\"white\",\"lakecolor\":\"white\",\"landcolor\":\"#E5ECF6\",\"showlakes\":true,\"showland\":true,\"subunitcolor\":\"white\"},\"hoverlabel\":{\"align\":\"left\"},\"hovermode\":\"closest\",\"mapbox\":{\"style\":\"light\"},\"paper_bgcolor\":\"white\",\"plot_bgcolor\":\"#E5ECF6\",\"polar\":{\"angularaxis\":{\"gridcolor\":\"white\",\"linecolor\":\"white\",\"ticks\":\"\"},\"bgcolor\":\"#E5ECF6\",\"radialaxis\":{\"gridcolor\":\"white\",\"linecolor\":\"white\",\"ticks\":\"\"}},\"scene\":{\"xaxis\":{\"backgroundcolor\":\"#E5ECF6\",\"gridcolor\":\"white\",\"gridwidth\":2,\"linecolor\":\"white\",\"showbackground\":true,\"ticks\":\"\",\"zerolinecolor\":\"white\"},\"yaxis\":{\"backgroundcolor\":\"#E5ECF6\",\"gridcolor\":\"white\",\"gridwidth\":2,\"linecolor\":\"white\",\"showbackground\":true,\"ticks\":\"\",\"zerolinecolor\":\"white\"},\"zaxis\":{\"backgroundcolor\":\"#E5ECF6\",\"gridcolor\":\"white\",\"gridwidth\":2,\"linecolor\":\"white\",\"showbackground\":true,\"ticks\":\"\",\"zerolinecolor\":\"white\"}},\"shapedefaults\":{\"line\":{\"color\":\"#2a3f5f\"}},\"ternary\":{\"aaxis\":{\"gridcolor\":\"white\",\"linecolor\":\"white\",\"ticks\":\"\"},\"baxis\":{\"gridcolor\":\"white\",\"linecolor\":\"white\",\"ticks\":\"\"},\"bgcolor\":\"#E5ECF6\",\"caxis\":{\"gridcolor\":\"white\",\"linecolor\":\"white\",\"ticks\":\"\"}},\"title\":{\"x\":0.05},\"xaxis\":{\"automargin\":true,\"gridcolor\":\"white\",\"linecolor\":\"white\",\"ticks\":\"\",\"title\":{\"standoff\":15},\"zerolinecolor\":\"white\",\"zerolinewidth\":2},\"yaxis\":{\"automargin\":true,\"gridcolor\":\"white\",\"linecolor\":\"white\",\"ticks\":\"\",\"title\":{\"standoff\":15},\"zerolinecolor\":\"white\",\"zerolinewidth\":2}}},\"yaxis\":{\"title\":{\"text\":\"Balance\"}}},                        {\"responsive\": true}                    ).then(function(){\n",
              "                            \n",
              "var gd = document.getElementById('0c9eef4c-5518-4aff-bcf1-32d0a5ebe987');\n",
              "var x = new MutationObserver(function (mutations, observer) {{\n",
              "        var display = window.getComputedStyle(gd).display;\n",
              "        if (!display || display === 'none') {{\n",
              "            console.log([gd, 'removed!']);\n",
              "            Plotly.purge(gd);\n",
              "            observer.disconnect();\n",
              "        }}\n",
              "}});\n",
              "\n",
              "// Listen for the removal of the full notebook cells\n",
              "var notebookContainer = gd.closest('#notebook-container');\n",
              "if (notebookContainer) {{\n",
              "    x.observe(notebookContainer, {childList: true});\n",
              "}}\n",
              "\n",
              "// Listen for the clearing of the current output cell\n",
              "var outputEl = gd.closest('.output');\n",
              "if (outputEl) {{\n",
              "    x.observe(outputEl, {childList: true});\n",
              "}}\n",
              "\n",
              "                        })                };                            </script>        </div>\n",
              "</body>\n",
              "</html>"
            ]
          },
          "metadata": {}
        }
      ],
      "source": [
        "# Balance\n",
        "y0 = bank_data.Balance[bank_data.Exited == 0].values\n",
        "y1 = bank_data.Balance[bank_data.Exited == 1].values\n",
        "\n",
        "fig = go.Figure()\n",
        "fig.add_trace(go.Box(y=y0, name='Continued',\n",
        "                marker_color = 'blue'))\n",
        "fig.add_trace(go.Box(y=y1, name = 'Exited',\n",
        "                marker_color = 'red'))\n",
        "\n",
        "fig.update_layout(\n",
        "    yaxis_title='Balance'\n",
        ")\n",
        "\n",
        "fig.show()"
      ]
    },
    {
      "cell_type": "markdown",
      "metadata": {
        "id": "aHirieiWQHE_"
      },
      "source": [
        "We can see that Customers having balance even after churning out.\n",
        "\n",
        "Even though the gap is not very high yet the Customers with high account balance are churning out. This may even be due to the data imbalance. To be on the safer side the bank needs to address this as it will impact their profit. \n"
      ]
    },
    {
      "cell_type": "markdown",
      "metadata": {
        "id": "8guRp84HQHE_"
      },
      "source": [
        "## Correlation check!"
      ]
    },
    {
      "cell_type": "code",
      "execution_count": 18,
      "metadata": {
        "id": "if4s3wCJQHE_",
        "outputId": "70f82c9d-7863-447a-9113-639b546a9bb6",
        "colab": {
          "base_uri": "https://localhost:8080/",
          "height": 352
        }
      },
      "outputs": [
        {
          "output_type": "execute_result",
          "data": {
            "text/plain": [
              "<pandas.io.formats.style.Styler at 0x7fc5e6974110>"
            ],
            "text/html": [
              "<style type=\"text/css\">\n",
              "#T_756f3_row0_col0, #T_756f3_row1_col1, #T_756f3_row2_col2, #T_756f3_row3_col3, #T_756f3_row4_col4, #T_756f3_row5_col5, #T_756f3_row6_col6, #T_756f3_row7_col7, #T_756f3_row8_col8 {\n",
              "  background-color: #ffff66;\n",
              "  color: #000000;\n",
              "}\n",
              "#T_756f3_row0_col1, #T_756f3_row2_col0, #T_756f3_row3_col7, #T_756f3_row4_col7, #T_756f3_row7_col0 {\n",
              "  background-color: #068266;\n",
              "  color: #f1f1f1;\n",
              "}\n",
              "#T_756f3_row0_col2 {\n",
              "  background-color: #078366;\n",
              "  color: #f1f1f1;\n",
              "}\n",
              "#T_756f3_row0_col3, #T_756f3_row3_col8, #T_756f3_row5_col4 {\n",
              "  background-color: #3c9e66;\n",
              "  color: #f1f1f1;\n",
              "}\n",
              "#T_756f3_row0_col4, #T_756f3_row2_col4, #T_756f3_row7_col3, #T_756f3_row7_col4 {\n",
              "  background-color: #3e9e66;\n",
              "  color: #f1f1f1;\n",
              "}\n",
              "#T_756f3_row0_col5, #T_756f3_row0_col7 {\n",
              "  background-color: #028066;\n",
              "  color: #f1f1f1;\n",
              "}\n",
              "#T_756f3_row0_col6 {\n",
              "  background-color: #289366;\n",
              "  color: #f1f1f1;\n",
              "}\n",
              "#T_756f3_row0_col8, #T_756f3_row2_col6, #T_756f3_row6_col1 {\n",
              "  background-color: #1c8e66;\n",
              "  color: #f1f1f1;\n",
              "}\n",
              "#T_756f3_row1_col0, #T_756f3_row2_col1, #T_756f3_row5_col0, #T_756f3_row7_col1, #T_756f3_row8_col7 {\n",
              "  background-color: #058266;\n",
              "  color: #f1f1f1;\n",
              "}\n",
              "#T_756f3_row1_col2, #T_756f3_row2_col7, #T_756f3_row3_col2, #T_756f3_row4_col5, #T_756f3_row5_col1 {\n",
              "  background-color: #048266;\n",
              "  color: #f1f1f1;\n",
              "}\n",
              "#T_756f3_row1_col3 {\n",
              "  background-color: #41a066;\n",
              "  color: #f1f1f1;\n",
              "}\n",
              "#T_756f3_row1_col4, #T_756f3_row1_col6 {\n",
              "  background-color: #359a66;\n",
              "  color: #f1f1f1;\n",
              "}\n",
              "#T_756f3_row1_col5, #T_756f3_row3_col4, #T_756f3_row3_col5, #T_756f3_row4_col1, #T_756f3_row4_col3, #T_756f3_row5_col7, #T_756f3_row6_col2, #T_756f3_row6_col5, #T_756f3_row6_col7, #T_756f3_row6_col8, #T_756f3_row8_col0, #T_756f3_row8_col6 {\n",
              "  background-color: #008066;\n",
              "  color: #f1f1f1;\n",
              "}\n",
              "#T_756f3_row1_col7, #T_756f3_row7_col5, #T_756f3_row8_col5 {\n",
              "  background-color: #018066;\n",
              "  color: #f1f1f1;\n",
              "}\n",
              "#T_756f3_row1_col8 {\n",
              "  background-color: #61b066;\n",
              "  color: #f1f1f1;\n",
              "}\n",
              "#T_756f3_row2_col3, #T_756f3_row6_col3 {\n",
              "  background-color: #399c66;\n",
              "  color: #f1f1f1;\n",
              "}\n",
              "#T_756f3_row2_col5, #T_756f3_row4_col0 {\n",
              "  background-color: #098466;\n",
              "  color: #f1f1f1;\n",
              "}\n",
              "#T_756f3_row2_col8, #T_756f3_row5_col6 {\n",
              "  background-color: #1f8f66;\n",
              "  color: #f1f1f1;\n",
              "}\n",
              "#T_756f3_row3_col0, #T_756f3_row7_col2 {\n",
              "  background-color: #088466;\n",
              "  color: #f1f1f1;\n",
              "}\n",
              "#T_756f3_row3_col1 {\n",
              "  background-color: #0e8666;\n",
              "  color: #f1f1f1;\n",
              "}\n",
              "#T_756f3_row3_col6, #T_756f3_row5_col8, #T_756f3_row7_col6 {\n",
              "  background-color: #209066;\n",
              "  color: #f1f1f1;\n",
              "}\n",
              "#T_756f3_row4_col2 {\n",
              "  background-color: #0a8466;\n",
              "  color: #f1f1f1;\n",
              "}\n",
              "#T_756f3_row4_col6 {\n",
              "  background-color: #249266;\n",
              "  color: #f1f1f1;\n",
              "}\n",
              "#T_756f3_row4_col8 {\n",
              "  background-color: #178b66;\n",
              "  color: #f1f1f1;\n",
              "}\n",
              "#T_756f3_row5_col2 {\n",
              "  background-color: #0c8666;\n",
              "  color: #f1f1f1;\n",
              "}\n",
              "#T_756f3_row5_col3 {\n",
              "  background-color: #389c66;\n",
              "  color: #f1f1f1;\n",
              "}\n",
              "#T_756f3_row6_col0 {\n",
              "  background-color: #0d8666;\n",
              "  color: #f1f1f1;\n",
              "}\n",
              "#T_756f3_row6_col4 {\n",
              "  background-color: #3d9e66;\n",
              "  color: #f1f1f1;\n",
              "}\n",
              "#T_756f3_row7_col8 {\n",
              "  background-color: #259266;\n",
              "  color: #f1f1f1;\n",
              "}\n",
              "#T_756f3_row8_col1 {\n",
              "  background-color: #4ea666;\n",
              "  color: #f1f1f1;\n",
              "}\n",
              "#T_756f3_row8_col2 {\n",
              "  background-color: #038166;\n",
              "  color: #f1f1f1;\n",
              "}\n",
              "#T_756f3_row8_col3 {\n",
              "  background-color: #52a866;\n",
              "  color: #f1f1f1;\n",
              "}\n",
              "#T_756f3_row8_col4 {\n",
              "  background-color: #329866;\n",
              "  color: #f1f1f1;\n",
              "}\n",
              "</style>\n",
              "<table id=\"T_756f3_\" class=\"dataframe\">\n",
              "  <thead>\n",
              "    <tr>\n",
              "      <th class=\"blank level0\" >&nbsp;</th>\n",
              "      <th class=\"col_heading level0 col0\" >CreditScore</th>\n",
              "      <th class=\"col_heading level0 col1\" >Age</th>\n",
              "      <th class=\"col_heading level0 col2\" >Tenure</th>\n",
              "      <th class=\"col_heading level0 col3\" >Balance</th>\n",
              "      <th class=\"col_heading level0 col4\" >NumOfProducts</th>\n",
              "      <th class=\"col_heading level0 col5\" >HasCrCard</th>\n",
              "      <th class=\"col_heading level0 col6\" >IsActiveMember</th>\n",
              "      <th class=\"col_heading level0 col7\" >EstimatedSalary</th>\n",
              "      <th class=\"col_heading level0 col8\" >Exited</th>\n",
              "    </tr>\n",
              "  </thead>\n",
              "  <tbody>\n",
              "    <tr>\n",
              "      <th id=\"T_756f3_level0_row0\" class=\"row_heading level0 row0\" >CreditScore</th>\n",
              "      <td id=\"T_756f3_row0_col0\" class=\"data row0 col0\" >1.000000</td>\n",
              "      <td id=\"T_756f3_row0_col1\" class=\"data row0 col1\" >-0.003965</td>\n",
              "      <td id=\"T_756f3_row0_col2\" class=\"data row0 col2\" >0.000842</td>\n",
              "      <td id=\"T_756f3_row0_col3\" class=\"data row0 col3\" >0.006268</td>\n",
              "      <td id=\"T_756f3_row0_col4\" class=\"data row0 col4\" >0.012238</td>\n",
              "      <td id=\"T_756f3_row0_col5\" class=\"data row0 col5\" >-0.005458</td>\n",
              "      <td id=\"T_756f3_row0_col6\" class=\"data row0 col6\" >0.025651</td>\n",
              "      <td id=\"T_756f3_row0_col7\" class=\"data row0 col7\" >-0.001384</td>\n",
              "      <td id=\"T_756f3_row0_col8\" class=\"data row0 col8\" >-0.027094</td>\n",
              "    </tr>\n",
              "    <tr>\n",
              "      <th id=\"T_756f3_level0_row1\" class=\"row_heading level0 row1\" >Age</th>\n",
              "      <td id=\"T_756f3_row1_col0\" class=\"data row1 col0\" >-0.003965</td>\n",
              "      <td id=\"T_756f3_row1_col1\" class=\"data row1 col1\" >1.000000</td>\n",
              "      <td id=\"T_756f3_row1_col2\" class=\"data row1 col2\" >-0.009997</td>\n",
              "      <td id=\"T_756f3_row1_col3\" class=\"data row1 col3\" >0.028308</td>\n",
              "      <td id=\"T_756f3_row1_col4\" class=\"data row1 col4\" >-0.030680</td>\n",
              "      <td id=\"T_756f3_row1_col5\" class=\"data row1 col5\" >-0.011721</td>\n",
              "      <td id=\"T_756f3_row1_col6\" class=\"data row1 col6\" >0.085472</td>\n",
              "      <td id=\"T_756f3_row1_col7\" class=\"data row1 col7\" >-0.007201</td>\n",
              "      <td id=\"T_756f3_row1_col8\" class=\"data row1 col8\" >0.285323</td>\n",
              "    </tr>\n",
              "    <tr>\n",
              "      <th id=\"T_756f3_level0_row2\" class=\"row_heading level0 row2\" >Tenure</th>\n",
              "      <td id=\"T_756f3_row2_col0\" class=\"data row2 col0\" >0.000842</td>\n",
              "      <td id=\"T_756f3_row2_col1\" class=\"data row2 col1\" >-0.009997</td>\n",
              "      <td id=\"T_756f3_row2_col2\" class=\"data row2 col2\" >1.000000</td>\n",
              "      <td id=\"T_756f3_row2_col3\" class=\"data row2 col3\" >-0.012254</td>\n",
              "      <td id=\"T_756f3_row2_col4\" class=\"data row2 col4\" >0.013444</td>\n",
              "      <td id=\"T_756f3_row2_col5\" class=\"data row2 col5\" >0.022583</td>\n",
              "      <td id=\"T_756f3_row2_col6\" class=\"data row2 col6\" >-0.028362</td>\n",
              "      <td id=\"T_756f3_row2_col7\" class=\"data row2 col7\" >0.007784</td>\n",
              "      <td id=\"T_756f3_row2_col8\" class=\"data row2 col8\" >-0.014001</td>\n",
              "    </tr>\n",
              "    <tr>\n",
              "      <th id=\"T_756f3_level0_row3\" class=\"row_heading level0 row3\" >Balance</th>\n",
              "      <td id=\"T_756f3_row3_col0\" class=\"data row3 col0\" >0.006268</td>\n",
              "      <td id=\"T_756f3_row3_col1\" class=\"data row3 col1\" >0.028308</td>\n",
              "      <td id=\"T_756f3_row3_col2\" class=\"data row3 col2\" >-0.012254</td>\n",
              "      <td id=\"T_756f3_row3_col3\" class=\"data row3 col3\" >1.000000</td>\n",
              "      <td id=\"T_756f3_row3_col4\" class=\"data row3 col4\" >-0.304180</td>\n",
              "      <td id=\"T_756f3_row3_col5\" class=\"data row3 col5\" >-0.014858</td>\n",
              "      <td id=\"T_756f3_row3_col6\" class=\"data row3 col6\" >-0.010084</td>\n",
              "      <td id=\"T_756f3_row3_col7\" class=\"data row3 col7\" >0.012797</td>\n",
              "      <td id=\"T_756f3_row3_col8\" class=\"data row3 col8\" >0.118533</td>\n",
              "    </tr>\n",
              "    <tr>\n",
              "      <th id=\"T_756f3_level0_row4\" class=\"row_heading level0 row4\" >NumOfProducts</th>\n",
              "      <td id=\"T_756f3_row4_col0\" class=\"data row4 col0\" >0.012238</td>\n",
              "      <td id=\"T_756f3_row4_col1\" class=\"data row4 col1\" >-0.030680</td>\n",
              "      <td id=\"T_756f3_row4_col2\" class=\"data row4 col2\" >0.013444</td>\n",
              "      <td id=\"T_756f3_row4_col3\" class=\"data row4 col3\" >-0.304180</td>\n",
              "      <td id=\"T_756f3_row4_col4\" class=\"data row4 col4\" >1.000000</td>\n",
              "      <td id=\"T_756f3_row4_col5\" class=\"data row4 col5\" >0.003183</td>\n",
              "      <td id=\"T_756f3_row4_col6\" class=\"data row4 col6\" >0.009612</td>\n",
              "      <td id=\"T_756f3_row4_col7\" class=\"data row4 col7\" >0.014204</td>\n",
              "      <td id=\"T_756f3_row4_col8\" class=\"data row4 col8\" >-0.047820</td>\n",
              "    </tr>\n",
              "    <tr>\n",
              "      <th id=\"T_756f3_level0_row5\" class=\"row_heading level0 row5\" >HasCrCard</th>\n",
              "      <td id=\"T_756f3_row5_col0\" class=\"data row5 col0\" >-0.005458</td>\n",
              "      <td id=\"T_756f3_row5_col1\" class=\"data row5 col1\" >-0.011721</td>\n",
              "      <td id=\"T_756f3_row5_col2\" class=\"data row5 col2\" >0.022583</td>\n",
              "      <td id=\"T_756f3_row5_col3\" class=\"data row5 col3\" >-0.014858</td>\n",
              "      <td id=\"T_756f3_row5_col4\" class=\"data row5 col4\" >0.003183</td>\n",
              "      <td id=\"T_756f3_row5_col5\" class=\"data row5 col5\" >1.000000</td>\n",
              "      <td id=\"T_756f3_row5_col6\" class=\"data row5 col6\" >-0.011866</td>\n",
              "      <td id=\"T_756f3_row5_col7\" class=\"data row5 col7\" >-0.009933</td>\n",
              "      <td id=\"T_756f3_row5_col8\" class=\"data row5 col8\" >-0.007138</td>\n",
              "    </tr>\n",
              "    <tr>\n",
              "      <th id=\"T_756f3_level0_row6\" class=\"row_heading level0 row6\" >IsActiveMember</th>\n",
              "      <td id=\"T_756f3_row6_col0\" class=\"data row6 col0\" >0.025651</td>\n",
              "      <td id=\"T_756f3_row6_col1\" class=\"data row6 col1\" >0.085472</td>\n",
              "      <td id=\"T_756f3_row6_col2\" class=\"data row6 col2\" >-0.028362</td>\n",
              "      <td id=\"T_756f3_row6_col3\" class=\"data row6 col3\" >-0.010084</td>\n",
              "      <td id=\"T_756f3_row6_col4\" class=\"data row6 col4\" >0.009612</td>\n",
              "      <td id=\"T_756f3_row6_col5\" class=\"data row6 col5\" >-0.011866</td>\n",
              "      <td id=\"T_756f3_row6_col6\" class=\"data row6 col6\" >1.000000</td>\n",
              "      <td id=\"T_756f3_row6_col7\" class=\"data row6 col7\" >-0.011421</td>\n",
              "      <td id=\"T_756f3_row6_col8\" class=\"data row6 col8\" >-0.156128</td>\n",
              "    </tr>\n",
              "    <tr>\n",
              "      <th id=\"T_756f3_level0_row7\" class=\"row_heading level0 row7\" >EstimatedSalary</th>\n",
              "      <td id=\"T_756f3_row7_col0\" class=\"data row7 col0\" >-0.001384</td>\n",
              "      <td id=\"T_756f3_row7_col1\" class=\"data row7 col1\" >-0.007201</td>\n",
              "      <td id=\"T_756f3_row7_col2\" class=\"data row7 col2\" >0.007784</td>\n",
              "      <td id=\"T_756f3_row7_col3\" class=\"data row7 col3\" >0.012797</td>\n",
              "      <td id=\"T_756f3_row7_col4\" class=\"data row7 col4\" >0.014204</td>\n",
              "      <td id=\"T_756f3_row7_col5\" class=\"data row7 col5\" >-0.009933</td>\n",
              "      <td id=\"T_756f3_row7_col6\" class=\"data row7 col6\" >-0.011421</td>\n",
              "      <td id=\"T_756f3_row7_col7\" class=\"data row7 col7\" >1.000000</td>\n",
              "      <td id=\"T_756f3_row7_col8\" class=\"data row7 col8\" >0.012097</td>\n",
              "    </tr>\n",
              "    <tr>\n",
              "      <th id=\"T_756f3_level0_row8\" class=\"row_heading level0 row8\" >Exited</th>\n",
              "      <td id=\"T_756f3_row8_col0\" class=\"data row8 col0\" >-0.027094</td>\n",
              "      <td id=\"T_756f3_row8_col1\" class=\"data row8 col1\" >0.285323</td>\n",
              "      <td id=\"T_756f3_row8_col2\" class=\"data row8 col2\" >-0.014001</td>\n",
              "      <td id=\"T_756f3_row8_col3\" class=\"data row8 col3\" >0.118533</td>\n",
              "      <td id=\"T_756f3_row8_col4\" class=\"data row8 col4\" >-0.047820</td>\n",
              "      <td id=\"T_756f3_row8_col5\" class=\"data row8 col5\" >-0.007138</td>\n",
              "      <td id=\"T_756f3_row8_col6\" class=\"data row8 col6\" >-0.156128</td>\n",
              "      <td id=\"T_756f3_row8_col7\" class=\"data row8 col7\" >0.012097</td>\n",
              "      <td id=\"T_756f3_row8_col8\" class=\"data row8 col8\" >1.000000</td>\n",
              "    </tr>\n",
              "  </tbody>\n",
              "</table>\n"
            ]
          },
          "metadata": {},
          "execution_count": 18
        }
      ],
      "source": [
        "cordata = bank_data.corr(method ='pearson')\n",
        "cordata.style.background_gradient(cmap='summer')"
      ]
    },
    {
      "cell_type": "markdown",
      "metadata": {
        "id": "d5AbaDiyQHE_"
      },
      "source": [
        "Age has some correlation (28.5%) with Churn rate. There are no real highly correlated features. NumberOfProducts and Balance are 30.4% Correlated among themselves. Apart from that there are no multi-collinear features which is good.\n",
        "\n",
        "Let's try and create some features [feature engineering]. Let's See if we can create more useful features."
      ]
    },
    {
      "cell_type": "markdown",
      "metadata": {
        "id": "uRufawvGQHE_"
      },
      "source": [
        "# Feature Engineering\n",
        "\n",
        "One of the most important part in a data science/ml pipeline is the ability to create good features. Feature Engineering is the hard skill and this is where the creativity & knowledge of data scientist/ML practioner is required. "
      ]
    },
    {
      "cell_type": "markdown",
      "metadata": {
        "id": "IpoBJkn5QHFA"
      },
      "source": [
        "# Train, Validation and Test Split\n",
        "\n",
        "Before we create feature we will split the data into Train, CV and Test sets. Otherwise, there will this problem of data leakage. "
      ]
    },
    {
      "cell_type": "code",
      "execution_count": 19,
      "metadata": {
        "id": "1zDiV5drQHFA",
        "outputId": "dce4e88f-51ce-4fd3-c1ca-aeca0d819531",
        "colab": {
          "base_uri": "https://localhost:8080/",
          "height": 156
        }
      },
      "outputs": [
        {
          "output_type": "execute_result",
          "data": {
            "text/plain": [
              "   CreditScore Geography  Gender  Age  Tenure   Balance  NumOfProducts  \\\n",
              "0          619    France  Female   42       2      0.00              1   \n",
              "1          608     Spain  Female   41       1  83807.86              1   \n",
              "\n",
              "   HasCrCard  IsActiveMember  EstimatedSalary  \n",
              "0          1               1        101348.88  \n",
              "1          0               1        112542.58  "
            ],
            "text/html": [
              "\n",
              "  <div id=\"df-691fab78-3bc7-4308-996e-ae4831ee791e\">\n",
              "    <div class=\"colab-df-container\">\n",
              "      <div>\n",
              "<style scoped>\n",
              "    .dataframe tbody tr th:only-of-type {\n",
              "        vertical-align: middle;\n",
              "    }\n",
              "\n",
              "    .dataframe tbody tr th {\n",
              "        vertical-align: top;\n",
              "    }\n",
              "\n",
              "    .dataframe thead th {\n",
              "        text-align: right;\n",
              "    }\n",
              "</style>\n",
              "<table border=\"1\" class=\"dataframe\">\n",
              "  <thead>\n",
              "    <tr style=\"text-align: right;\">\n",
              "      <th></th>\n",
              "      <th>CreditScore</th>\n",
              "      <th>Geography</th>\n",
              "      <th>Gender</th>\n",
              "      <th>Age</th>\n",
              "      <th>Tenure</th>\n",
              "      <th>Balance</th>\n",
              "      <th>NumOfProducts</th>\n",
              "      <th>HasCrCard</th>\n",
              "      <th>IsActiveMember</th>\n",
              "      <th>EstimatedSalary</th>\n",
              "    </tr>\n",
              "  </thead>\n",
              "  <tbody>\n",
              "    <tr>\n",
              "      <th>0</th>\n",
              "      <td>619</td>\n",
              "      <td>France</td>\n",
              "      <td>Female</td>\n",
              "      <td>42</td>\n",
              "      <td>2</td>\n",
              "      <td>0.00</td>\n",
              "      <td>1</td>\n",
              "      <td>1</td>\n",
              "      <td>1</td>\n",
              "      <td>101348.88</td>\n",
              "    </tr>\n",
              "    <tr>\n",
              "      <th>1</th>\n",
              "      <td>608</td>\n",
              "      <td>Spain</td>\n",
              "      <td>Female</td>\n",
              "      <td>41</td>\n",
              "      <td>1</td>\n",
              "      <td>83807.86</td>\n",
              "      <td>1</td>\n",
              "      <td>0</td>\n",
              "      <td>1</td>\n",
              "      <td>112542.58</td>\n",
              "    </tr>\n",
              "  </tbody>\n",
              "</table>\n",
              "</div>\n",
              "      <button class=\"colab-df-convert\" onclick=\"convertToInteractive('df-691fab78-3bc7-4308-996e-ae4831ee791e')\"\n",
              "              title=\"Convert this dataframe to an interactive table.\"\n",
              "              style=\"display:none;\">\n",
              "        \n",
              "  <svg xmlns=\"http://www.w3.org/2000/svg\" height=\"24px\"viewBox=\"0 0 24 24\"\n",
              "       width=\"24px\">\n",
              "    <path d=\"M0 0h24v24H0V0z\" fill=\"none\"/>\n",
              "    <path d=\"M18.56 5.44l.94 2.06.94-2.06 2.06-.94-2.06-.94-.94-2.06-.94 2.06-2.06.94zm-11 1L8.5 8.5l.94-2.06 2.06-.94-2.06-.94L8.5 2.5l-.94 2.06-2.06.94zm10 10l.94 2.06.94-2.06 2.06-.94-2.06-.94-.94-2.06-.94 2.06-2.06.94z\"/><path d=\"M17.41 7.96l-1.37-1.37c-.4-.4-.92-.59-1.43-.59-.52 0-1.04.2-1.43.59L10.3 9.45l-7.72 7.72c-.78.78-.78 2.05 0 2.83L4 21.41c.39.39.9.59 1.41.59.51 0 1.02-.2 1.41-.59l7.78-7.78 2.81-2.81c.8-.78.8-2.07 0-2.86zM5.41 20L4 18.59l7.72-7.72 1.47 1.35L5.41 20z\"/>\n",
              "  </svg>\n",
              "      </button>\n",
              "      \n",
              "  <style>\n",
              "    .colab-df-container {\n",
              "      display:flex;\n",
              "      flex-wrap:wrap;\n",
              "      gap: 12px;\n",
              "    }\n",
              "\n",
              "    .colab-df-convert {\n",
              "      background-color: #E8F0FE;\n",
              "      border: none;\n",
              "      border-radius: 50%;\n",
              "      cursor: pointer;\n",
              "      display: none;\n",
              "      fill: #1967D2;\n",
              "      height: 32px;\n",
              "      padding: 0 0 0 0;\n",
              "      width: 32px;\n",
              "    }\n",
              "\n",
              "    .colab-df-convert:hover {\n",
              "      background-color: #E2EBFA;\n",
              "      box-shadow: 0px 1px 2px rgba(60, 64, 67, 0.3), 0px 1px 3px 1px rgba(60, 64, 67, 0.15);\n",
              "      fill: #174EA6;\n",
              "    }\n",
              "\n",
              "    [theme=dark] .colab-df-convert {\n",
              "      background-color: #3B4455;\n",
              "      fill: #D2E3FC;\n",
              "    }\n",
              "\n",
              "    [theme=dark] .colab-df-convert:hover {\n",
              "      background-color: #434B5C;\n",
              "      box-shadow: 0px 1px 3px 1px rgba(0, 0, 0, 0.15);\n",
              "      filter: drop-shadow(0px 1px 2px rgba(0, 0, 0, 0.3));\n",
              "      fill: #FFFFFF;\n",
              "    }\n",
              "  </style>\n",
              "\n",
              "      <script>\n",
              "        const buttonEl =\n",
              "          document.querySelector('#df-691fab78-3bc7-4308-996e-ae4831ee791e button.colab-df-convert');\n",
              "        buttonEl.style.display =\n",
              "          google.colab.kernel.accessAllowed ? 'block' : 'none';\n",
              "\n",
              "        async function convertToInteractive(key) {\n",
              "          const element = document.querySelector('#df-691fab78-3bc7-4308-996e-ae4831ee791e');\n",
              "          const dataTable =\n",
              "            await google.colab.kernel.invokeFunction('convertToInteractive',\n",
              "                                                     [key], {});\n",
              "          if (!dataTable) return;\n",
              "\n",
              "          const docLinkHtml = 'Like what you see? Visit the ' +\n",
              "            '<a target=\"_blank\" href=https://colab.research.google.com/notebooks/data_table.ipynb>data table notebook</a>'\n",
              "            + ' to learn more about interactive tables.';\n",
              "          element.innerHTML = '';\n",
              "          dataTable['output_type'] = 'display_data';\n",
              "          await google.colab.output.renderOutput(dataTable, element);\n",
              "          const docLink = document.createElement('div');\n",
              "          docLink.innerHTML = docLinkHtml;\n",
              "          element.appendChild(docLink);\n",
              "        }\n",
              "      </script>\n",
              "    </div>\n",
              "  </div>\n",
              "  "
            ]
          },
          "metadata": {},
          "execution_count": 19
        }
      ],
      "source": [
        "# dependent variable\n",
        "y = bank_data['Exited'].values\n",
        "# independent variables\n",
        "X = bank_data.drop(['Exited'], axis=1)\n",
        "X.head(2) "
      ]
    },
    {
      "cell_type": "code",
      "execution_count": 20,
      "metadata": {
        "id": "t0INT_EYQHFA",
        "outputId": "4b3fdfeb-47a7-44e9-b703-1420739db2f2",
        "colab": {
          "base_uri": "https://localhost:8080/"
        }
      },
      "outputs": [
        {
          "output_type": "stream",
          "name": "stdout",
          "text": [
            "train dimensions:  (6400, 10) (6400,)\n",
            "cv dimensions:  (1600, 10) (1600,)\n",
            "test dimensions:  (2000, 10) (2000,)\n"
          ]
        }
      ],
      "source": [
        "# train cv test split - stratified sampling\n",
        "from sklearn.model_selection import train_test_split\n",
        "X_train, X_test, y_train, y_test = train_test_split(X, y, test_size=0.20, stratify=y,random_state = 17)\n",
        "X_train, X_cv, y_train, y_cv = train_test_split(X_train, y_train, test_size=0.20, stratify=y_train,random_state = 17)\n",
        "\n",
        "# reset index\n",
        "X_train = X_train.reset_index(drop = True)\n",
        "X_cv = X_cv.reset_index(drop = True)\n",
        "X_test = X_test.reset_index(drop = True)\n",
        "\n",
        "\n",
        "print(\"train dimensions: \",X_train.shape, y_train.shape)\n",
        "print(\"cv dimensions: \",X_cv.shape, y_cv.shape)\n",
        "print(\"test dimensions: \",X_test.shape, y_test.shape)"
      ]
    },
    {
      "cell_type": "markdown",
      "metadata": {
        "id": "ec8yfnP1QHFA"
      },
      "source": [
        "We will create features on train cv and test. \n",
        "\n",
        "Note: fit must only happen on train set."
      ]
    },
    {
      "cell_type": "code",
      "execution_count": 21,
      "metadata": {
        "id": "0vcJ-eQ0QHFA",
        "outputId": "a69f77d0-3f87-421c-b895-3dd6ccef756a",
        "colab": {
          "base_uri": "https://localhost:8080/",
          "height": 225
        }
      },
      "outputs": [
        {
          "output_type": "stream",
          "name": "stdout",
          "text": [
            "New features created!\n"
          ]
        },
        {
          "output_type": "execute_result",
          "data": {
            "text/plain": [
              "   CreditScore Geography  Gender  Age  Tenure    Balance  NumOfProducts  \\\n",
              "0          640     Spain    Male   43       9  172478.15              1   \n",
              "1          850    France  Female   24       6       0.00              2   \n",
              "2          494   Germany  Female   38       7  174937.64              1   \n",
              "\n",
              "   HasCrCard  IsActiveMember  EstimatedSalary  balance_salary_ratio  \\\n",
              "0          1               0        191084.40              0.902628   \n",
              "1          1               1         13159.90              0.000000   \n",
              "2          1               0         40084.32              4.364241   \n",
              "\n",
              "   balance_or_not  creditscore_age_ratio  creditscore_age_ratio_log  \\\n",
              "0               1              14.883721                   1.172712   \n",
              "1               0              35.416667                   1.549208   \n",
              "2               1              13.000000                   1.113943   \n",
              "\n",
              "   Better_Age_Credit  Better_Age_Credit_Active  multi_products  \\\n",
              "0                  0                         0               0   \n",
              "1                  1                         1               1   \n",
              "2                  0                         0               0   \n",
              "\n",
              "   Valuable_customer  tenure_age_ratio  high_salary_age  \n",
              "0                  0          0.209302                0  \n",
              "1                  1          0.250000                0  \n",
              "2                  0          0.184211                0  "
            ],
            "text/html": [
              "\n",
              "  <div id=\"df-bebc778f-e3f7-40c4-b3c6-b087d647dec6\">\n",
              "    <div class=\"colab-df-container\">\n",
              "      <div>\n",
              "<style scoped>\n",
              "    .dataframe tbody tr th:only-of-type {\n",
              "        vertical-align: middle;\n",
              "    }\n",
              "\n",
              "    .dataframe tbody tr th {\n",
              "        vertical-align: top;\n",
              "    }\n",
              "\n",
              "    .dataframe thead th {\n",
              "        text-align: right;\n",
              "    }\n",
              "</style>\n",
              "<table border=\"1\" class=\"dataframe\">\n",
              "  <thead>\n",
              "    <tr style=\"text-align: right;\">\n",
              "      <th></th>\n",
              "      <th>CreditScore</th>\n",
              "      <th>Geography</th>\n",
              "      <th>Gender</th>\n",
              "      <th>Age</th>\n",
              "      <th>Tenure</th>\n",
              "      <th>Balance</th>\n",
              "      <th>NumOfProducts</th>\n",
              "      <th>HasCrCard</th>\n",
              "      <th>IsActiveMember</th>\n",
              "      <th>EstimatedSalary</th>\n",
              "      <th>balance_salary_ratio</th>\n",
              "      <th>balance_or_not</th>\n",
              "      <th>creditscore_age_ratio</th>\n",
              "      <th>creditscore_age_ratio_log</th>\n",
              "      <th>Better_Age_Credit</th>\n",
              "      <th>Better_Age_Credit_Active</th>\n",
              "      <th>multi_products</th>\n",
              "      <th>Valuable_customer</th>\n",
              "      <th>tenure_age_ratio</th>\n",
              "      <th>high_salary_age</th>\n",
              "    </tr>\n",
              "  </thead>\n",
              "  <tbody>\n",
              "    <tr>\n",
              "      <th>0</th>\n",
              "      <td>640</td>\n",
              "      <td>Spain</td>\n",
              "      <td>Male</td>\n",
              "      <td>43</td>\n",
              "      <td>9</td>\n",
              "      <td>172478.15</td>\n",
              "      <td>1</td>\n",
              "      <td>1</td>\n",
              "      <td>0</td>\n",
              "      <td>191084.40</td>\n",
              "      <td>0.902628</td>\n",
              "      <td>1</td>\n",
              "      <td>14.883721</td>\n",
              "      <td>1.172712</td>\n",
              "      <td>0</td>\n",
              "      <td>0</td>\n",
              "      <td>0</td>\n",
              "      <td>0</td>\n",
              "      <td>0.209302</td>\n",
              "      <td>0</td>\n",
              "    </tr>\n",
              "    <tr>\n",
              "      <th>1</th>\n",
              "      <td>850</td>\n",
              "      <td>France</td>\n",
              "      <td>Female</td>\n",
              "      <td>24</td>\n",
              "      <td>6</td>\n",
              "      <td>0.00</td>\n",
              "      <td>2</td>\n",
              "      <td>1</td>\n",
              "      <td>1</td>\n",
              "      <td>13159.90</td>\n",
              "      <td>0.000000</td>\n",
              "      <td>0</td>\n",
              "      <td>35.416667</td>\n",
              "      <td>1.549208</td>\n",
              "      <td>1</td>\n",
              "      <td>1</td>\n",
              "      <td>1</td>\n",
              "      <td>1</td>\n",
              "      <td>0.250000</td>\n",
              "      <td>0</td>\n",
              "    </tr>\n",
              "    <tr>\n",
              "      <th>2</th>\n",
              "      <td>494</td>\n",
              "      <td>Germany</td>\n",
              "      <td>Female</td>\n",
              "      <td>38</td>\n",
              "      <td>7</td>\n",
              "      <td>174937.64</td>\n",
              "      <td>1</td>\n",
              "      <td>1</td>\n",
              "      <td>0</td>\n",
              "      <td>40084.32</td>\n",
              "      <td>4.364241</td>\n",
              "      <td>1</td>\n",
              "      <td>13.000000</td>\n",
              "      <td>1.113943</td>\n",
              "      <td>0</td>\n",
              "      <td>0</td>\n",
              "      <td>0</td>\n",
              "      <td>0</td>\n",
              "      <td>0.184211</td>\n",
              "      <td>0</td>\n",
              "    </tr>\n",
              "  </tbody>\n",
              "</table>\n",
              "</div>\n",
              "      <button class=\"colab-df-convert\" onclick=\"convertToInteractive('df-bebc778f-e3f7-40c4-b3c6-b087d647dec6')\"\n",
              "              title=\"Convert this dataframe to an interactive table.\"\n",
              "              style=\"display:none;\">\n",
              "        \n",
              "  <svg xmlns=\"http://www.w3.org/2000/svg\" height=\"24px\"viewBox=\"0 0 24 24\"\n",
              "       width=\"24px\">\n",
              "    <path d=\"M0 0h24v24H0V0z\" fill=\"none\"/>\n",
              "    <path d=\"M18.56 5.44l.94 2.06.94-2.06 2.06-.94-2.06-.94-.94-2.06-.94 2.06-2.06.94zm-11 1L8.5 8.5l.94-2.06 2.06-.94-2.06-.94L8.5 2.5l-.94 2.06-2.06.94zm10 10l.94 2.06.94-2.06 2.06-.94-2.06-.94-.94-2.06-.94 2.06-2.06.94z\"/><path d=\"M17.41 7.96l-1.37-1.37c-.4-.4-.92-.59-1.43-.59-.52 0-1.04.2-1.43.59L10.3 9.45l-7.72 7.72c-.78.78-.78 2.05 0 2.83L4 21.41c.39.39.9.59 1.41.59.51 0 1.02-.2 1.41-.59l7.78-7.78 2.81-2.81c.8-.78.8-2.07 0-2.86zM5.41 20L4 18.59l7.72-7.72 1.47 1.35L5.41 20z\"/>\n",
              "  </svg>\n",
              "      </button>\n",
              "      \n",
              "  <style>\n",
              "    .colab-df-container {\n",
              "      display:flex;\n",
              "      flex-wrap:wrap;\n",
              "      gap: 12px;\n",
              "    }\n",
              "\n",
              "    .colab-df-convert {\n",
              "      background-color: #E8F0FE;\n",
              "      border: none;\n",
              "      border-radius: 50%;\n",
              "      cursor: pointer;\n",
              "      display: none;\n",
              "      fill: #1967D2;\n",
              "      height: 32px;\n",
              "      padding: 0 0 0 0;\n",
              "      width: 32px;\n",
              "    }\n",
              "\n",
              "    .colab-df-convert:hover {\n",
              "      background-color: #E2EBFA;\n",
              "      box-shadow: 0px 1px 2px rgba(60, 64, 67, 0.3), 0px 1px 3px 1px rgba(60, 64, 67, 0.15);\n",
              "      fill: #174EA6;\n",
              "    }\n",
              "\n",
              "    [theme=dark] .colab-df-convert {\n",
              "      background-color: #3B4455;\n",
              "      fill: #D2E3FC;\n",
              "    }\n",
              "\n",
              "    [theme=dark] .colab-df-convert:hover {\n",
              "      background-color: #434B5C;\n",
              "      box-shadow: 0px 1px 3px 1px rgba(0, 0, 0, 0.15);\n",
              "      filter: drop-shadow(0px 1px 2px rgba(0, 0, 0, 0.3));\n",
              "      fill: #FFFFFF;\n",
              "    }\n",
              "  </style>\n",
              "\n",
              "      <script>\n",
              "        const buttonEl =\n",
              "          document.querySelector('#df-bebc778f-e3f7-40c4-b3c6-b087d647dec6 button.colab-df-convert');\n",
              "        buttonEl.style.display =\n",
              "          google.colab.kernel.accessAllowed ? 'block' : 'none';\n",
              "\n",
              "        async function convertToInteractive(key) {\n",
              "          const element = document.querySelector('#df-bebc778f-e3f7-40c4-b3c6-b087d647dec6');\n",
              "          const dataTable =\n",
              "            await google.colab.kernel.invokeFunction('convertToInteractive',\n",
              "                                                     [key], {});\n",
              "          if (!dataTable) return;\n",
              "\n",
              "          const docLinkHtml = 'Like what you see? Visit the ' +\n",
              "            '<a target=\"_blank\" href=https://colab.research.google.com/notebooks/data_table.ipynb>data table notebook</a>'\n",
              "            + ' to learn more about interactive tables.';\n",
              "          element.innerHTML = '';\n",
              "          dataTable['output_type'] = 'display_data';\n",
              "          await google.colab.output.renderOutput(dataTable, element);\n",
              "          const docLink = document.createElement('div');\n",
              "          docLink.innerHTML = docLinkHtml;\n",
              "          element.appendChild(docLink);\n",
              "        }\n",
              "      </script>\n",
              "    </div>\n",
              "  </div>\n",
              "  "
            ]
          },
          "metadata": {},
          "execution_count": 21
        }
      ],
      "source": [
        "# Balance and Salary Ratio\n",
        "X_train['balance_salary_ratio'] = X_train['Balance'] / X_train['EstimatedSalary']\n",
        "X_cv['balance_salary_ratio'] = X_cv['Balance'] / X_cv['EstimatedSalary']\n",
        "X_test['balance_salary_ratio'] = X_test['Balance'] / X_test['EstimatedSalary']\n",
        "\n",
        "# Does he have balance or not\n",
        "X_train['balance_or_not'] = [0 if i == 0.0 else 1 for i in X_train['Balance']]\n",
        "X_cv['balance_or_not'] = [0 if i == 0.0 else 1 for i in X_cv['Balance']]\n",
        "X_test['balance_or_not'] = [0 if i == 0.0 else 1 for i in X_test['Balance']]\n",
        "\n",
        "# CreditScore and Age -- if a young man has a high credit score?\n",
        "X_train['creditscore_age_ratio'] = X_train['CreditScore'] / X_train['Age']\n",
        "X_cv['creditscore_age_ratio'] = X_cv['CreditScore'] / X_cv['Age']\n",
        "X_test['creditscore_age_ratio'] = X_test['CreditScore'] / X_test['Age']\n",
        "\n",
        "# log feature?\n",
        "X_train['creditscore_age_ratio_log'] = np.log10(X_train['creditscore_age_ratio'])\n",
        "X_cv['creditscore_age_ratio_log'] = np.log10(X_cv['creditscore_age_ratio'])\n",
        "X_test['creditscore_age_ratio_log'] = np.log10(X_test['creditscore_age_ratio'])\n",
        "\n",
        "# Given his/her age does he/she have a better credit score\n",
        "mean_age = np.mean(X_train['Age']) # use mean of train data for cv and test set\n",
        "mean_credit = np.mean(X_train['CreditScore']) # use mean of train data for cv and test set\n",
        "\n",
        "X_train['Better_Age_Credit'] = [1 if ((i < mean_age) and (j > mean_credit)) else 0 for i,j in zip(X_train['Age'],X_train['CreditScore'])]\n",
        "X_cv['Better_Age_Credit'] = [1 if ((i < mean_age) and (j > mean_credit)) else 0 for i,j in zip(X_cv['Age'],X_cv['CreditScore'])]\n",
        "X_test['Better_Age_Credit'] = [1 if ((i < mean_age) and (j > mean_credit)) else 0 for i,j in zip(X_test['Age'],X_test['CreditScore'])]\n",
        "\n",
        "\n",
        "# does the customer hold a better age to credit ratio and an active customer\n",
        "X_train['Better_Age_Credit_Active'] = [1 if ((i == 1) and (j == 1)) else 0 for i,j in zip(X_train['Better_Age_Credit'],X_train['IsActiveMember'])]\n",
        "X_cv['Better_Age_Credit_Active'] = [1 if ((i == 1) and (j == 1)) else 0 for i,j in zip(X_cv['Better_Age_Credit'],X_cv['IsActiveMember'])]\n",
        "X_test['Better_Age_Credit_Active'] = [1 if ((i == 1) and (j == 1)) else 0 for i,j in zip(X_test['Better_Age_Credit'],X_test['IsActiveMember'])]\n",
        "\n",
        "\n",
        "# does he have multiple products\n",
        "X_train['multi_products'] = [1 if i > 1 else 0 for i in X_train['NumOfProducts']]\n",
        "X_cv['multi_products'] = [1 if i > 1 else 0 for i in X_cv['NumOfProducts']]\n",
        "X_test['multi_products'] = [1 if i > 1 else 0 for i in X_test['NumOfProducts']]\n",
        "\n",
        "# valuable customer? Better_Age_Credit and having more than 1 product?\n",
        "mode_products = X_train['NumOfProducts'].mode()[0] # mode of train set \n",
        "\n",
        "X_train['Valuable_customer'] = [1 if ((i == 1) and (j > mode_products)) else 0  for i,j in zip(X_train['Better_Age_Credit_Active'],X_train['NumOfProducts'])]\n",
        "X_cv['Valuable_customer'] = [1 if ((i == 1) and (j > mode_products)) else 0  for i,j in zip(X_cv['Better_Age_Credit_Active'],X_cv['NumOfProducts'])]\n",
        "X_test['Valuable_customer'] = [1 if ((i == 1) and (j > mode_products)) else 0  for i,j in zip(X_test['Better_Age_Credit_Active'],X_test['NumOfProducts'])]\n",
        "\n",
        "# Tenure and Age -- is he there from his/her young age?\n",
        "X_train['tenure_age_ratio'] = X_train['Tenure'] / X_train['Age']\n",
        "X_cv['tenure_age_ratio'] = X_cv['Tenure'] / X_cv['Age']\n",
        "X_test['tenure_age_ratio'] = X_test['Tenure'] / X_test['Age']\n",
        "\n",
        "# higher salary compared to his/her age?\n",
        "mean_salary = np.mean(X_train['EstimatedSalary']) # mean sestimated alary of train set\n",
        "X_train['high_salary_age'] = [1 if (i > mean_salary and j < mean_age) else 0 for i,j in zip(X_train['EstimatedSalary'],X_train['Age'])]\n",
        "X_cv['high_salary_age'] = [1 if (i > mean_salary and j < mean_age) else 0 for i,j in zip(X_cv['EstimatedSalary'],X_cv['Age'])]\n",
        "X_test['high_salary_age'] = [1 if (i > mean_salary and j < mean_age) else 0 for i,j in zip(X_test['EstimatedSalary'],X_test['Age'])]\n",
        "\n",
        "print(\"New features created!\")\n",
        "X_train.head(3)\n"
      ]
    },
    {
      "cell_type": "markdown",
      "metadata": {
        "id": "NYXYjGXYQHFB"
      },
      "source": [
        "We have created some features, but we don't know how useful it will be. We will check their influence at the time of creating Models.\n",
        "\n",
        "Also note that ratio features like balance_salary_ratio, creditscore_age_ratio, etc may create multi-collinearity.\n",
        "\n",
        "Tips: It has been stated that multi-collinearity is not an issue when using sckit-learn models. Source: https://www.linkedin.com/posts/justmarkham_sklearntips-machinelearning-python-activity-6651812212270788609-lhE1/"
      ]
    },
    {
      "cell_type": "markdown",
      "metadata": {
        "id": "HTCINMtVQHFB"
      },
      "source": [
        "# Data Preprocessing\n",
        "\n",
        "Preparing data for Model building.! Encoding categorical data and normalizing numerical data."
      ]
    },
    {
      "cell_type": "markdown",
      "metadata": {
        "id": "FTj4-0mmQHFB"
      },
      "source": [
        "### Encoding Categorical data: Gender and Geography"
      ]
    },
    {
      "cell_type": "code",
      "execution_count": 22,
      "metadata": {
        "id": "0qm_PpxnQHFB"
      },
      "outputs": [],
      "source": [
        "# Encoding Gender\n",
        "X_train['Gender'] = X_train['Gender'].apply(lambda x: 1 if x == 'Male' else 0)\n",
        "X_cv['Gender'] = X_cv['Gender'].apply(lambda x: 1 if x == 'Male' else 0)\n",
        "X_test['Gender'] = X_test['Gender'].apply(lambda x: 1 if x == 'Male' else 0)"
      ]
    },
    {
      "cell_type": "code",
      "execution_count": 23,
      "metadata": {
        "id": "lRkSe7-VQHFB",
        "outputId": "794d2859-f47b-4050-9366-e8e879d18300",
        "colab": {
          "base_uri": "https://localhost:8080/",
          "height": 300
        }
      },
      "outputs": [
        {
          "output_type": "execute_result",
          "data": {
            "text/plain": [
              "   CreditScore  Gender  Age  Tenure    Balance  NumOfProducts  HasCrCard  \\\n",
              "0          640       1   43       9  172478.15              1          1   \n",
              "1          850       0   24       6       0.00              2          1   \n",
              "2          494       0   38       7  174937.64              1          1   \n",
              "3          742       1   33       6       0.00              2          0   \n",
              "4          670       1   25       7       0.00              2          1   \n",
              "\n",
              "   IsActiveMember  EstimatedSalary  balance_salary_ratio  ...  \\\n",
              "0               0        191084.40              0.902628  ...   \n",
              "1               1         13159.90              0.000000  ...   \n",
              "2               0         40084.32              4.364241  ...   \n",
              "3               0         38550.40              0.000000  ...   \n",
              "4               1        144723.38              0.000000  ...   \n",
              "\n",
              "   creditscore_age_ratio_log  Better_Age_Credit  Better_Age_Credit_Active  \\\n",
              "0                   1.172712                  0                         0   \n",
              "1                   1.549208                  1                         1   \n",
              "2                   1.113943                  0                         0   \n",
              "3                   1.351890                  1                         0   \n",
              "4                   1.428135                  1                         1   \n",
              "\n",
              "   multi_products  Valuable_customer  tenure_age_ratio  high_salary_age  \\\n",
              "0               0                  0          0.209302                0   \n",
              "1               1                  1          0.250000                0   \n",
              "2               0                  0          0.184211                0   \n",
              "3               1                  0          0.181818                0   \n",
              "4               1                  1          0.280000                1   \n",
              "\n",
              "   France  Germany  Spain  \n",
              "0     0.0      0.0    1.0  \n",
              "1     1.0      0.0    0.0  \n",
              "2     0.0      1.0    0.0  \n",
              "3     1.0      0.0    0.0  \n",
              "4     1.0      0.0    0.0  \n",
              "\n",
              "[5 rows x 22 columns]"
            ],
            "text/html": [
              "\n",
              "  <div id=\"df-b6bf8c26-4121-45bf-9124-bc6ba4d223ad\">\n",
              "    <div class=\"colab-df-container\">\n",
              "      <div>\n",
              "<style scoped>\n",
              "    .dataframe tbody tr th:only-of-type {\n",
              "        vertical-align: middle;\n",
              "    }\n",
              "\n",
              "    .dataframe tbody tr th {\n",
              "        vertical-align: top;\n",
              "    }\n",
              "\n",
              "    .dataframe thead th {\n",
              "        text-align: right;\n",
              "    }\n",
              "</style>\n",
              "<table border=\"1\" class=\"dataframe\">\n",
              "  <thead>\n",
              "    <tr style=\"text-align: right;\">\n",
              "      <th></th>\n",
              "      <th>CreditScore</th>\n",
              "      <th>Gender</th>\n",
              "      <th>Age</th>\n",
              "      <th>Tenure</th>\n",
              "      <th>Balance</th>\n",
              "      <th>NumOfProducts</th>\n",
              "      <th>HasCrCard</th>\n",
              "      <th>IsActiveMember</th>\n",
              "      <th>EstimatedSalary</th>\n",
              "      <th>balance_salary_ratio</th>\n",
              "      <th>...</th>\n",
              "      <th>creditscore_age_ratio_log</th>\n",
              "      <th>Better_Age_Credit</th>\n",
              "      <th>Better_Age_Credit_Active</th>\n",
              "      <th>multi_products</th>\n",
              "      <th>Valuable_customer</th>\n",
              "      <th>tenure_age_ratio</th>\n",
              "      <th>high_salary_age</th>\n",
              "      <th>France</th>\n",
              "      <th>Germany</th>\n",
              "      <th>Spain</th>\n",
              "    </tr>\n",
              "  </thead>\n",
              "  <tbody>\n",
              "    <tr>\n",
              "      <th>0</th>\n",
              "      <td>640</td>\n",
              "      <td>1</td>\n",
              "      <td>43</td>\n",
              "      <td>9</td>\n",
              "      <td>172478.15</td>\n",
              "      <td>1</td>\n",
              "      <td>1</td>\n",
              "      <td>0</td>\n",
              "      <td>191084.40</td>\n",
              "      <td>0.902628</td>\n",
              "      <td>...</td>\n",
              "      <td>1.172712</td>\n",
              "      <td>0</td>\n",
              "      <td>0</td>\n",
              "      <td>0</td>\n",
              "      <td>0</td>\n",
              "      <td>0.209302</td>\n",
              "      <td>0</td>\n",
              "      <td>0.0</td>\n",
              "      <td>0.0</td>\n",
              "      <td>1.0</td>\n",
              "    </tr>\n",
              "    <tr>\n",
              "      <th>1</th>\n",
              "      <td>850</td>\n",
              "      <td>0</td>\n",
              "      <td>24</td>\n",
              "      <td>6</td>\n",
              "      <td>0.00</td>\n",
              "      <td>2</td>\n",
              "      <td>1</td>\n",
              "      <td>1</td>\n",
              "      <td>13159.90</td>\n",
              "      <td>0.000000</td>\n",
              "      <td>...</td>\n",
              "      <td>1.549208</td>\n",
              "      <td>1</td>\n",
              "      <td>1</td>\n",
              "      <td>1</td>\n",
              "      <td>1</td>\n",
              "      <td>0.250000</td>\n",
              "      <td>0</td>\n",
              "      <td>1.0</td>\n",
              "      <td>0.0</td>\n",
              "      <td>0.0</td>\n",
              "    </tr>\n",
              "    <tr>\n",
              "      <th>2</th>\n",
              "      <td>494</td>\n",
              "      <td>0</td>\n",
              "      <td>38</td>\n",
              "      <td>7</td>\n",
              "      <td>174937.64</td>\n",
              "      <td>1</td>\n",
              "      <td>1</td>\n",
              "      <td>0</td>\n",
              "      <td>40084.32</td>\n",
              "      <td>4.364241</td>\n",
              "      <td>...</td>\n",
              "      <td>1.113943</td>\n",
              "      <td>0</td>\n",
              "      <td>0</td>\n",
              "      <td>0</td>\n",
              "      <td>0</td>\n",
              "      <td>0.184211</td>\n",
              "      <td>0</td>\n",
              "      <td>0.0</td>\n",
              "      <td>1.0</td>\n",
              "      <td>0.0</td>\n",
              "    </tr>\n",
              "    <tr>\n",
              "      <th>3</th>\n",
              "      <td>742</td>\n",
              "      <td>1</td>\n",
              "      <td>33</td>\n",
              "      <td>6</td>\n",
              "      <td>0.00</td>\n",
              "      <td>2</td>\n",
              "      <td>0</td>\n",
              "      <td>0</td>\n",
              "      <td>38550.40</td>\n",
              "      <td>0.000000</td>\n",
              "      <td>...</td>\n",
              "      <td>1.351890</td>\n",
              "      <td>1</td>\n",
              "      <td>0</td>\n",
              "      <td>1</td>\n",
              "      <td>0</td>\n",
              "      <td>0.181818</td>\n",
              "      <td>0</td>\n",
              "      <td>1.0</td>\n",
              "      <td>0.0</td>\n",
              "      <td>0.0</td>\n",
              "    </tr>\n",
              "    <tr>\n",
              "      <th>4</th>\n",
              "      <td>670</td>\n",
              "      <td>1</td>\n",
              "      <td>25</td>\n",
              "      <td>7</td>\n",
              "      <td>0.00</td>\n",
              "      <td>2</td>\n",
              "      <td>1</td>\n",
              "      <td>1</td>\n",
              "      <td>144723.38</td>\n",
              "      <td>0.000000</td>\n",
              "      <td>...</td>\n",
              "      <td>1.428135</td>\n",
              "      <td>1</td>\n",
              "      <td>1</td>\n",
              "      <td>1</td>\n",
              "      <td>1</td>\n",
              "      <td>0.280000</td>\n",
              "      <td>1</td>\n",
              "      <td>1.0</td>\n",
              "      <td>0.0</td>\n",
              "      <td>0.0</td>\n",
              "    </tr>\n",
              "  </tbody>\n",
              "</table>\n",
              "<p>5 rows × 22 columns</p>\n",
              "</div>\n",
              "      <button class=\"colab-df-convert\" onclick=\"convertToInteractive('df-b6bf8c26-4121-45bf-9124-bc6ba4d223ad')\"\n",
              "              title=\"Convert this dataframe to an interactive table.\"\n",
              "              style=\"display:none;\">\n",
              "        \n",
              "  <svg xmlns=\"http://www.w3.org/2000/svg\" height=\"24px\"viewBox=\"0 0 24 24\"\n",
              "       width=\"24px\">\n",
              "    <path d=\"M0 0h24v24H0V0z\" fill=\"none\"/>\n",
              "    <path d=\"M18.56 5.44l.94 2.06.94-2.06 2.06-.94-2.06-.94-.94-2.06-.94 2.06-2.06.94zm-11 1L8.5 8.5l.94-2.06 2.06-.94-2.06-.94L8.5 2.5l-.94 2.06-2.06.94zm10 10l.94 2.06.94-2.06 2.06-.94-2.06-.94-.94-2.06-.94 2.06-2.06.94z\"/><path d=\"M17.41 7.96l-1.37-1.37c-.4-.4-.92-.59-1.43-.59-.52 0-1.04.2-1.43.59L10.3 9.45l-7.72 7.72c-.78.78-.78 2.05 0 2.83L4 21.41c.39.39.9.59 1.41.59.51 0 1.02-.2 1.41-.59l7.78-7.78 2.81-2.81c.8-.78.8-2.07 0-2.86zM5.41 20L4 18.59l7.72-7.72 1.47 1.35L5.41 20z\"/>\n",
              "  </svg>\n",
              "      </button>\n",
              "      \n",
              "  <style>\n",
              "    .colab-df-container {\n",
              "      display:flex;\n",
              "      flex-wrap:wrap;\n",
              "      gap: 12px;\n",
              "    }\n",
              "\n",
              "    .colab-df-convert {\n",
              "      background-color: #E8F0FE;\n",
              "      border: none;\n",
              "      border-radius: 50%;\n",
              "      cursor: pointer;\n",
              "      display: none;\n",
              "      fill: #1967D2;\n",
              "      height: 32px;\n",
              "      padding: 0 0 0 0;\n",
              "      width: 32px;\n",
              "    }\n",
              "\n",
              "    .colab-df-convert:hover {\n",
              "      background-color: #E2EBFA;\n",
              "      box-shadow: 0px 1px 2px rgba(60, 64, 67, 0.3), 0px 1px 3px 1px rgba(60, 64, 67, 0.15);\n",
              "      fill: #174EA6;\n",
              "    }\n",
              "\n",
              "    [theme=dark] .colab-df-convert {\n",
              "      background-color: #3B4455;\n",
              "      fill: #D2E3FC;\n",
              "    }\n",
              "\n",
              "    [theme=dark] .colab-df-convert:hover {\n",
              "      background-color: #434B5C;\n",
              "      box-shadow: 0px 1px 3px 1px rgba(0, 0, 0, 0.15);\n",
              "      filter: drop-shadow(0px 1px 2px rgba(0, 0, 0, 0.3));\n",
              "      fill: #FFFFFF;\n",
              "    }\n",
              "  </style>\n",
              "\n",
              "      <script>\n",
              "        const buttonEl =\n",
              "          document.querySelector('#df-b6bf8c26-4121-45bf-9124-bc6ba4d223ad button.colab-df-convert');\n",
              "        buttonEl.style.display =\n",
              "          google.colab.kernel.accessAllowed ? 'block' : 'none';\n",
              "\n",
              "        async function convertToInteractive(key) {\n",
              "          const element = document.querySelector('#df-b6bf8c26-4121-45bf-9124-bc6ba4d223ad');\n",
              "          const dataTable =\n",
              "            await google.colab.kernel.invokeFunction('convertToInteractive',\n",
              "                                                     [key], {});\n",
              "          if (!dataTable) return;\n",
              "\n",
              "          const docLinkHtml = 'Like what you see? Visit the ' +\n",
              "            '<a target=\"_blank\" href=https://colab.research.google.com/notebooks/data_table.ipynb>data table notebook</a>'\n",
              "            + ' to learn more about interactive tables.';\n",
              "          element.innerHTML = '';\n",
              "          dataTable['output_type'] = 'display_data';\n",
              "          await google.colab.output.renderOutput(dataTable, element);\n",
              "          const docLink = document.createElement('div');\n",
              "          docLink.innerHTML = docLinkHtml;\n",
              "          element.appendChild(docLink);\n",
              "        }\n",
              "      </script>\n",
              "    </div>\n",
              "  </div>\n",
              "  "
            ]
          },
          "metadata": {},
          "execution_count": 23
        }
      ],
      "source": [
        "# One Hot Encoding - Geography\n",
        "from sklearn.preprocessing import OneHotEncoder\n",
        "\n",
        "# left-to-right column order is alphabetical (France, Germany, Spain)\n",
        "ohe = OneHotEncoder(sparse=False)\n",
        "X_train_geo_ohe = pd.DataFrame(ohe.fit_transform(X_train[['Geography']]),columns = ['France', 'Germany', 'Spain'])\n",
        "X_cv_geo_ohe = pd.DataFrame(ohe.transform(X_cv[['Geography']]),columns = ['France', 'Germany', 'Spain'])\n",
        "X_test_geo_ohe = pd.DataFrame(ohe.transform(X_test[['Geography']]),columns = ['France', 'Germany', 'Spain'])\n",
        "\n",
        "# drop the Geography column\n",
        "X_train.drop('Geography',axis=1,inplace = True)\n",
        "X_cv.drop('Geography',axis=1,inplace = True)\n",
        "X_test.drop('Geography',axis=1,inplace = True)\n",
        "\n",
        "# Concat the One Hot encoded columns\n",
        "X_train = pd.concat([X_train, X_train_geo_ohe],axis = 1)\n",
        "X_cv = pd.concat([X_cv, X_cv_geo_ohe],axis = 1)\n",
        "X_test = pd.concat([X_test, X_test_geo_ohe],axis = 1)\n",
        "\n",
        "X_train.head()"
      ]
    },
    {
      "cell_type": "markdown",
      "metadata": {
        "id": "J7D4zZc4QHFC"
      },
      "source": [
        "### Data Standardization\n",
        "\n",
        "Each feature is of different scales/units. Features like Salary and Balance have higher range of values compared to Age, Tenure. We need to standardise features before feeding them into our Models. "
      ]
    },
    {
      "cell_type": "code",
      "execution_count": null,
      "metadata": {
        "id": "YURWmhYoQHFC",
        "outputId": "512a38fa-ff48-4598-d831-11a5e7fceb76"
      },
      "outputs": [
        {
          "data": {
            "text/plain": [
              "Index(['CreditScore', 'Gender', 'Age', 'Tenure', 'Balance', 'NumOfProducts',\n",
              "       'HasCrCard', 'IsActiveMember', 'EstimatedSalary',\n",
              "       'balance_salary_ratio', 'balance_or_not', 'creditscore_age_ratio',\n",
              "       'creditscore_age_ratio_log', 'Better_Age_Credit',\n",
              "       'Better_Age_Credit_Active', 'multi_products', 'Valuable_customer',\n",
              "       'tenure_age_ratio', 'high_salary_age', 'France', 'Germany', 'Spain'],\n",
              "      dtype='object')"
            ]
          },
          "execution_count": 24,
          "metadata": {},
          "output_type": "execute_result"
        }
      ],
      "source": [
        "X_train.columns"
      ]
    },
    {
      "cell_type": "code",
      "execution_count": 24,
      "metadata": {
        "id": "QMZlJqpcQHFC",
        "outputId": "6f036584-3505-4f12-b774-ec57d6412020",
        "colab": {
          "base_uri": "https://localhost:8080/",
          "height": 317
        }
      },
      "outputs": [
        {
          "output_type": "stream",
          "name": "stdout",
          "text": [
            "Standardized!\n"
          ]
        },
        {
          "output_type": "execute_result",
          "data": {
            "text/plain": [
              "   CreditScore  Gender       Age    Tenure   Balance  NumOfProducts  \\\n",
              "0    -0.096527       1  0.391810  1.381609  1.564581      -0.916511   \n",
              "1     2.073553       0 -1.421268  0.340032 -1.214234       0.794595   \n",
              "2    -1.605248       0 -0.085316  0.687224  1.604206      -0.916511   \n",
              "3     0.957512       1 -0.562442  0.340032 -1.214234       0.794595   \n",
              "4     0.213485       1 -1.325843  0.687224 -1.214234       0.794595   \n",
              "\n",
              "   HasCrCard  IsActiveMember  EstimatedSalary  balance_salary_ratio  ...  \\\n",
              "0          1               0         1.582574             -0.102290  ...   \n",
              "1          1               1        -1.516191             -0.154434  ...   \n",
              "2          1               0        -1.047270              0.097683  ...   \n",
              "3          0               0        -1.073985             -0.154434  ...   \n",
              "4          1               1         0.775142             -0.154434  ...   \n",
              "\n",
              "   creditscore_age_ratio_log  Better_Age_Credit  Better_Age_Credit_Active  \\\n",
              "0                  -0.454739                  0                         0   \n",
              "1                   2.415625                  1                         1   \n",
              "2                  -0.902781                  0                         0   \n",
              "3                   0.911297                  1                         0   \n",
              "4                   1.492579                  1                         1   \n",
              "\n",
              "   multi_products  Valuable_customer  tenure_age_ratio  high_salary_age  \\\n",
              "0               0                  0          0.796859                0   \n",
              "1               1                  1          1.252449                0   \n",
              "2               0                  0          0.515969                0   \n",
              "3               1                  0          0.489188                0   \n",
              "4               1                  1          1.588283                1   \n",
              "\n",
              "   France  Germany  Spain  \n",
              "0     0.0      0.0    1.0  \n",
              "1     1.0      0.0    0.0  \n",
              "2     0.0      1.0    0.0  \n",
              "3     1.0      0.0    0.0  \n",
              "4     1.0      0.0    0.0  \n",
              "\n",
              "[5 rows x 22 columns]"
            ],
            "text/html": [
              "\n",
              "  <div id=\"df-09902bad-0646-4d09-9536-53fda77afbbe\">\n",
              "    <div class=\"colab-df-container\">\n",
              "      <div>\n",
              "<style scoped>\n",
              "    .dataframe tbody tr th:only-of-type {\n",
              "        vertical-align: middle;\n",
              "    }\n",
              "\n",
              "    .dataframe tbody tr th {\n",
              "        vertical-align: top;\n",
              "    }\n",
              "\n",
              "    .dataframe thead th {\n",
              "        text-align: right;\n",
              "    }\n",
              "</style>\n",
              "<table border=\"1\" class=\"dataframe\">\n",
              "  <thead>\n",
              "    <tr style=\"text-align: right;\">\n",
              "      <th></th>\n",
              "      <th>CreditScore</th>\n",
              "      <th>Gender</th>\n",
              "      <th>Age</th>\n",
              "      <th>Tenure</th>\n",
              "      <th>Balance</th>\n",
              "      <th>NumOfProducts</th>\n",
              "      <th>HasCrCard</th>\n",
              "      <th>IsActiveMember</th>\n",
              "      <th>EstimatedSalary</th>\n",
              "      <th>balance_salary_ratio</th>\n",
              "      <th>...</th>\n",
              "      <th>creditscore_age_ratio_log</th>\n",
              "      <th>Better_Age_Credit</th>\n",
              "      <th>Better_Age_Credit_Active</th>\n",
              "      <th>multi_products</th>\n",
              "      <th>Valuable_customer</th>\n",
              "      <th>tenure_age_ratio</th>\n",
              "      <th>high_salary_age</th>\n",
              "      <th>France</th>\n",
              "      <th>Germany</th>\n",
              "      <th>Spain</th>\n",
              "    </tr>\n",
              "  </thead>\n",
              "  <tbody>\n",
              "    <tr>\n",
              "      <th>0</th>\n",
              "      <td>-0.096527</td>\n",
              "      <td>1</td>\n",
              "      <td>0.391810</td>\n",
              "      <td>1.381609</td>\n",
              "      <td>1.564581</td>\n",
              "      <td>-0.916511</td>\n",
              "      <td>1</td>\n",
              "      <td>0</td>\n",
              "      <td>1.582574</td>\n",
              "      <td>-0.102290</td>\n",
              "      <td>...</td>\n",
              "      <td>-0.454739</td>\n",
              "      <td>0</td>\n",
              "      <td>0</td>\n",
              "      <td>0</td>\n",
              "      <td>0</td>\n",
              "      <td>0.796859</td>\n",
              "      <td>0</td>\n",
              "      <td>0.0</td>\n",
              "      <td>0.0</td>\n",
              "      <td>1.0</td>\n",
              "    </tr>\n",
              "    <tr>\n",
              "      <th>1</th>\n",
              "      <td>2.073553</td>\n",
              "      <td>0</td>\n",
              "      <td>-1.421268</td>\n",
              "      <td>0.340032</td>\n",
              "      <td>-1.214234</td>\n",
              "      <td>0.794595</td>\n",
              "      <td>1</td>\n",
              "      <td>1</td>\n",
              "      <td>-1.516191</td>\n",
              "      <td>-0.154434</td>\n",
              "      <td>...</td>\n",
              "      <td>2.415625</td>\n",
              "      <td>1</td>\n",
              "      <td>1</td>\n",
              "      <td>1</td>\n",
              "      <td>1</td>\n",
              "      <td>1.252449</td>\n",
              "      <td>0</td>\n",
              "      <td>1.0</td>\n",
              "      <td>0.0</td>\n",
              "      <td>0.0</td>\n",
              "    </tr>\n",
              "    <tr>\n",
              "      <th>2</th>\n",
              "      <td>-1.605248</td>\n",
              "      <td>0</td>\n",
              "      <td>-0.085316</td>\n",
              "      <td>0.687224</td>\n",
              "      <td>1.604206</td>\n",
              "      <td>-0.916511</td>\n",
              "      <td>1</td>\n",
              "      <td>0</td>\n",
              "      <td>-1.047270</td>\n",
              "      <td>0.097683</td>\n",
              "      <td>...</td>\n",
              "      <td>-0.902781</td>\n",
              "      <td>0</td>\n",
              "      <td>0</td>\n",
              "      <td>0</td>\n",
              "      <td>0</td>\n",
              "      <td>0.515969</td>\n",
              "      <td>0</td>\n",
              "      <td>0.0</td>\n",
              "      <td>1.0</td>\n",
              "      <td>0.0</td>\n",
              "    </tr>\n",
              "    <tr>\n",
              "      <th>3</th>\n",
              "      <td>0.957512</td>\n",
              "      <td>1</td>\n",
              "      <td>-0.562442</td>\n",
              "      <td>0.340032</td>\n",
              "      <td>-1.214234</td>\n",
              "      <td>0.794595</td>\n",
              "      <td>0</td>\n",
              "      <td>0</td>\n",
              "      <td>-1.073985</td>\n",
              "      <td>-0.154434</td>\n",
              "      <td>...</td>\n",
              "      <td>0.911297</td>\n",
              "      <td>1</td>\n",
              "      <td>0</td>\n",
              "      <td>1</td>\n",
              "      <td>0</td>\n",
              "      <td>0.489188</td>\n",
              "      <td>0</td>\n",
              "      <td>1.0</td>\n",
              "      <td>0.0</td>\n",
              "      <td>0.0</td>\n",
              "    </tr>\n",
              "    <tr>\n",
              "      <th>4</th>\n",
              "      <td>0.213485</td>\n",
              "      <td>1</td>\n",
              "      <td>-1.325843</td>\n",
              "      <td>0.687224</td>\n",
              "      <td>-1.214234</td>\n",
              "      <td>0.794595</td>\n",
              "      <td>1</td>\n",
              "      <td>1</td>\n",
              "      <td>0.775142</td>\n",
              "      <td>-0.154434</td>\n",
              "      <td>...</td>\n",
              "      <td>1.492579</td>\n",
              "      <td>1</td>\n",
              "      <td>1</td>\n",
              "      <td>1</td>\n",
              "      <td>1</td>\n",
              "      <td>1.588283</td>\n",
              "      <td>1</td>\n",
              "      <td>1.0</td>\n",
              "      <td>0.0</td>\n",
              "      <td>0.0</td>\n",
              "    </tr>\n",
              "  </tbody>\n",
              "</table>\n",
              "<p>5 rows × 22 columns</p>\n",
              "</div>\n",
              "      <button class=\"colab-df-convert\" onclick=\"convertToInteractive('df-09902bad-0646-4d09-9536-53fda77afbbe')\"\n",
              "              title=\"Convert this dataframe to an interactive table.\"\n",
              "              style=\"display:none;\">\n",
              "        \n",
              "  <svg xmlns=\"http://www.w3.org/2000/svg\" height=\"24px\"viewBox=\"0 0 24 24\"\n",
              "       width=\"24px\">\n",
              "    <path d=\"M0 0h24v24H0V0z\" fill=\"none\"/>\n",
              "    <path d=\"M18.56 5.44l.94 2.06.94-2.06 2.06-.94-2.06-.94-.94-2.06-.94 2.06-2.06.94zm-11 1L8.5 8.5l.94-2.06 2.06-.94-2.06-.94L8.5 2.5l-.94 2.06-2.06.94zm10 10l.94 2.06.94-2.06 2.06-.94-2.06-.94-.94-2.06-.94 2.06-2.06.94z\"/><path d=\"M17.41 7.96l-1.37-1.37c-.4-.4-.92-.59-1.43-.59-.52 0-1.04.2-1.43.59L10.3 9.45l-7.72 7.72c-.78.78-.78 2.05 0 2.83L4 21.41c.39.39.9.59 1.41.59.51 0 1.02-.2 1.41-.59l7.78-7.78 2.81-2.81c.8-.78.8-2.07 0-2.86zM5.41 20L4 18.59l7.72-7.72 1.47 1.35L5.41 20z\"/>\n",
              "  </svg>\n",
              "      </button>\n",
              "      \n",
              "  <style>\n",
              "    .colab-df-container {\n",
              "      display:flex;\n",
              "      flex-wrap:wrap;\n",
              "      gap: 12px;\n",
              "    }\n",
              "\n",
              "    .colab-df-convert {\n",
              "      background-color: #E8F0FE;\n",
              "      border: none;\n",
              "      border-radius: 50%;\n",
              "      cursor: pointer;\n",
              "      display: none;\n",
              "      fill: #1967D2;\n",
              "      height: 32px;\n",
              "      padding: 0 0 0 0;\n",
              "      width: 32px;\n",
              "    }\n",
              "\n",
              "    .colab-df-convert:hover {\n",
              "      background-color: #E2EBFA;\n",
              "      box-shadow: 0px 1px 2px rgba(60, 64, 67, 0.3), 0px 1px 3px 1px rgba(60, 64, 67, 0.15);\n",
              "      fill: #174EA6;\n",
              "    }\n",
              "\n",
              "    [theme=dark] .colab-df-convert {\n",
              "      background-color: #3B4455;\n",
              "      fill: #D2E3FC;\n",
              "    }\n",
              "\n",
              "    [theme=dark] .colab-df-convert:hover {\n",
              "      background-color: #434B5C;\n",
              "      box-shadow: 0px 1px 3px 1px rgba(0, 0, 0, 0.15);\n",
              "      filter: drop-shadow(0px 1px 2px rgba(0, 0, 0, 0.3));\n",
              "      fill: #FFFFFF;\n",
              "    }\n",
              "  </style>\n",
              "\n",
              "      <script>\n",
              "        const buttonEl =\n",
              "          document.querySelector('#df-09902bad-0646-4d09-9536-53fda77afbbe button.colab-df-convert');\n",
              "        buttonEl.style.display =\n",
              "          google.colab.kernel.accessAllowed ? 'block' : 'none';\n",
              "\n",
              "        async function convertToInteractive(key) {\n",
              "          const element = document.querySelector('#df-09902bad-0646-4d09-9536-53fda77afbbe');\n",
              "          const dataTable =\n",
              "            await google.colab.kernel.invokeFunction('convertToInteractive',\n",
              "                                                     [key], {});\n",
              "          if (!dataTable) return;\n",
              "\n",
              "          const docLinkHtml = 'Like what you see? Visit the ' +\n",
              "            '<a target=\"_blank\" href=https://colab.research.google.com/notebooks/data_table.ipynb>data table notebook</a>'\n",
              "            + ' to learn more about interactive tables.';\n",
              "          element.innerHTML = '';\n",
              "          dataTable['output_type'] = 'display_data';\n",
              "          await google.colab.output.renderOutput(dataTable, element);\n",
              "          const docLink = document.createElement('div');\n",
              "          docLink.innerHTML = docLinkHtml;\n",
              "          element.appendChild(docLink);\n",
              "        }\n",
              "      </script>\n",
              "    </div>\n",
              "  </div>\n",
              "  "
            ]
          },
          "metadata": {},
          "execution_count": 24
        }
      ],
      "source": [
        "from sklearn.preprocessing import StandardScaler\n",
        "# features to standardise\n",
        "cols_norm = ['CreditScore','Age','Tenure','Balance','NumOfProducts','EstimatedSalary','balance_salary_ratio',\n",
        "            'creditscore_age_ratio','creditscore_age_ratio_log','tenure_age_ratio']\n",
        "\n",
        "sc = StandardScaler()\n",
        "sc.fit(X_train[cols_norm]) # fit has to happen only on train set\n",
        "\n",
        "X_train[cols_norm] = sc.transform(X_train[cols_norm])\n",
        "X_cv[cols_norm] = sc.transform(X_cv[cols_norm])\n",
        "X_test[cols_norm] = sc.transform(X_test[cols_norm])\n",
        "\n",
        "print(\"Standardized!\")\n",
        "X_train.head()"
      ]
    },
    {
      "cell_type": "markdown",
      "metadata": {
        "id": "uOnIEDBOQHFC"
      },
      "source": [
        "# Model \n",
        "\n",
        "We explore try and find the best possible algorithm for this problem."
      ]
    },
    {
      "cell_type": "markdown",
      "metadata": {
        "id": "CtLFgAJjQHFC"
      },
      "source": [
        "## Logistic Regression\n",
        "\n",
        "We will use sklearn's Logistic Regression with Hyperparameter Tuning"
      ]
    },
    {
      "cell_type": "code",
      "execution_count": 25,
      "metadata": {
        "id": "X5gR9rARQHFD"
      },
      "outputs": [],
      "source": [
        "import numpy as np \n",
        "def batch_predict(clf, data):\n",
        "    # roc_auc_score(y_true, y_score) the 2nd parameter should be probability estimates of the positive class\n",
        "    # not the predicted outputs\n",
        "\n",
        "    y_data_pred = []\n",
        "    tr_loop = data.shape[0] - data.shape[0]%1000\n",
        "    # consider you X_tr shape is 49041, then your tr_loop will be 49041 - 49041%1000 = 49000\n",
        "    # in this for loop we will iterate unti the last 1000 multiplier\n",
        "    for i in range(0, tr_loop, 1000):\n",
        "        y_data_pred.extend(clf.predict_proba(data[i:i+1000])[:,1]) # Predict proba - Predicts probability scores\n",
        "    # we will be predicting for the last data points\n",
        "    if data.shape[0]%1000 !=0:\n",
        "        y_data_pred.extend(clf.predict_proba(data[tr_loop:])[:,1])\n",
        "    \n",
        "    return y_data_pred"
      ]
    },
    {
      "cell_type": "code",
      "execution_count": 26,
      "metadata": {
        "id": "LFTsUh6tQHFD",
        "outputId": "46f32204-5379-483e-c7d6-25e6060a480f",
        "colab": {
          "base_uri": "https://localhost:8080/",
          "height": 317
        }
      },
      "outputs": [
        {
          "output_type": "stream",
          "name": "stderr",
          "text": [
            "100%|██████████| 8/8 [00:00<00:00, 11.75it/s]\n"
          ]
        },
        {
          "output_type": "display_data",
          "data": {
            "text/plain": [
              "<Figure size 432x288 with 1 Axes>"
            ],
            "image/png": "[encoded data removed]"
          },
          "metadata": {
            "needs_background": "light"
          }
        }
      ],
      "source": [
        "import matplotlib.pyplot as plt\n",
        "%matplotlib inline\n",
        "from sklearn.linear_model import LogisticRegression\n",
        "from sklearn.metrics import roc_auc_score\n",
        "from tqdm import tqdm\n",
        "\n",
        "\"\"\"\n",
        "y_true : array, shape = [n_samples] or [n_samples, n_classes]\n",
        "True binary labels or binary label indicators.\n",
        "\n",
        "y_score : array, shape = [n_samples] or [n_samples, n_classes]\n",
        "Target scores, can either be probability estimates of the positive class, confidence values, or non-thresholded measure of\n",
        "decisions (as returned by “decision_function” on some classifiers). \n",
        "For binary y_true, y_score is supposed to be the score of the class with greater label.\n",
        "\n",
        "\"\"\"\n",
        "\n",
        "train_auc = []\n",
        "cv_auc = []\n",
        "C_list = [0.0001, 0.001 ,0.01 ,0.1, 1, 10, 100, 1000] # list of various inverse of lambda values we want to compare.\n",
        "for i in tqdm(C_list): # for each values of C_list (i)\n",
        "    lr = LogisticRegression(C=i,class_weight='balanced', random_state=17, solver = 'liblinear') # initialize Logistic Model with C = i\n",
        "    lr.fit(X_train, y_train) # fit the lr model on the train data\n",
        "    y_train_pred = batch_predict(lr, X_train) # Predict on the train data    \n",
        "    y_cv_pred = batch_predict(lr, X_cv) # Predict on cross validation data\n",
        "    # roc_auc_score(y_true, y_score) the 2nd parameter should be probability estimates of the positive class\n",
        "    # not the predicted outputs        \n",
        "    train_auc.append(roc_auc_score(y_train,y_train_pred))\n",
        "    cv_auc.append(roc_auc_score(y_cv, y_cv_pred))\n",
        "\n",
        "plt.plot(C_list, train_auc, label='Train AUC')\n",
        "plt.plot(C_list, cv_auc, label='CV AUC')\n",
        "plt.xscale('log') # change the scale of x axis\n",
        "plt.autoscale(True)\n",
        "plt.scatter(C_list, train_auc, label='Train AUC points')\n",
        "plt.scatter(C_list, cv_auc, label='CV AUC points')\n",
        "plt.xscale('log')\n",
        "plt.legend()\n",
        "plt.xlabel(\"C: hyperparameter\")\n",
        "plt.ylabel(\"AUC\")\n",
        "plt.title(\"ERROR PLOTS\")\n",
        "plt.grid()\n",
        "plt.show()"
      ]
    },
    {
      "cell_type": "code",
      "execution_count": 27,
      "metadata": {
        "id": "XGEQ-NTWQHFK",
        "outputId": "51363748-7cb5-4324-c647-5784331381aa",
        "colab": {
          "base_uri": "https://localhost:8080/",
          "height": 313
        }
      },
      "outputs": [
        {
          "output_type": "display_data",
          "data": {
            "text/plain": [
              "<Figure size 432x288 with 1 Axes>"
            ],
            "image/png": "[encoded data removed]"
          },
          "metadata": {
            "needs_background": "light"
          }
        },
        {
          "output_type": "stream",
          "name": "stdout",
          "text": [
            "Logistic Regression - Test AUC:  0.836560751814989\n"
          ]
        }
      ],
      "source": [
        "# Best Parameter -- C\n",
        "best_c = 10\n",
        "\n",
        "# fit best logistic regression model with C = 10\n",
        "best_lr = LogisticRegression(C=best_c,class_weight='balanced', random_state=17, solver = 'liblinear')\n",
        "\n",
        "best_lr.fit(X_train,y_train)\n",
        "\n",
        "from sklearn.metrics import roc_curve, auc\n",
        "\n",
        "\n",
        "y_train_pred = batch_predict(best_lr, X_train)    \n",
        "y_test_pred = batch_predict(best_lr, X_test)\n",
        "\n",
        "train_fpr, train_tpr, tr_thresholds = roc_curve(y_train, y_train_pred)\n",
        "test_fpr, test_tpr, te_thresholds = roc_curve(y_test, y_test_pred)\n",
        "\n",
        "train_auc_lr = auc(train_fpr, train_tpr)\n",
        "test_auc_lr = auc(test_fpr, test_tpr)\n",
        "\n",
        "plt.plot(train_fpr, train_tpr, label=\"train AUC =\"+str(train_auc_lr))\n",
        "plt.plot(test_fpr, test_tpr, label=\"test AUC =\"+str(test_auc_lr))\n",
        "plt.legend()\n",
        "plt.xlabel(\"False Positive Rate\")\n",
        "plt.ylabel(\"True Positive Rate\")\n",
        "plt.title(\"AUC\")\n",
        "plt.grid()\n",
        "plt.show()\n",
        "\n",
        "print(\"Logistic Regression - Test AUC: \",test_auc_lr)"
      ]
    },
    {
      "cell_type": "markdown",
      "metadata": {
        "id": "znO3ejy3QHFL"
      },
      "source": [
        "## Logistic Regression Feature importances\n",
        "\n",
        "    > In Logistic Regression when the absolute weights are large then w.T*x is also large. \n",
        "\n",
        "    > Weights of the feature indicate their importance. "
      ]
    },
    {
      "cell_type": "code",
      "execution_count": 28,
      "metadata": {
        "id": "Uj8ZIoAEQHFL",
        "outputId": "6d225456-a477-4446-aab0-94a5869f7334",
        "colab": {
          "base_uri": "https://localhost:8080/",
          "height": 739
        }
      },
      "outputs": [
        {
          "output_type": "execute_result",
          "data": {
            "text/plain": [
              "     Weights  Abs_Weights                   Features\n",
              "15 -5.567203     5.567203             multi_products\n",
              "12 -2.543283     2.543283  creditscore_age_ratio_log\n",
              "5   2.352321     2.352321              NumOfProducts\n",
              "20  1.474438     1.474438                    Germany\n",
              "7  -1.005711     1.005711             IsActiveMember\n",
              "0   0.949018     0.949018                CreditScore\n",
              "11  0.769292     0.769292      creditscore_age_ratio\n",
              "2  -0.733009     0.733009                        Age\n",
              "16  0.698971     0.698971          Valuable_customer\n",
              "1  -0.605772     0.605772                     Gender\n",
              "21  0.581897     0.581897                      Spain\n",
              "19  0.533780     0.533780                     France\n",
              "18 -0.498421     0.498421            high_salary_age\n",
              "13 -0.425378     0.425378          Better_Age_Credit\n",
              "17  0.339650     0.339650           tenure_age_ratio\n",
              "3  -0.323939     0.323939                     Tenure\n",
              "8   0.173293     0.173293            EstimatedSalary\n",
              "14 -0.154712     0.154712   Better_Age_Credit_Active\n",
              "10 -0.092624     0.092624             balance_or_not\n",
              "9   0.023764     0.023764       balance_salary_ratio\n",
              "4   0.010782     0.010782                    Balance\n",
              "6   0.002682     0.002682                  HasCrCard"
            ],
            "text/html": [
              "\n",
              "  <div id=\"df-33dd3fe7-3ed2-4507-86bb-651cbd821e14\">\n",
              "    <div class=\"colab-df-container\">\n",
              "      <div>\n",
              "<style scoped>\n",
              "    .dataframe tbody tr th:only-of-type {\n",
              "        vertical-align: middle;\n",
              "    }\n",
              "\n",
              "    .dataframe tbody tr th {\n",
              "        vertical-align: top;\n",
              "    }\n",
              "\n",
              "    .dataframe thead th {\n",
              "        text-align: right;\n",
              "    }\n",
              "</style>\n",
              "<table border=\"1\" class=\"dataframe\">\n",
              "  <thead>\n",
              "    <tr style=\"text-align: right;\">\n",
              "      <th></th>\n",
              "      <th>Weights</th>\n",
              "      <th>Abs_Weights</th>\n",
              "      <th>Features</th>\n",
              "    </tr>\n",
              "  </thead>\n",
              "  <tbody>\n",
              "    <tr>\n",
              "      <th>15</th>\n",
              "      <td>-5.567203</td>\n",
              "      <td>5.567203</td>\n",
              "      <td>multi_products</td>\n",
              "    </tr>\n",
              "    <tr>\n",
              "      <th>12</th>\n",
              "      <td>-2.543283</td>\n",
              "      <td>2.543283</td>\n",
              "      <td>creditscore_age_ratio_log</td>\n",
              "    </tr>\n",
              "    <tr>\n",
              "      <th>5</th>\n",
              "      <td>2.352321</td>\n",
              "      <td>2.352321</td>\n",
              "      <td>NumOfProducts</td>\n",
              "    </tr>\n",
              "    <tr>\n",
              "      <th>20</th>\n",
              "      <td>1.474438</td>\n",
              "      <td>1.474438</td>\n",
              "      <td>Germany</td>\n",
              "    </tr>\n",
              "    <tr>\n",
              "      <th>7</th>\n",
              "      <td>-1.005711</td>\n",
              "      <td>1.005711</td>\n",
              "      <td>IsActiveMember</td>\n",
              "    </tr>\n",
              "    <tr>\n",
              "      <th>0</th>\n",
              "      <td>0.949018</td>\n",
              "      <td>0.949018</td>\n",
              "      <td>CreditScore</td>\n",
              "    </tr>\n",
              "    <tr>\n",
              "      <th>11</th>\n",
              "      <td>0.769292</td>\n",
              "      <td>0.769292</td>\n",
              "      <td>creditscore_age_ratio</td>\n",
              "    </tr>\n",
              "    <tr>\n",
              "      <th>2</th>\n",
              "      <td>-0.733009</td>\n",
              "      <td>0.733009</td>\n",
              "      <td>Age</td>\n",
              "    </tr>\n",
              "    <tr>\n",
              "      <th>16</th>\n",
              "      <td>0.698971</td>\n",
              "      <td>0.698971</td>\n",
              "      <td>Valuable_customer</td>\n",
              "    </tr>\n",
              "    <tr>\n",
              "      <th>1</th>\n",
              "      <td>-0.605772</td>\n",
              "      <td>0.605772</td>\n",
              "      <td>Gender</td>\n",
              "    </tr>\n",
              "    <tr>\n",
              "      <th>21</th>\n",
              "      <td>0.581897</td>\n",
              "      <td>0.581897</td>\n",
              "      <td>Spain</td>\n",
              "    </tr>\n",
              "    <tr>\n",
              "      <th>19</th>\n",
              "      <td>0.533780</td>\n",
              "      <td>0.533780</td>\n",
              "      <td>France</td>\n",
              "    </tr>\n",
              "    <tr>\n",
              "      <th>18</th>\n",
              "      <td>-0.498421</td>\n",
              "      <td>0.498421</td>\n",
              "      <td>high_salary_age</td>\n",
              "    </tr>\n",
              "    <tr>\n",
              "      <th>13</th>\n",
              "      <td>-0.425378</td>\n",
              "      <td>0.425378</td>\n",
              "      <td>Better_Age_Credit</td>\n",
              "    </tr>\n",
              "    <tr>\n",
              "      <th>17</th>\n",
              "      <td>0.339650</td>\n",
              "      <td>0.339650</td>\n",
              "      <td>tenure_age_ratio</td>\n",
              "    </tr>\n",
              "    <tr>\n",
              "      <th>3</th>\n",
              "      <td>-0.323939</td>\n",
              "      <td>0.323939</td>\n",
              "      <td>Tenure</td>\n",
              "    </tr>\n",
              "    <tr>\n",
              "      <th>8</th>\n",
              "      <td>0.173293</td>\n",
              "      <td>0.173293</td>\n",
              "      <td>EstimatedSalary</td>\n",
              "    </tr>\n",
              "    <tr>\n",
              "      <th>14</th>\n",
              "      <td>-0.154712</td>\n",
              "      <td>0.154712</td>\n",
              "      <td>Better_Age_Credit_Active</td>\n",
              "    </tr>\n",
              "    <tr>\n",
              "      <th>10</th>\n",
              "      <td>-0.092624</td>\n",
              "      <td>0.092624</td>\n",
              "      <td>balance_or_not</td>\n",
              "    </tr>\n",
              "    <tr>\n",
              "      <th>9</th>\n",
              "      <td>0.023764</td>\n",
              "      <td>0.023764</td>\n",
              "      <td>balance_salary_ratio</td>\n",
              "    </tr>\n",
              "    <tr>\n",
              "      <th>4</th>\n",
              "      <td>0.010782</td>\n",
              "      <td>0.010782</td>\n",
              "      <td>Balance</td>\n",
              "    </tr>\n",
              "    <tr>\n",
              "      <th>6</th>\n",
              "      <td>0.002682</td>\n",
              "      <td>0.002682</td>\n",
              "      <td>HasCrCard</td>\n",
              "    </tr>\n",
              "  </tbody>\n",
              "</table>\n",
              "</div>\n",
              "      <button class=\"colab-df-convert\" onclick=\"convertToInteractive('df-33dd3fe7-3ed2-4507-86bb-651cbd821e14')\"\n",
              "              title=\"Convert this dataframe to an interactive table.\"\n",
              "              style=\"display:none;\">\n",
              "        \n",
              "  <svg xmlns=\"http://www.w3.org/2000/svg\" height=\"24px\"viewBox=\"0 0 24 24\"\n",
              "       width=\"24px\">\n",
              "    <path d=\"M0 0h24v24H0V0z\" fill=\"none\"/>\n",
              "    <path d=\"M18.56 5.44l.94 2.06.94-2.06 2.06-.94-2.06-.94-.94-2.06-.94 2.06-2.06.94zm-11 1L8.5 8.5l.94-2.06 2.06-.94-2.06-.94L8.5 2.5l-.94 2.06-2.06.94zm10 10l.94 2.06.94-2.06 2.06-.94-2.06-.94-.94-2.06-.94 2.06-2.06.94z\"/><path d=\"M17.41 7.96l-1.37-1.37c-.4-.4-.92-.59-1.43-.59-.52 0-1.04.2-1.43.59L10.3 9.45l-7.72 7.72c-.78.78-.78 2.05 0 2.83L4 21.41c.39.39.9.59 1.41.59.51 0 1.02-.2 1.41-.59l7.78-7.78 2.81-2.81c.8-.78.8-2.07 0-2.86zM5.41 20L4 18.59l7.72-7.72 1.47 1.35L5.41 20z\"/>\n",
              "  </svg>\n",
              "      </button>\n",
              "      \n",
              "  <style>\n",
              "    .colab-df-container {\n",
              "      display:flex;\n",
              "      flex-wrap:wrap;\n",
              "      gap: 12px;\n",
              "    }\n",
              "\n",
              "    .colab-df-convert {\n",
              "      background-color: #E8F0FE;\n",
              "      border: none;\n",
              "      border-radius: 50%;\n",
              "      cursor: pointer;\n",
              "      display: none;\n",
              "      fill: #1967D2;\n",
              "      height: 32px;\n",
              "      padding: 0 0 0 0;\n",
              "      width: 32px;\n",
              "    }\n",
              "\n",
              "    .colab-df-convert:hover {\n",
              "      background-color: #E2EBFA;\n",
              "      box-shadow: 0px 1px 2px rgba(60, 64, 67, 0.3), 0px 1px 3px 1px rgba(60, 64, 67, 0.15);\n",
              "      fill: #174EA6;\n",
              "    }\n",
              "\n",
              "    [theme=dark] .colab-df-convert {\n",
              "      background-color: #3B4455;\n",
              "      fill: #D2E3FC;\n",
              "    }\n",
              "\n",
              "    [theme=dark] .colab-df-convert:hover {\n",
              "      background-color: #434B5C;\n",
              "      box-shadow: 0px 1px 3px 1px rgba(0, 0, 0, 0.15);\n",
              "      filter: drop-shadow(0px 1px 2px rgba(0, 0, 0, 0.3));\n",
              "      fill: #FFFFFF;\n",
              "    }\n",
              "  </style>\n",
              "\n",
              "      <script>\n",
              "        const buttonEl =\n",
              "          document.querySelector('#df-33dd3fe7-3ed2-4507-86bb-651cbd821e14 button.colab-df-convert');\n",
              "        buttonEl.style.display =\n",
              "          google.colab.kernel.accessAllowed ? 'block' : 'none';\n",
              "\n",
              "        async function convertToInteractive(key) {\n",
              "          const element = document.querySelector('#df-33dd3fe7-3ed2-4507-86bb-651cbd821e14');\n",
              "          const dataTable =\n",
              "            await google.colab.kernel.invokeFunction('convertToInteractive',\n",
              "                                                     [key], {});\n",
              "          if (!dataTable) return;\n",
              "\n",
              "          const docLinkHtml = 'Like what you see? Visit the ' +\n",
              "            '<a target=\"_blank\" href=https://colab.research.google.com/notebooks/data_table.ipynb>data table notebook</a>'\n",
              "            + ' to learn more about interactive tables.';\n",
              "          element.innerHTML = '';\n",
              "          dataTable['output_type'] = 'display_data';\n",
              "          await google.colab.output.renderOutput(dataTable, element);\n",
              "          const docLink = document.createElement('div');\n",
              "          docLink.innerHTML = docLinkHtml;\n",
              "          element.appendChild(docLink);\n",
              "        }\n",
              "      </script>\n",
              "    </div>\n",
              "  </div>\n",
              "  "
            ]
          },
          "metadata": {},
          "execution_count": 28
        }
      ],
      "source": [
        "result = pd.DataFrame()\n",
        "result['Weights'] = best_lr.coef_[0]\n",
        "result['Abs_Weights'] = abs(best_lr.coef_[0])\n",
        "result['Features'] = list(X_train.columns)\n",
        "result = result.sort_values('Abs_Weights', ascending=False)\n",
        "\n",
        "result"
      ]
    },
    {
      "cell_type": "markdown",
      "metadata": {
        "id": "exufTJ3vQHFL"
      },
      "source": [
        "From the absolute weights we can see features like 'multi_products','creditscore_age_ratio_log','NumOfProducts','Germany', 'IsActiveMember' are most important and features like 'HasCrCard','Balance', and 'balance_salary_ratio' are least important. \n",
        "\n",
        "So feature engineering has helped alot.\n",
        "\n",
        "Let's drop the least important features and build the model again."
      ]
    },
    {
      "cell_type": "code",
      "execution_count": 29,
      "metadata": {
        "id": "DCzAbJ7pQHFL",
        "outputId": "eae6d803-31b0-49a1-ab2c-55a51e1d8a42",
        "colab": {
          "base_uri": "https://localhost:8080/",
          "height": 313
        }
      },
      "outputs": [
        {
          "output_type": "display_data",
          "data": {
            "text/plain": [
              "<Figure size 432x288 with 1 Axes>"
            ],
            "image/png": "[encoded data removed]"
          },
          "metadata": {
            "needs_background": "light"
          }
        },
        {
          "output_type": "stream",
          "name": "stdout",
          "text": [
            "Logistic Regression - Test AUC:  0.8359854461549378\n"
          ]
        }
      ],
      "source": [
        "X_train_imp = X_train.drop(['HasCrCard','Balance','balance_salary_ratio'],axis = 1)\n",
        "X_test_imp = X_test.drop(['HasCrCard','Balance','balance_salary_ratio'],axis = 1)\n",
        "\n",
        "lr_imp = LogisticRegression(C=best_c,class_weight='balanced', random_state=17, solver = 'liblinear')\n",
        "\n",
        "lr_imp.fit(X_train_imp,y_train)\n",
        "\n",
        "y_train_pred = batch_predict(lr_imp, X_train_imp)    \n",
        "y_test_pred = batch_predict(lr_imp, X_test_imp)\n",
        "\n",
        "train_fpr, train_tpr, tr_thresholds = roc_curve(y_train, y_train_pred)\n",
        "test_fpr, test_tpr, te_thresholds = roc_curve(y_test, y_test_pred)\n",
        "\n",
        "train_auc_lr = auc(train_fpr, train_tpr)\n",
        "test_auc_lr = auc(test_fpr, test_tpr)\n",
        "\n",
        "plt.plot(train_fpr, train_tpr, label=\"train AUC =\"+str(train_auc_lr))\n",
        "plt.plot(test_fpr, test_tpr, label=\"test AUC =\"+str(test_auc_lr))\n",
        "plt.legend()\n",
        "plt.xlabel(\"False Positive Rate\")\n",
        "plt.ylabel(\"True Positive Rate\")\n",
        "plt.title(\"AUC\")\n",
        "plt.grid()\n",
        "plt.show()\n",
        "\n",
        "print(\"Logistic Regression - Test AUC: \",test_auc_lr)"
      ]
    },
    {
      "cell_type": "code",
      "execution_count": 30,
      "metadata": {
        "id": "Al4o7SWyQHFL"
      },
      "outputs": [],
      "source": [
        "y_test_predicted = [1 if i > 0.5 else 0 for i in y_test_pred]"
      ]
    },
    {
      "cell_type": "code",
      "execution_count": 31,
      "metadata": {
        "id": "JT0C77zGQHFL",
        "outputId": "061c5203-fb4c-4e87-9929-ee92c7031b6e",
        "colab": {
          "base_uri": "https://localhost:8080/",
          "height": 331
        }
      },
      "outputs": [
        {
          "output_type": "stream",
          "name": "stdout",
          "text": [
            "\n",
            "Confusion matrix: Train data\n"
          ]
        },
        {
          "output_type": "display_data",
          "data": {
            "text/plain": [
              "<Figure size 432x288 with 1 Axes>"
            ],
            "image/png": "[encoded data removed]"
          },
          "metadata": {
            "needs_background": "light"
          }
        }
      ],
      "source": [
        "from sklearn.metrics import confusion_matrix\n",
        "cm_te = confusion_matrix(y_test, y_test_predicted)\n",
        "import seaborn as sns\n",
        "# Reference: https://seaborn.pydata.org/generated/seaborn.heatmap.html\n",
        "# Confusion matrix on train data\n",
        "print()\n",
        "print(\"Confusion matrix: Train data\")\n",
        "ax= plt.subplot()\n",
        "sns.heatmap(cm_te,annot=True,fmt='1g',cbar = False,cmap = 'YlOrRd')\n",
        "ax.set_xlabel('Predicted Class Labels');\n",
        "ax.set_ylabel('Actual Class Labels');\n",
        "ax.set_title('Confusion-Matrix: Test');\n",
        "plt.show()\n"
      ]
    },
    {
      "cell_type": "markdown",
      "metadata": {
        "id": "-EFxi9PSQHFM"
      },
      "source": [
        "Here we have used 0.5 as threshold. We can also try for different thersholds to find the best one."
      ]
    },
    {
      "cell_type": "code",
      "source": [
        "## Classification report\n",
        "from sklearn.metrics import classification_report\n",
        "cr = classification_report(y_test,y_test_predicted)\n",
        "print(cr)"
      ],
      "metadata": {
        "colab": {
          "base_uri": "https://localhost:8080/"
        },
        "id": "xUfWlq7kWAPd",
        "outputId": "1bafc795-25ce-4ab3-84d1-0b1589004893"
      },
      "execution_count": 37,
      "outputs": [
        {
          "output_type": "stream",
          "name": "stdout",
          "text": [
            "              precision    recall  f1-score   support\n",
            "\n",
            "           0       0.92      0.78      0.84      1593\n",
            "           1       0.46      0.75      0.57       407\n",
            "\n",
            "    accuracy                           0.77      2000\n",
            "   macro avg       0.69      0.76      0.71      2000\n",
            "weighted avg       0.83      0.77      0.79      2000\n",
            "\n"
          ]
        }
      ]
    },
    {
      "cell_type": "code",
      "execution_count": 38,
      "metadata": {
        "id": "2_LPnSdMQHFT",
        "outputId": "c3538617-b3f8-44c7-a7d5-f54bf7a84bbf",
        "colab": {
          "base_uri": "https://localhost:8080/"
        }
      },
      "outputs": [
        {
          "output_type": "stream",
          "name": "stdout",
          "text": [
            "+---------------------+-----------------+--------------------+\n",
            "|        Model        | Hyper parameter |   Auc on testset   |\n",
            "+---------------------+-----------------+--------------------+\n",
            "| Logistic Regression |  1/λ or C = 10  | 0.8359854461549378 |\n",
            "+---------------------+-----------------+--------------------+\n"
          ]
        }
      ],
      "source": [
        "from prettytable import PrettyTable\n",
        "\n",
        "pt = PrettyTable(['Model','Hyper parameter','Auc on testset'])\n",
        "pt.add_row(['Logistic Regression','1/λ or C = 10',test_auc_lr])\n",
        "print(pt)\n"
      ]
    },
    {
      "cell_type": "markdown",
      "metadata": {
        "id": "EX2Ksp6kQHFT"
      },
      "source": [
        "## Save model\n",
        "\n",
        "save the model + one hot encoder + standard scaler in one pickle file\n",
        "\n",
        "refer: https://stackoverflow.com/questions/42350635/how-can-you-pickle-multiple-objects-in-one-file"
      ]
    },
    {
      "cell_type": "code",
      "execution_count": 40,
      "metadata": {
        "id": "bW9cg7gFQHFU",
        "outputId": "5bb1b7e5-dd82-4cd0-fd2a-23b6f3401b86",
        "colab": {
          "base_uri": "https://localhost:8080/",
          "height": 71
        }
      },
      "outputs": [
        {
          "output_type": "stream",
          "name": "stdout",
          "text": [
            "Files Saved!\n"
          ]
        },
        {
          "output_type": "execute_result",
          "data": {
            "text/plain": [
              "'\\n# we should read them in the same order as we dumped.\\nwith open(\"model_logit.pickle\", \"rb\") as f:\\n    ohe = pickle.load(f)\\n    sc = pickle.load(f)\\n    lr_model = pickle.load(f)\\n'"
            ],
            "application/vnd.google.colaboratory.intrinsic+json": {
              "type": "string"
            }
          },
          "metadata": {},
          "execution_count": 40
        }
      ],
      "source": [
        "import pickle\n",
        "\n",
        "with open(\"model_logit.pickle\",\"wb\") as f:\n",
        "    pickle.dump(ohe, f)\n",
        "    pickle.dump(sc, f)\n",
        "    pickle.dump(lr_imp, f)\n",
        "\n",
        "print(\"Files Saved!\")\n",
        "\"\"\"\n",
        "# we should read them in the same order as we dumped.\n",
        "with open(\"model_logit.pickle\", \"rb\") as f:\n",
        "    ohe = pickle.load(f)\n",
        "    sc = pickle.load(f)\n",
        "    lr_model = pickle.load(f)\n",
        "\"\"\""
      ]
    },
    {
      "cell_type": "code",
      "execution_count": 41,
      "metadata": {
        "id": "hP2hzhIzQHFU",
        "outputId": "2ae36761-8c5f-43d9-8d76-82506b9d6d7c",
        "colab": {
          "base_uri": "https://localhost:8080/"
        }
      },
      "outputs": [
        {
          "output_type": "execute_result",
          "data": {
            "text/plain": [
              "['CreditScore',\n",
              " 'Gender',\n",
              " 'Age',\n",
              " 'Tenure',\n",
              " 'NumOfProducts',\n",
              " 'IsActiveMember',\n",
              " 'EstimatedSalary',\n",
              " 'balance_or_not',\n",
              " 'creditscore_age_ratio',\n",
              " 'creditscore_age_ratio_log',\n",
              " 'Better_Age_Credit',\n",
              " 'Better_Age_Credit_Active',\n",
              " 'multi_products',\n",
              " 'Valuable_customer',\n",
              " 'tenure_age_ratio',\n",
              " 'high_salary_age',\n",
              " 'France',\n",
              " 'Germany',\n",
              " 'Spain']"
            ]
          },
          "metadata": {},
          "execution_count": 41
        }
      ],
      "source": [
        "# columns used to build model\n",
        "X_train_imp.columns.tolist()"
      ]
    },
    {
      "cell_type": "code",
      "source": [],
      "metadata": {
        "id": "UFnvpcHfW6bk"
      },
      "execution_count": null,
      "outputs": []
    }
  ],
  "metadata": {
    "kernelspec": {
      "display_name": "Python 3",
      "language": "python",
      "name": "python3"
    },
    "language_info": {
      "codemirror_mode": {
        "name": "ipython",
        "version": 3
      },
      "file_extension": ".py",
      "mimetype": "text/x-python",
      "name": "python",
      "nbconvert_exporter": "python",
      "pygments_lexer": "ipython3",
      "version": "3.7.7"
    },
    "colab": {
      "provenance": []
    }
  },
  "nbformat": 4,
  "nbformat_minor": 0
}